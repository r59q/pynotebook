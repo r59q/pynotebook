{
 "cells": [
  {
   "cell_type": "markdown",
   "id": "48c8782c",
   "metadata": {},
   "source": [
    "#### Exercise 3.1\n",
    "\n",
    "Let\n",
    "    \n",
    "    s=2, t=3, A=([2,1,-1],[0,2,5]), B=([1,-1,0],[0,1,-1])\n",
    "For the following, decide what are legal operations, which aren't and why, and the resulting value if valid.\n",
    "\n",
    "    a) sB\n",
    "    b) A+tB\n",
    "    c) A^T\n",
    "    d) A^T+sB\n",
    "    e) sA^T-tB^T\n",
    "    f) AB\n",
    "    g) BA\n",
    "    h) A^T * B\n",
    "    i) sAB^T\n",
    "    j) BA^T * Bt"
   ]
  },
  {
   "cell_type": "code",
   "execution_count": 1,
   "id": "ff1071c5",
   "metadata": {},
   "outputs": [
    {
     "name": "stdout",
     "output_type": "stream",
     "text": [
      "a) -> \n",
      " [[ 2 -2  0]\n",
      " [ 0  2 -2]]\n",
      "b) -> \n",
      " [[ 5 -2 -1]\n",
      " [ 0  5  2]]\n",
      "c) -> \n",
      " [[ 2  0]\n",
      " [ 1  2]\n",
      " [-1  5]]\n",
      "d) ->  ERROR\n",
      "e) -> \n",
      " [[ 7  0]\n",
      " [-1  7]\n",
      " [-2  7]]\n",
      "f) -> \n",
      " ERROR\n",
      "g) -> \n",
      " ERROR\n",
      "h) -> \n",
      " [[ 2 -2  0]\n",
      " [ 1  1 -2]\n",
      " [-1  6 -5]]\n",
      "i) -> \n",
      " [[ 2  4]\n",
      " [-4 -6]]\n",
      "j) -> \n",
      " [[  3  -9   6]\n",
      " [  6 -15   9]]\n"
     ]
    }
   ],
   "source": [
    "import numpy as np\n",
    "s = 2; t = 3\n",
    "A = np.array([[2,1,-1],[0,2,5]])\n",
    "B = np.array([[1,-1,0],[0,1,-1]])\n",
    "\n",
    "# a) Valid scalar multiplication\n",
    "result = s*B\n",
    "print (\"a) -> \\n\" , result)\n",
    "\n",
    "# b) Valid matrix addition and scalar multiplication\n",
    "result = (A+t*B)\n",
    "print (\"b) -> \\n\" , result)\n",
    "\n",
    "# c) Valid transposing\n",
    "result = (A.T)\n",
    "print (\"c) -> \\n\" , result)\n",
    "\n",
    "# d) Invalid, because A^T and sB doesn't match in dimensions\n",
    "# result = (A.T + (s*B)) Produces error\n",
    "print (\"d) -> \" , \"ERROR\")\n",
    "\n",
    "# e) Valid scalar multiplication and addition of equal dimension matrices\n",
    "result = s*A.T+t*B.T\n",
    "print (\"e) -> \\n\" , result)\n",
    "\n",
    "# f) Invalid. The matrices' dimensions are not compatible.\n",
    "# result = np.dot(A,B) Error!\n",
    "print (\"f) -> \\n\" , \"ERROR\")\n",
    "\n",
    "# g) Invalid. The matrices' dimensions are not compatible.\n",
    "# result = np.dot(B,A) Error!\n",
    "print (\"g) -> \\n\" , \"ERROR\")\n",
    "\n",
    "# h) Valid. The matrices' dimensions are compatible.\n",
    "result = np.dot(A.T,B)\n",
    "print (\"h) -> \\n\" , result)\n",
    "\n",
    "# i) Valid. The matrices' dimensions are compatible. And scalar multiplication\n",
    "result = s*np.dot(A,B.T)\n",
    "print (\"i) -> \\n\" , result)\n",
    "\n",
    "# j) Valid. The matrices' dimensions are compatible. And scalar multiplication\n",
    "result = np.dot(np.dot(B,A.T), B*t) # BA^T * Bt\n",
    "print (\"j) -> \\n\" , result)"
   ]
  },
  {
   "cell_type": "markdown",
   "id": "19fc7c2e",
   "metadata": {},
   "source": [
    "#### Opgave 3.2\n",
    "Matrix products are not commutative. What effect could this have on a 3 dimensional robot arm?\n",
    "    \n",
    "    Dunno"
   ]
  },
  {
   "cell_type": "markdown",
   "id": "23d34964",
   "metadata": {},
   "source": [
    "#### Opgave 3.3\n",
    "Build the neighbour matrix (or edge matrix)"
   ]
  },
  {
   "cell_type": "code",
   "execution_count": 2,
   "id": "0411c5b5",
   "metadata": {
    "scrolled": true
   },
   "outputs": [],
   "source": [
    "A = np.array([\n",
    "    [0,1,0,1,0,0,0,0,0,0],\n",
    "    [1,0,1,0,0,0,0,0,0,0],\n",
    "    [0,1,0,1,1,0,0,0,0,0],\n",
    "    [1,1,1,0,0,0,1,0,0,0],\n",
    "    [0,0,1,0,0,1,0,0,0,1],\n",
    "    [0,0,0,0,1,0,1,0,1,1],\n",
    "    [0,0,0,1,0,1,0,0,0,0],\n",
    "    [0,0,0,0,0,0,0,0,1,0],\n",
    "    [0,0,0,0,0,1,0,1,0,1],\n",
    "    [0,0,0,0,1,1,0,0,1,0]\n",
    "])"
   ]
  },
  {
   "cell_type": "markdown",
   "id": "9cd6d2d6",
   "metadata": {},
   "source": [
    "    a) how many paths of length 2 to C_5?\n",
    "    b) how many paths of length 2 to C_7?\n",
    "    c) Which computers cannot be reached from C_9 with at most 3 steps?\n",
    "    d) Are there any computers that is unreachable from C_0 in 5 steps?"
   ]
  },
  {
   "cell_type": "code",
   "execution_count": 3,
   "id": "fc7f0537",
   "metadata": {},
   "outputs": [
    {
     "name": "stdout",
     "output_type": "stream",
     "text": [
      "a)->  11\n"
     ]
    }
   ],
   "source": [
    "print (\"a)-> \" , np.dot(A,A)[:,5].sum())"
   ]
  },
  {
   "cell_type": "code",
   "execution_count": 4,
   "id": "278f6543",
   "metadata": {},
   "outputs": [
    {
     "name": "stdout",
     "output_type": "stream",
     "text": [
      "b)->  3\n"
     ]
    }
   ],
   "source": [
    "print (\"b)-> \" , np.dot(A,A)[:,7].sum())"
   ]
  },
  {
   "cell_type": "code",
   "execution_count": 5,
   "id": "2eb6ea3f",
   "metadata": {},
   "outputs": [
    {
     "name": "stdout",
     "output_type": "stream",
     "text": [
      "c)->  [0 1 1 2 6 6 2 1 6 4]\n"
     ]
    }
   ],
   "source": [
    "print (\"c)-> \" , np.dot(A,np.dot(A,A))[:,9])"
   ]
  },
  {
   "cell_type": "code",
   "execution_count": 6,
   "id": "ac7bb30d",
   "metadata": {},
   "outputs": [
    {
     "name": "stdout",
     "output_type": "stream",
     "text": [
      "d)->  [ 9 22 11 26 16 12  4  1  5  5]\n",
      "No zeroes means theres always at least one\n"
     ]
    }
   ],
   "source": [
    "print (\"d)-> \" , np.dot(np.dot(np.dot(np.dot(A,A),A),A),A)[0,:])\n",
    "print(\"No zeroes means theres always at least one\")"
   ]
  },
  {
   "cell_type": "markdown",
   "id": "e48773a0",
   "metadata": {},
   "source": [
    "#### Opgave 3.4"
   ]
  },
  {
   "cell_type": "code",
   "execution_count": 7,
   "id": "2d2d1809",
   "metadata": {},
   "outputs": [
    {
     "data": {
      "text/plain": [
       "<matplotlib.image.AxesImage at 0x7f5c6ea4e2c0>"
      ]
     },
     "execution_count": 7,
     "metadata": {},
     "output_type": "execute_result"
    },
    {
     "data": {
      "image/png": "[encoded data removed]",
      "text/plain": [
       "<Figure size 432x288 with 1 Axes>"
      ]
     },
     "metadata": {
      "needs_background": "light"
     },
     "output_type": "display_data"
    }
   ],
   "source": [
    "import matplotlib.pyplot as plt\n",
    "import numpy as np\n",
    "\n",
    "v = np.array([1.0, 1.0, 0.0, 1.0, 1.0])[:, np.newaxis]\n",
    "wt = np.array([[1.0, 1.0, 0.0, 1.0, 1.0, 1.0]])\n",
    "fig, ax = plt.subplots()\n",
    "\n",
    "result = v @ wt\n",
    "ax.matshow(result, cmap='Reds', clim=(0.0,1.2))"
   ]
  },
  {
   "cell_type": "code",
   "execution_count": 8,
   "id": "a9e2cdfe",
   "metadata": {},
   "outputs": [
    {
     "name": "stdout",
     "output_type": "stream",
     "text": [
      "[[1. 1. 1. 1.]\n",
      " [0. 0. 0. 0.]\n",
      " [1. 1. 1. 1.]]\n"
     ]
    },
    {
     "data": {
      "text/plain": [
       "<matplotlib.image.AxesImage at 0x7f5c6c931fc0>"
      ]
     },
     "execution_count": 8,
     "metadata": {},
     "output_type": "execute_result"
    },
    {
     "data": {
      "image/png": "[encoded data removed]",
      "text/plain": [
       "<Figure size 432x288 with 1 Axes>"
      ]
     },
     "metadata": {
      "needs_background": "light"
     },
     "output_type": "display_data"
    }
   ],
   "source": [
    "v = np.array([1.0, 0.0, 1.0])[:, np.newaxis]\n",
    "wt = np.array([[1.0, 1.0, 1.0, 1.0]])\n",
    "fig, ax = plt.subplots()\n",
    "\n",
    "result = v @ wt\n",
    "print(result)\n",
    "ax.matshow(result, cmap='Reds', clim=(0.0,1.2))"
   ]
  },
  {
   "cell_type": "code",
   "execution_count": 9,
   "id": "f69a9a46",
   "metadata": {},
   "outputs": [
    {
     "name": "stdout",
     "output_type": "stream",
     "text": [
      "[[-1. -1.  0.  0.  1.  1.]\n",
      " [-1. -1.  0.  0.  1.  1.]\n",
      " [-1. -1.  0.  0.  1.  1.]\n",
      " [-1. -1.  0.  0.  1.  1.]]\n"
     ]
    },
    {
     "data": {
      "text/plain": [
       "<matplotlib.image.AxesImage at 0x7f5c6c98bc70>"
      ]
     },
     "execution_count": 9,
     "metadata": {},
     "output_type": "execute_result"
    },
    {
     "data": {
      "image/png": "[encoded data removed]",
      "text/plain": [
       "<Figure size 432x288 with 1 Axes>"
      ]
     },
     "metadata": {
      "needs_background": "light"
     },
     "output_type": "display_data"
    }
   ],
   "source": [
    "v = np.array([1.0, 1.0, 1.0, 1.0])[:, np.newaxis]\n",
    "wt = np.array([[-1.0, -1.0, 0.0, 0.0, 1.0, 1.0]])\n",
    "fig, ax = plt.subplots()\n",
    "\n",
    "result = v @ wt\n",
    "print(result)\n",
    "ax.matshow(result, cmap='coolwarm', clim=(-1.0,1.0))"
   ]
  },
  {
   "cell_type": "code",
   "execution_count": 10,
   "id": "25c6b819",
   "metadata": {},
   "outputs": [
    {
     "name": "stdout",
     "output_type": "stream",
     "text": [
      "[[ 1.  1.  1.  1.  1.  1.  1.  1.]\n",
      " [ 0.  0.  0.  0.  0.  0.  0.  0.]\n",
      " [-1. -1. -1. -1. -1. -1. -1. -1.]\n",
      " [-1. -1. -1. -1. -1. -1. -1. -1.]\n",
      " [ 0.  0.  0.  0.  0.  0.  0.  0.]\n",
      " [ 1.  1.  1.  1.  1.  1.  1.  1.]]\n"
     ]
    },
    {
     "data": {
      "text/plain": [
       "<matplotlib.image.AxesImage at 0x7f5c6c806380>"
      ]
     },
     "execution_count": 10,
     "metadata": {},
     "output_type": "execute_result"
    },
    {
     "data": {
      "image/png": "[encoded data removed]",
      "text/plain": [
       "<Figure size 432x288 with 1 Axes>"
      ]
     },
     "metadata": {
      "needs_background": "light"
     },
     "output_type": "display_data"
    }
   ],
   "source": [
    "v = np.array([1.0, 0.0, -1.0, -1.0, 0.0, 1.0])[:, np.newaxis]\n",
    "wt = np.array([[1.0, 1.0, 1.0, 1.0, 1.0, 1.0, 1.0, 1.0]])\n",
    "fig, ax = plt.subplots()\n",
    "\n",
    "result = v @ wt\n",
    "print(result)\n",
    "ax.matshow(result, cmap='coolwarm', clim=(-1.0,1.0))"
   ]
  },
  {
   "cell_type": "code",
   "execution_count": 11,
   "id": "14609578",
   "metadata": {},
   "outputs": [
    {
     "name": "stdout",
     "output_type": "stream",
     "text": [
      "[[ 1.  1.  1.  1.  1.  1.  1.  1.]\n",
      " [ 0.  0.  0.  0.  0.  0.  0.  0.]\n",
      " [-1. -1. -1. -1. -1. -1. -1. -1.]\n",
      " [-1. -1. -1. -1. -1. -1. -1. -1.]\n",
      " [ 0.  0.  0.  0.  0.  0.  0.  0.]\n",
      " [ 1.  1.  1.  1.  1.  1.  1.  1.]]\n"
     ]
    },
    {
     "data": {
      "text/plain": [
       "<matplotlib.image.AxesImage at 0x7f5c6c86e2f0>"
      ]
     },
     "execution_count": 11,
     "metadata": {},
     "output_type": "execute_result"
    },
    {
     "data": {
      "image/png": "[encoded data removed]",
      "text/plain": [
       "<Figure size 432x288 with 1 Axes>"
      ]
     },
     "metadata": {
      "needs_background": "light"
     },
     "output_type": "display_data"
    }
   ],
   "source": [
    "v = np.array([1.0, 0.0, -1.0, -1.0, 0.0, 1.0])[:, np.newaxis]\n",
    "wt = np.array([[1.0, 1.0, 1.0, 1.0, 1.0, 1.0, 1.0, 1.0]])\n",
    "fig, ax = plt.subplots()\n",
    "\n",
    "result = v @ wt\n",
    "print(result)\n",
    "ax.matshow(result, cmap='coolwarm', clim=(-1.0,1.0))"
   ]
  },
  {
   "cell_type": "code",
   "execution_count": null,
   "id": "ce5fd2a7",
   "metadata": {},
   "outputs": [],
   "source": []
  }
 ],
 "metadata": {
  "kernelspec": {
   "display_name": "Python 3 (ipykernel)",
   "language": "python",
   "name": "python3"
  },
  "language_info": {
   "codemirror_mode": {
    "name": "ipython",
    "version": 3
   },
   "file_extension": ".py",
   "mimetype": "text/x-python",
   "name": "python",
   "nbconvert_exporter": "python",
   "pygments_lexer": "ipython3",
   "version": "3.10.2"
  }
 },
 "nbformat": 4,
 "nbformat_minor": 5
}
