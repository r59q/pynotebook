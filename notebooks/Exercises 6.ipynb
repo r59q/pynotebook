{
 "cells": [
  {
   "cell_type": "markdown",
   "id": "cc761b3c",
   "metadata": {},
   "source": [
    "# Exercises 6\n",
    "\n",
    "## 6.1\n",
    "\n",
    "Reducér\n",
    "\n",
    "(a) $(AB^{-1})^{-1}A$\n",
    "\n",
    "$$(AB^{-1})^{-1}A$$\n",
    "$$=BA^{-1}A$$\n",
    "$$=BI$$\n",
    "$$=B$$\n",
    "\n",
    "\n",
    "(b) $A^{-1}(A^TB)^T$\n",
    "\n",
    "$$A^{-1}(A^TB)^T$$\n",
    "$$=A^{-1}B^TA$$\n",
    "\n",
    "(c) $(AC)^{-1}(ABA^{-1})(AC)$\n",
    "\n",
    "$$(AC)^{-1}(ABA^{-1})(AC)$$\n",
    "$$=C^{-1}A^{-1}(ABA^{-1})(AC)$$\n",
    "$$=C^{-1}(A^{-1}AB)A^{-1}(AC)$$\n",
    "$$=C^{-1}(IB)A^{-1}(AC)$$\n",
    "$$=C^{-1}(IB)(A^T)^{-1}A)C$$\n",
    "$$=C^{-1}BC$$\n",
    "\n",
    "(d) $(A^{-1}B)^TA^T$\n",
    "\n",
    "$$(A^{-1}B)^TA^T$$\n",
    "$$=B^T(A^T)^{-1}A^T$$\n",
    "$$=B^TI$$\n",
    "$$=B^T$$\n"
   ]
  },
  {
   "cell_type": "code",
   "execution_count": 1,
   "id": "20792338",
   "metadata": {},
   "outputs": [
    {
     "name": "stdout",
     "output_type": "stream",
     "text": [
      "[[2952.62 2908.73]\n",
      " [2930.68 2886.79]]\n"
     ]
    }
   ],
   "source": [
    "import numpy as np\n",
    "n = 2\n",
    "A = np.zeros((n,n))\n",
    "i = 1\n",
    "for x in range(n):\n",
    "    for y in range(n):\n",
    "        A[x,y] = i * np.sqrt(1/i)\n",
    "        i+=1;\n",
    "\n",
    "\n",
    "B = np.zeros((n,n))\n",
    "i = 1000\n",
    "for x in range(n):\n",
    "    for y in range(n):\n",
    "        B[x,y] = i * 10 / np.sqrt(1/i**0.2) - 17000\n",
    "        i-=1;\n",
    "\n",
    "print(np.around(np.linalg.inv(A) @ A @ B.T ,2))"
   ]
  },
  {
   "cell_type": "markdown",
   "id": "ba687564",
   "metadata": {},
   "source": [
    "## 6.3\n",
    "(a)\n",
    "(b)"
   ]
  },
  {
   "cell_type": "code",
   "execution_count": 1,
   "id": "820c1168",
   "metadata": {},
   "outputs": [],
   "source": [
    "import numpy as np\n",
    "\n",
    "def hhm(x): \n",
    "    u = x / np.linalg.norm(x)\n",
    "    eps = -1 if u[0,0] >= 0 else 1\n",
    "    s = 1+ np.abs(u[0,0])\n",
    "    e0 = np.array([1.,0,0])[:, np.newaxis]\n",
    "    vv = (1/s) * (e0 - eps*u)\n",
    "    I = np.eye(x.shape[0])\n",
    "    H = I - s * vv @ vv.T\n",
    "    return H"
   ]
  },
  {
   "cell_type": "code",
   "execution_count": 2,
   "id": "4674778a",
   "metadata": {},
   "outputs": [
    {
     "data": {
      "text/plain": [
       "array([[ 0.,  0., -1.],\n",
       "       [ 0.,  1.,  0.],\n",
       "       [-1.,  0.,  0.]])"
      ]
     },
     "execution_count": 2,
     "metadata": {},
     "output_type": "execute_result"
    }
   ],
   "source": [
    "hhm(np.array([0.,0,1])[:, np.newaxis])"
   ]
  },
  {
   "cell_type": "code",
   "execution_count": 3,
   "id": "66c63d3c",
   "metadata": {},
   "outputs": [
    {
     "data": {
      "text/plain": [
       "array([[-3.00000000e+00],\n",
       "       [ 5.55111512e-17],\n",
       "       [-2.22044605e-16]])"
      ]
     },
     "execution_count": 3,
     "metadata": {},
     "output_type": "execute_result"
    }
   ],
   "source": [
    "hhm(np.array([2,1,-2.])[:, np.newaxis]) @ np.array([2,1,-2.])[:, np.newaxis]"
   ]
  },
  {
   "cell_type": "code",
   "execution_count": 4,
   "id": "741457f8",
   "metadata": {},
   "outputs": [
    {
     "data": {
      "text/plain": [
       "array([[-1.],\n",
       "       [ 0.],\n",
       "       [ 0.]])"
      ]
     },
     "execution_count": 4,
     "metadata": {},
     "output_type": "execute_result"
    }
   ],
   "source": [
    "hhm(np.array([0.,0,1])[:, np.newaxis]) @ np.array([0.,0,1])[:, np.newaxis]"
   ]
  },
  {
   "cell_type": "code",
   "execution_count": null,
   "id": "8572813b",
   "metadata": {},
   "outputs": [],
   "source": []
  }
 ],
 "metadata": {
  "kernelspec": {
   "display_name": "Python 3 (ipykernel)",
   "language": "python",
   "name": "python3"
  },
  "language_info": {
   "codemirror_mode": {
    "name": "ipython",
    "version": 3
   },
   "file_extension": ".py",
   "mimetype": "text/x-python",
   "name": "python",
   "nbconvert_exporter": "python",
   "pygments_lexer": "ipython3",
   "version": "3.9.5"
  }
 },
 "nbformat": 4,
 "nbformat_minor": 5
}
