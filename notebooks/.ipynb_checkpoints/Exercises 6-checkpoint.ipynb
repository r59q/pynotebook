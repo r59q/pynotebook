{
 "cells": [
  {
   "cell_type": "markdown",
   "id": "f8fe8d70",
   "metadata": {},
   "source": [
    "# Exercises 6\n",
    "\n",
    "## 6.1\n",
    "\n",
    "Reducér\n",
    "\n",
    "(a) $(AB^{-1})^{-1}A$\n",
    "\n",
    "$$(AB^{-1})^{-1}A$$\n",
    "$$=BA^{-1}A$$\n",
    "$$=BI$$\n",
    "$$=B$$\n",
    "\n",
    "\n",
    "(b) $A^{-1}(A^TB)^T$\n",
    "\n",
    "$$A^{-1}(A^TB)^T$$\n",
    "$$=A^{-1}B^TA$$\n",
    "$$= (B(A^{-1})^T)^TA $$\n",
    "\n",
    "(c) $(AC)^{-1}(ABA^{-1})(AC)$\n",
    "\n",
    "$$(AC)^{-1}(ABA^{-1})(AC)$$\n",
    "$$=C^{-1}A^{-1}(ABA^{-1})(AC)$$\n",
    "$$=C^{-1}(A^{-1}AB)A^{-1}(AC)$$\n",
    "$$=C^{-1}(IB)A^{-1}(AC)$$\n",
    "$$=C^{-1}(IB)(A^T)^{-1}AC)$$\n",
    "\n",
    "(d) $(A^{-1}B)^TA^T$\n",
    "\n",
    "\n"
   ]
  },
  {
   "cell_type": "code",
   "execution_count": 43,
   "id": "e1d23fc3",
   "metadata": {},
   "outputs": [
    {
     "name": "stdout",
     "output_type": "stream",
     "text": [
      "[[2952.62 2908.73]\n",
      " [2930.68 2886.79]]\n"
     ]
    }
   ],
   "source": [
    "import numpy as np\n",
    "n = 2\n",
    "A = np.zeros((n,n))\n",
    "i = 1\n",
    "for x in range(n):\n",
    "    for y in range(n):\n",
    "        A[x,y] = i * np.sqrt(1/i)\n",
    "        i+=1;\n",
    "\n",
    "\n",
    "B = np.zeros((n,n))\n",
    "i = 1000\n",
    "for x in range(n):\n",
    "    for y in range(n):\n",
    "        B[x,y] = i * 10 / np.sqrt(1/i**0.2) - 17000\n",
    "        i-=1;\n",
    "\n",
    "print(np.around(np.linalg.inv(A) @ A @ B.T ,2))"
   ]
  },
  {
   "cell_type": "code",
   "execution_count": null,
   "id": "0aa030ac",
   "metadata": {},
   "outputs": [],
   "source": []
  }
 ],
 "metadata": {
  "kernelspec": {
   "display_name": "Python 3 (ipykernel)",
   "language": "python",
   "name": "python3"
  },
  "language_info": {
   "codemirror_mode": {
    "name": "ipython",
    "version": 3
   },
   "file_extension": ".py",
   "mimetype": "text/x-python",
   "name": "python",
   "nbconvert_exporter": "python",
   "pygments_lexer": "ipython3",
   "version": "3.10.2"
  }
 },
 "nbformat": 4,
 "nbformat_minor": 5
}
