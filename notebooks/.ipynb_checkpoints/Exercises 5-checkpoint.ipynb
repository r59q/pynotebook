{
 "cells": [
  {
   "cell_type": "markdown",
   "id": "0a8e61cc",
   "metadata": {},
   "source": [
    "# Forelæsning 10\n",
    "\n"
   ]
  },
  {
   "cell_type": "code",
   "execution_count": null,
   "id": "b51dba9a",
   "metadata": {},
   "outputs": [],
   "source": []
  },
  {
   "cell_type": "markdown",
   "id": "7dc91010",
   "metadata": {},
   "source": [
    "## SVD første ide\n",
    "\n",
    "$v = \\begin{bmatrix}v_0\\\\v_1\\end{bmatrix}$\n",
    "$u = \\begin{bmatrix}u_0\\\\u_1\\end{bmatrix}$\n",
    "\n",
    "$v\\perp u$\n",
    "\n",
    "$A=U\\Sigma V^T$ (singuular value decomposition)\n",
    "\n",
    "$\\implies \\sigma_0u_0v^T_0+\\sigma_1u_1v_1^T$\n",
    "\n",
    "\n",
    "$\\implies \\begin{bmatrix}\\sigma_0u_0 & \\sigma_1u_1\\end{bmatrix} \\begin{bmatrix}v_0\\\\v_1\\end{bmatrix}$"
   ]
  },
  {
   "cell_type": "code",
   "execution_count": 1,
   "id": "a3dd73f4",
   "metadata": {},
   "outputs": [
    {
     "data": {
      "text/plain": [
       "[<matplotlib.lines.Line2D at 0x15e9cbf2cd0>]"
      ]
     },
     "execution_count": 1,
     "metadata": {},
     "output_type": "execute_result"
    },
    {
     "data": {
      "image/png": "[encoded data removed]",
      "text/plain": [
       "<Figure size 432x288 with 1 Axes>"
      ]
     },
     "metadata": {
      "needs_background": "light"
     },
     "output_type": "display_data"
    }
   ],
   "source": [
    "import numpy as np\n",
    "import matplotlib.pyplot as plt\n",
    "\n",
    "theta = np.linspace(0,2*np.pi,100)\n",
    "\n",
    "x = np.cos(theta)\n",
    "y = np.sin(theta)\n",
    "\n",
    "circle = np.array([x,y])\n",
    "\n",
    "fix, ax = plt.subplots()\n",
    "ax.set_aspect(\"equal\")\n",
    "\n",
    "ax.plot(*circle)"
   ]
  },
  {
   "cell_type": "code",
   "execution_count": 2,
   "id": "7f263fca",
   "metadata": {},
   "outputs": [
    {
     "name": "stdout",
     "output_type": "stream",
     "text": [
      "[[-24.69144946  -2.49675201]\n",
      " [-52.79517505  30.47926135]]\n"
     ]
    },
    {
     "data": {
      "text/plain": [
       "[<matplotlib.lines.Line2D at 0x15e9ed013a0>]"
      ]
     },
     "execution_count": 2,
     "metadata": {},
     "output_type": "execute_result"
    },
    {
     "data": {
      "image/png": "[encoded data removed]",
      "text/plain": [
       "<Figure size 432x288 with 1 Axes>"
      ]
     },
     "metadata": {
      "needs_background": "light"
     },
     "output_type": "display_data"
    }
   ],
   "source": [
    "a = np.random.normal(0.0,25,(2,2))\n",
    "\n",
    "print(a)\n",
    "\n",
    "fix, ax = plt.subplots()\n",
    "ax.set_aspect(\"equal\")\n",
    "\n",
    "ax.plot(*(a @ circle))"
   ]
  },
  {
   "cell_type": "code",
   "execution_count": 3,
   "id": "87504617",
   "metadata": {},
   "outputs": [
    {
     "data": {
      "text/plain": [
       "(array([[-0.32864415, -0.94445382],\n",
       "        [-0.94445382,  0.32864415]]),\n",
       " array([64.36962774, 13.7392996 ]),\n",
       " array([[ 0.9006935 , -0.43445508],\n",
       "        [ 0.43445508,  0.9006935 ]]))"
      ]
     },
     "execution_count": 3,
     "metadata": {},
     "output_type": "execute_result"
    }
   ],
   "source": [
    "np.linalg.svd(a)"
   ]
  },
  {
   "cell_type": "code",
   "execution_count": 4,
   "id": "19b0d933",
   "metadata": {},
   "outputs": [
    {
     "name": "stdout",
     "output_type": "stream",
     "text": [
      "[[-0.32864415 -0.94445382]\n",
      " [-0.94445382  0.32864415]]\n",
      "[64.36962774 13.7392996 ]\n",
      "[[ 0.9006935  -0.43445508]\n",
      " [ 0.43445508  0.9006935 ]]\n"
     ]
    }
   ],
   "source": [
    "u, s, vt = np.linalg.svd(a)\n",
    "print (u)\n",
    "print (s)\n",
    "print (vt)"
   ]
  },
  {
   "cell_type": "code",
   "execution_count": 6,
   "id": "ece9b73f",
   "metadata": {},
   "outputs": [
    {
     "data": {
      "text/plain": [
       "array([[ 1.00000000e+00, -1.03351773e-17],\n",
       "       [-1.03351773e-17,  1.00000000e+00]])"
      ]
     },
     "execution_count": 6,
     "metadata": {},
     "output_type": "execute_result"
    }
   ],
   "source": [
    "u.T @ u # Orthogonal"
   ]
  },
  {
   "cell_type": "code",
   "execution_count": 7,
   "id": "379b2ce1",
   "metadata": {},
   "outputs": [
    {
     "data": {
      "text/plain": [
       "array([[1.00000000e+00, 2.73837549e-17],\n",
       "       [2.73837549e-17, 1.00000000e+00]])"
      ]
     },
     "execution_count": 7,
     "metadata": {},
     "output_type": "execute_result"
    }
   ],
   "source": [
    "vt @ vt.T # Orthogonal"
   ]
  },
  {
   "cell_type": "code",
   "execution_count": null,
   "id": "338ac4eb",
   "metadata": {},
   "outputs": [],
   "source": []
  },
  {
   "cell_type": "markdown",
   "id": "3e333dff",
   "metadata": {},
   "source": [
    "## SVD generalt"
   ]
  },
  {
   "cell_type": "code",
   "execution_count": null,
   "id": "6448b74f",
   "metadata": {},
   "outputs": [],
   "source": []
  }
 ],
 "metadata": {
  "kernelspec": {
   "display_name": "Python 3 (ipykernel)",
   "language": "python",
   "name": "python3"
  },
  "language_info": {
   "codemirror_mode": {
    "name": "ipython",
    "version": 3
   },
   "file_extension": ".py",
   "mimetype": "text/x-python",
   "name": "python",
   "nbconvert_exporter": "python",
   "pygments_lexer": "ipython3",
   "version": "3.9.5"
  }
 },
 "nbformat": 4,
 "nbformat_minor": 5
}
