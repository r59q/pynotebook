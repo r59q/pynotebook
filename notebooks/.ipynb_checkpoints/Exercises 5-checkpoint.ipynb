{
 "cells": [
  {
   "cell_type": "markdown",
   "id": "5f5a9205",
   "metadata": {},
   "source": [
    "## Konditionstal\n",
    "Ændring i f(x).\n",
    "Hvis x+h med h lille, hvor meget ændres f(x)?\n",
    "\n",
    "The change is\n",
    "$$f(x+h)-f(x)$$\n",
    "\n",
    "### Absolute condition\n",
    "$$\\frac{change\\ in\\ f(x)}{change\\ in\\ x}$$\n",
    "dette er det same som $|f'(x)|$ når  $h\\to 0$"
   ]
  },
  {
   "cell_type": "markdown",
   "id": "ec2a5202",
   "metadata": {},
   "source": [
    "### Relative condition\n",
    "\n",
    "Mere relevant for float er\n",
    "\n",
    "$$\\frac{relative\\ change\\ in\\ f(x)}{relative\\ change\\ in\\ x}$$\n",
    "\n",
    "findes som\n",
    "$$k(x)=\\frac{|x||f'(x)|}{|f(x)|}$$"
   ]
  },
  {
   "cell_type": "markdown",
   "id": "a66898cb",
   "metadata": {},
   "source": [
    "#### Eksempel for $f(x)=x^2$\n",
    "\n",
    "$$k(x)=\\frac{|x||2x|}{|x^2|}=2$$\n",
    "\n",
    "dvs. den relative fejl fordobles.\n",
    "\n",
    "### Acceptable konditionstal\n",
    "1 eller 10 kan godt accepteres, \n",
    "men 10⁶ er for stort. Vi mister mange betydende cifre"
   ]
  },
  {
   "cell_type": "markdown",
   "id": "fc37ddec",
   "metadata": {},
   "source": [
    "### Funktioner af flere variabler\n",
    "\n",
    "$f:\\mathbb{R}^n\\to \\mathbb{R}, f(x_0,x_1,\\cdots,x_{n-1})\\in\\mathbb{R}$ har gradienten\n",
    "$$(\\Delta f)_x=(\\frac{\\partial f}{\\partial x_0},\\frac{\\partial f}{\\partial x_1}, \\cdots, \\frac{\\partial f}{\\partial x_{n-1}})$$\n",
    "\n",
    "Konditionstallet er \n",
    "$$k(x)=\\frac{||x||_2||(\\Delta f)_x||_2}{|f(x)|}$$"
   ]
  },
  {
   "cell_type": "code",
   "execution_count": null,
   "id": "2dcb41f7",
   "metadata": {},
   "outputs": [],
   "source": []
  }
 ],
 "metadata": {
  "kernelspec": {
   "display_name": "Python 3 (ipykernel)",
   "language": "python",
   "name": "python3"
  },
  "language_info": {
   "codemirror_mode": {
    "name": "ipython",
    "version": 3
   },
   "file_extension": ".py",
   "mimetype": "text/x-python",
   "name": "python",
   "nbconvert_exporter": "python",
   "pygments_lexer": "ipython3",
   "version": "3.10.2"
  }
 },
 "nbformat": 4,
 "nbformat_minor": 5
}
