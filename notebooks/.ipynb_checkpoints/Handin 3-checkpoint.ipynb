{
 "cells": [
  {
   "cell_type": "markdown",
   "id": "5115299e",
   "metadata": {},
   "source": [
    "# Handin 3\n",
    "   ### Andreas Malthe Henriksen ( 202004107 )"
   ]
  },
  {
   "cell_type": "markdown",
   "id": "9cd1a0e4",
   "metadata": {},
   "source": [
    "You've built a drone, but it has a problem overheating. Temperature measurements were taken.\n",
    "\n",
    "<table>\n",
    "    <tr>\n",
    "        <td>Time (minutes)</td>\n",
    "        <td>2</td>\n",
    "        <td>5</td>\n",
    "        <td>8</td>\n",
    "        <td>10</td>\n",
    "        <td>11</td>\n",
    "    </tr>\n",
    "    <tr>\n",
    "        <td>Temperature (celcius)</td>\n",
    "        <td>35</td>\n",
    "        <td>40</td>\n",
    "        <td>50</td>\n",
    "        <td>65</td>\n",
    "        <td>70</td>\n",
    "    </tr>\n",
    "</table>\n",
    "\n",
    "#### (a) Plot the observed data"
   ]
  },
  {
   "cell_type": "code",
   "execution_count": 1,
   "id": "3ef9f104",
   "metadata": {},
   "outputs": [],
   "source": [
    "import numpy as np\n",
    "import matplotlib.pyplot as plt"
   ]
  },
  {
   "cell_type": "code",
   "execution_count": 2,
   "id": "c7869be1",
   "metadata": {},
   "outputs": [],
   "source": [
    "time = np.array([2,5,8,10,11])\n",
    "temp = np.array([35,40,50,65,70])"
   ]
  },
  {
   "cell_type": "code",
   "execution_count": 3,
   "id": "a0bdde50",
   "metadata": {
    "scrolled": true
   },
   "outputs": [
    {
     "data": {
      "text/plain": [
       "[<matplotlib.lines.Line2D at 0x7f916cbea470>]"
      ]
     },
     "execution_count": 3,
     "metadata": {},
     "output_type": "execute_result"
    },
    {
     "data": {
      "image/png": "[encoded data removed]",
      "text/plain": [
       "<Figure size 432x288 with 1 Axes>"
      ]
     },
     "metadata": {
      "needs_background": "light"
     },
     "output_type": "display_data"
    }
   ],
   "source": [
    "fig, ax = plt.subplots()\n",
    "\n",
    "ax.plot(time,temp)"
   ]
  },
  {
   "cell_type": "markdown",
   "id": "8481dc03",
   "metadata": {},
   "source": [
    "We want a good estimate as to when the temperature exceeds 55 degrees. Consider the polynomial $p(x)=a+bx+cx²$. \n",
    "#### (b) Set up a linear system of equations, such that p intersects the points given in the table above."
   ]
  },
  {
   "cell_type": "markdown",
   "id": "ddf6126f",
   "metadata": {},
   "source": [
    "$$a+8b+64c=50$$\n",
    "$$a+10b+100c=65$$\n",
    "$$a+11b+121c=70$$\n",
    "\n",
    "Will be set up using the np.arrays, like so"
   ]
  },
  {
   "cell_type": "code",
   "execution_count": 4,
   "id": "b0e64820",
   "metadata": {},
   "outputs": [
    {
     "name": "stdout",
     "output_type": "stream",
     "text": [
      "[[  1.   8.  64.  50.]\n",
      " [  1.  10. 100.  65.]\n",
      " [  1.  11. 121.  70.]] \n",
      "\n",
      " r1 <= r1 - r0\n",
      "[[  1.   8.  64.  50.]\n",
      " [  0.   2.  36.  15.]\n",
      " [  1.  11. 121.  70.]] \n",
      "\n",
      " r2 <= r2 - r0\n",
      "[[ 1.  8. 64. 50.]\n",
      " [ 0.  2. 36. 15.]\n",
      " [ 0.  3. 57. 20.]] \n",
      "\n",
      " r1 <= r1 * 0.5\n",
      "[[ 1.   8.  64.  50. ]\n",
      " [ 0.   1.  18.   7.5]\n",
      " [ 0.   3.  57.  20. ]] \n",
      "\n",
      " r2 <= r2 - 3 * r1\n",
      "[[ 1.   8.  64.  50. ]\n",
      " [ 0.   1.  18.   7.5]\n",
      " [ 0.   0.   3.  -2.5]] \n",
      "\n",
      " r2 <= (1/3) * r2\n",
      "[[ 1.          8.         64.         50.        ]\n",
      " [ 0.          1.         18.          7.5       ]\n",
      " [ 0.          0.          1.         -0.83333333]] \n",
      "\n",
      " r1 <= r1 - 18 * r2\n",
      "[[ 1.          8.         64.         50.        ]\n",
      " [ 0.          1.          0.         22.5       ]\n",
      " [ 0.          0.          1.         -0.83333333]] \n",
      "\n",
      " r0 <= r0 - 64 * r2\n",
      "[[  1.           8.           0.         103.33333333]\n",
      " [  0.           1.           0.          22.5       ]\n",
      " [  0.           0.           1.          -0.83333333]] \n",
      "\n",
      " r0 <= r0 - 8 * r1\n",
      "[[  1.           0.           0.         -76.66666667]\n",
      " [  0.           1.           0.          22.5       ]\n",
      " [  0.           0.           1.          -0.83333333]] \n",
      "\n",
      "\n"
     ]
    }
   ],
   "source": [
    "m = np.array([\n",
    "    [1., 8.,  64.,  50.],\n",
    "    [1., 10., 100,  65.],\n",
    "    [1., 11., 121., 70.]\n",
    "])\n",
    "\n",
    "print(m, \"\\n\\n r1 <= r1 - r0\")\n",
    "m[1,:] -= m[0,:]\n",
    "print(m, \"\\n\\n r2 <= r2 - r0\")\n",
    "m[2,:] -= m[0,:]\n",
    "print(m, \"\\n\\n r1 <= r1 * 0.5\")\n",
    "m[1,:] = m[1,:] * 0.5 \n",
    "print(m, \"\\n\\n r2 <= r2 - 3 * r1\")\n",
    "m[2,:] -= 3* m[1,:] \n",
    "print(m, \"\\n\\n r2 <= (1/3) * r2\")\n",
    "m[2,:] = (1/3.) * m[2,:] \n",
    "print(m, \"\\n\\n r1 <= r1 - 18 * r2\")\n",
    "m[1,:] -= 18 * m[2,:]\n",
    "print(m, \"\\n\\n r0 <= r0 - 64 * r2\")\n",
    "m[0,:] -= 64 * m[2,:]\n",
    "print(m, \"\\n\\n r0 <= r0 - 8 * r1\")\n",
    "m[0,:] -= 8 * m[1,:] \n",
    "print(m, \"\\n\\n\")"
   ]
  },
  {
   "cell_type": "markdown",
   "id": "dcd67b2b",
   "metadata": {},
   "source": [
    "And we can read out the results\n",
    "$$a=-76.667$$\n",
    "$$b=22.5$$\n",
    "$$c=-0.833$$"
   ]
  },
  {
   "cell_type": "code",
   "execution_count": 5,
   "id": "30eecd63",
   "metadata": {},
   "outputs": [
    {
     "data": {
      "text/plain": [
       "[<matplotlib.lines.Line2D at 0x7f916a907760>]"
      ]
     },
     "execution_count": 5,
     "metadata": {},
     "output_type": "execute_result"
    },
    {
     "data": {
      "image/png": "[encoded data removed]",
      "text/plain": [
       "<Figure size 432x288 with 1 Axes>"
      ]
     },
     "metadata": {
      "needs_background": "light"
     },
     "output_type": "display_data"
    }
   ],
   "source": [
    "fig, ax = plt.subplots()\n",
    "plt.xlim(2.,12.)\n",
    "plt.ylim(20.,80.)\n",
    "\n",
    "lin = np.linspace(0.,12.,24)\n",
    "def p(x):\n",
    "    return -76.667 + 22.5 * x -0.833 * x**2\n",
    "\n",
    "ax.plot(time,temp)\n",
    "ax.plot(lin, p(lin))"
   ]
  },
  {
   "cell_type": "markdown",
   "id": "465f3f9c",
   "metadata": {},
   "source": [
    "#### (c) Suppose we wanted a polynomium $p(x)$ that intersects all points, what is the minimal degree possible for $p(x)$? Plot the result.\n",
    "\n",
    "To solve this, I will use, as adviced, the linalg.solve function."
   ]
  },
  {
   "cell_type": "code",
   "execution_count": 6,
   "id": "c2e90008",
   "metadata": {},
   "outputs": [
    {
     "name": "stdout",
     "output_type": "stream",
     "text": [
      "[-1.97530864 32.85493827 -9.09722222  1.03395062 -0.03858025]\n"
     ]
    }
   ],
   "source": [
    "# a + bx + cx² + dx³ + ex⁴\n",
    "p1 = np.array([1.,2., 4.,8.,    16.])\n",
    "p2 = np.array([1.,5., 25., 125.,  625.])\n",
    "p3 = np.array([1.,8., 64., 512.,  4096.])\n",
    "p4 = np.array([1.,10.,100.,1000., 10000.])\n",
    "p5 = np.array([1.,11.,121.,1331., 14641.])\n",
    "\n",
    "ps = np.array([p1,p2,p3,p4,p5])\n",
    "r = np.array([35.,40.,50.,65.,70.]) # y-vals\n",
    "\n",
    "solve = np.linalg.solve(ps,r)\n",
    "\n",
    "print(solve)"
   ]
  },
  {
   "cell_type": "markdown",
   "id": "f73e48a7",
   "metadata": {},
   "source": [
    "The resulting polynomial will be \n",
    "$$p(x)=-1.97530864 + 32.85493827x - 9.09722222x^2 +  1.03395062x^3 - 0.03858025x^4$$"
   ]
  },
  {
   "cell_type": "markdown",
   "id": "e6db454a",
   "metadata": {},
   "source": [
    "Then the result is plotted."
   ]
  },
  {
   "cell_type": "code",
   "execution_count": 7,
   "id": "851e5e9d",
   "metadata": {
    "scrolled": true
   },
   "outputs": [
    {
     "data": {
      "text/plain": [
       "[<matplotlib.lines.Line2D at 0x7f916a97e860>]"
      ]
     },
     "execution_count": 7,
     "metadata": {},
     "output_type": "execute_result"
    },
    {
     "data": {
      "image/png": "[encoded data removed]",
      "text/plain": [
       "<Figure size 432x288 with 1 Axes>"
      ]
     },
     "metadata": {
      "needs_background": "light"
     },
     "output_type": "display_data"
    }
   ],
   "source": [
    "fig, ax = plt.subplots()\n",
    "plt.xlim(2.,12.)\n",
    "plt.ylim(20.,80.)\n",
    "\n",
    "lin = np.linspace(0.,12.,24)\n",
    "def p(x):\n",
    "    return (-1.97530864 + \n",
    "            32.85493827 * x -\n",
    "            9.09722222  * x**2 +\n",
    "            1.03395062  * x**3 -\n",
    "            0.03858025  * x**4 )\n",
    "\n",
    "ax.plot(time,temp)\n",
    "ax.plot(lin, p(lin))"
   ]
  },
  {
   "cell_type": "markdown",
   "id": "005c338a",
   "metadata": {},
   "source": [
    "To argue that the 4-degree polynomial above is the lowest degree solution I will compute a 3-degree solution and consider that it does not intersect all points. \n",
    "\n",
    "Since there are no free variables, no other solution may be found, and as such, no polynomial of degree 3 or lower may be found, that intersects all points.\n",
    "\n",
    "Below I will use the same code, but leaving out the last observation."
   ]
  },
  {
   "cell_type": "code",
   "execution_count": 8,
   "id": "30fac43e",
   "metadata": {},
   "outputs": [
    {
     "name": "stdout",
     "output_type": "stream",
     "text": [
      "[28.88888889  4.30555556 -0.76388889  0.06944444]\n"
     ]
    }
   ],
   "source": [
    "# a + bx + cx² + dx³\n",
    "p1 = np.array([1.,2., 4.,8.])\n",
    "p2 = np.array([1.,5., 25., 125.,])\n",
    "p3 = np.array([1.,8., 64., 512.,])\n",
    "p4 = np.array([1.,10.,100.,1000.])\n",
    "\n",
    "ps = np.array([p1,p2,p3,p4])\n",
    "r = np.array([35.,40.,50.,65.]) # y-vals\n",
    "\n",
    "solve = np.linalg.solve(ps,r)\n",
    "\n",
    "print(solve)"
   ]
  },
  {
   "cell_type": "code",
   "execution_count": 9,
   "id": "6677cde2",
   "metadata": {},
   "outputs": [
    {
     "data": {
      "text/plain": [
       "[<matplotlib.lines.Line2D at 0x7f916a9e4c40>]"
      ]
     },
     "execution_count": 9,
     "metadata": {},
     "output_type": "execute_result"
    },
    {
     "data": {
      "image/png": "[encoded data removed]",
      "text/plain": [
       "<Figure size 432x288 with 1 Axes>"
      ]
     },
     "metadata": {
      "needs_background": "light"
     },
     "output_type": "display_data"
    }
   ],
   "source": [
    "fig, ax = plt.subplots()\n",
    "plt.xlim(2.,12.)\n",
    "plt.ylim(20.,80.)\n",
    "\n",
    "lin = np.linspace(0.,12.,24)\n",
    "def p(x):\n",
    "    return (28.88888889 + \n",
    "            4.30555556 * x -\n",
    "            0.76388889 * x**2 +\n",
    "            0.06944444 * x**3 )\n",
    "\n",
    "ax.plot(time,temp)\n",
    "ax.plot(lin, p(lin))"
   ]
  },
  {
   "cell_type": "markdown",
   "id": "acf8b409",
   "metadata": {},
   "source": [
    "As we can see the last point is not intersected by the polynomial, and therefore we would not be able to make a 3rd degree polynomial that intersects all points."
   ]
  },
  {
   "cell_type": "markdown",
   "id": "e01a2f88",
   "metadata": {},
   "source": [
    "Another approach is to make multiple polynomials to represent different intervals of the graph.\n",
    "\n",
    "#### (d) Set up a system of linear equations for the function $f$\n",
    "\n",
    "$$f(x) = \\begin{cases} p_1(x) & \\text{for } 5.0\\leq x \\leq 8.0 \\\\\n",
    "                      p_2(x)  & \\text{for } 8.0\\leq x \\leq 10.0\n",
    "        \\end{cases}$$\n",
    "Where $p_1(x)$ intersects the points at 5 and 8, and where $p_2(x)$ intersects the points at 8 and 10. At $x=8$, the functions $p_1(x)$ and $p_2(x)$ should have the same slope, i.e $p_1'(8)=p_2'(8)$"
   ]
  },
  {
   "cell_type": "markdown",
   "id": "86fb8bce",
   "metadata": {},
   "source": []
  },
  {
   "cell_type": "code",
   "execution_count": null,
   "id": "73f0295f",
   "metadata": {},
   "outputs": [],
   "source": []
  }
 ],
 "metadata": {
  "kernelspec": {
   "display_name": "Python 3 (ipykernel)",
   "language": "python",
   "name": "python3"
  },
  "language_info": {
   "codemirror_mode": {
    "name": "ipython",
    "version": 3
   },
   "file_extension": ".py",
   "mimetype": "text/x-python",
   "name": "python",
   "nbconvert_exporter": "python",
   "pygments_lexer": "ipython3",
   "version": "3.10.2"
  }
 },
 "nbformat": 4,
 "nbformat_minor": 5
}
