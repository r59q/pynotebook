{
 "cells": [
  {
   "cell_type": "code",
   "execution_count": 1,
   "id": "f3290a1a",
   "metadata": {},
   "outputs": [],
   "source": [
    "import numpy as np\n",
    "import matplotlib.pyplot as plt"
   ]
  },
  {
   "cell_type": "markdown",
   "id": "177dbcd8",
   "metadata": {},
   "source": [
    "# Exercises 11\n",
    "## Opg 5"
   ]
  },
  {
   "cell_type": "code",
   "execution_count": 2,
   "id": "f0c9d856",
   "metadata": {},
   "outputs": [
    {
     "data": {
      "text/plain": [
       "-12.0"
      ]
     },
     "execution_count": 2,
     "metadata": {},
     "output_type": "execute_result"
    }
   ],
   "source": [
    "A = np.array([[6,-3,2],[0, 2, 7], [0, 0, -1]])\n",
    "np.linalg.det(A)"
   ]
  },
  {
   "cell_type": "markdown",
   "id": "6dd6e737",
   "metadata": {},
   "source": [
    "$\\lambda_1 = 6, \\lambda_2 = 2, \\lambda_3 = -1$"
   ]
  },
  {
   "cell_type": "code",
   "execution_count": 3,
   "id": "dfdd91c0",
   "metadata": {},
   "outputs": [],
   "source": [
    "l = np.array([6, 2, -1])\n"
   ]
  },
  {
   "cell_type": "code",
   "execution_count": 6,
   "id": "f9044122",
   "metadata": {},
   "outputs": [
    {
     "name": "stdout",
     "output_type": "stream",
     "text": [
      "[[ 0. -5.  3.]\n",
      " [-6.  0.  8.]\n",
      " [-6. -2.  0.]]\n",
      "[[-6. -7.  3.]\n",
      " [-6.  0.  8.]\n",
      " [-6. -2.  0.]] \n",
      "\n",
      "[[-6. -7.  3.]\n",
      " [-6.  0.  8.]\n",
      " [ 0. -2. -8.]]\n"
     ]
    }
   ],
   "source": [
    "AlI = A - l @ np.eye(3)\n",
    "print(AlI,\"\\n\")\n",
    "\n",
    "AlI[0,:]+= AlI[2,:]\n",
    "print(AlI,\"\\n\")\n",
    "\n",
    "AlI[2,:]+= -1 * AlI[1,:]\n",
    "print(AlI,\"\\n\")\n"
   ]
  },
  {
   "cell_type": "code",
   "execution_count": null,
   "id": "305713bc",
   "metadata": {},
   "outputs": [],
   "source": []
  },
  {
   "cell_type": "code",
   "execution_count": null,
   "id": "e7828266",
   "metadata": {},
   "outputs": [],
   "source": []
  }
 ],
 "metadata": {
  "kernelspec": {
   "display_name": "Python 3 (ipykernel)",
   "language": "python",
   "name": "python3"
  },
  "language_info": {
   "codemirror_mode": {
    "name": "ipython",
    "version": 3
   },
   "file_extension": ".py",
   "mimetype": "text/x-python",
   "name": "python",
   "nbconvert_exporter": "python",
   "pygments_lexer": "ipython3",
   "version": "3.10.4"
  }
 },
 "nbformat": 4,
 "nbformat_minor": 5
}
