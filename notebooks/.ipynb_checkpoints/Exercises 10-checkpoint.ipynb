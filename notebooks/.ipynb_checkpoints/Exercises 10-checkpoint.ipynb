{
 "cells": [
  {
   "cell_type": "markdown",
   "id": "5e92eb3e",
   "metadata": {},
   "source": [
    "Exercises 10"
   ]
  },
  {
   "cell_type": "code",
   "execution_count": 1,
   "id": "45f7fbf1",
   "metadata": {},
   "outputs": [],
   "source": [
    "import numpy as np"
   ]
  },
  {
   "cell_type": "code",
   "execution_count": 2,
   "id": "fab917b6",
   "metadata": {},
   "outputs": [],
   "source": [
    "def forbedret_gram_schmidt(a):\n",
    "    _, k = a.shape\n",
    "    q = np.copy(a)\n",
    "    r = np.zeros((k, k))\n",
    "    for i in range(k):\n",
    "        r[i, i] = np.linalg.norm(q[:, i])\n",
    "        q[:, i] /= r[i, i]\n",
    "        r[[i], i+1:] = q[:, [i]].T @ q[:, i+1:]\n",
    "        q[:, i+1:] -= q[:, [i]] @ r[[i], i+1:]\n",
    "    return q, r"
   ]
  },
  {
   "cell_type": "code",
   "execution_count": 3,
   "id": "f0947901",
   "metadata": {},
   "outputs": [],
   "source": [
    "x = np.array([0., 1.9, 3.1, 6.2, 7.1])\n",
    "y = np.array([1.1, 2.1, 2.9, 4.2, 4.8])"
   ]
  },
  {
   "cell_type": "code",
   "execution_count": 4,
   "id": "5e39bd85",
   "metadata": {},
   "outputs": [],
   "source": [
    "A = np.array([x,y]).T"
   ]
  },
  {
   "cell_type": "code",
   "execution_count": 5,
   "id": "8fceb8ca",
   "metadata": {},
   "outputs": [],
   "source": [
    "q, r = forbedret_gram_schmidt(A)"
   ]
  },
  {
   "cell_type": "code",
   "execution_count": 6,
   "id": "20b328d4",
   "metadata": {},
   "outputs": [
    {
     "data": {
      "text/plain": [
       "array([[ 0.        ,  0.71640417],\n",
       "       [ 0.18806351,  0.48146735],\n",
       "       [ 0.30684047,  0.44277487],\n",
       "       [ 0.61368094, -0.15649268],\n",
       "       [ 0.70276365, -0.18551204]])"
      ]
     },
     "execution_count": 6,
     "metadata": {},
     "output_type": "execute_result"
    }
   ],
   "source": [
    "q"
   ]
  },
  {
   "cell_type": "code",
   "execution_count": 7,
   "id": "7e6e487f",
   "metadata": {},
   "outputs": [
    {
     "data": {
      "text/plain": [
       "array([[10.10296986,  7.2354962 ],\n",
       "       [ 0.        ,  1.53544612]])"
      ]
     },
     "execution_count": 7,
     "metadata": {},
     "output_type": "execute_result"
    }
   ],
   "source": [
    "r"
   ]
  },
  {
   "cell_type": "code",
   "execution_count": 8,
   "id": "341f497b",
   "metadata": {},
   "outputs": [
    {
     "data": {
      "text/plain": [
       "array([[0. , 1.1],\n",
       "       [1.9, 2.1],\n",
       "       [3.1, 2.9],\n",
       "       [6.2, 4.2],\n",
       "       [7.1, 4.8]])"
      ]
     },
     "execution_count": 8,
     "metadata": {},
     "output_type": "execute_result"
    }
   ],
   "source": [
    "A"
   ]
  },
  {
   "cell_type": "code",
   "execution_count": 9,
   "id": "400be5db",
   "metadata": {},
   "outputs": [
    {
     "data": {
      "text/plain": [
       "array([[ 0.        ,  0.18806351,  0.30684047,  0.61368094,  0.70276365],\n",
       "       [ 7.16404168,  4.81467347,  4.42774873, -1.5649268 , -1.85512035]])"
      ]
     },
     "execution_count": 9,
     "metadata": {},
     "output_type": "execute_result"
    }
   ],
   "source": [
    "q.T * np.array([1,10])[:, np.newaxis]"
   ]
  },
  {
   "cell_type": "markdown",
   "id": "9ec9cb63",
   "metadata": {},
   "source": [
    "$Ax=b$\n",
    "\n",
    "$$x_0a_0+x_1a_1+\\cdots + x_{n-1}a_{n-1}=b$$\n"
   ]
  }
 ],
 "metadata": {
  "kernelspec": {
   "display_name": "Python 3 (ipykernel)",
   "language": "python",
   "name": "python3"
  },
  "language_info": {
   "codemirror_mode": {
    "name": "ipython",
    "version": 3
   },
   "file_extension": ".py",
   "mimetype": "text/x-python",
   "name": "python",
   "nbconvert_exporter": "python",
   "pygments_lexer": "ipython3",
   "version": "3.10.2"
  }
 },
 "nbformat": 4,
 "nbformat_minor": 5
}
