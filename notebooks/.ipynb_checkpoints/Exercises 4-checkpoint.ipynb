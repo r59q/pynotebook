{
 "cells": [
  {
   "cell_type": "markdown",
   "id": "42473bf3",
   "metadata": {},
   "source": [
    "# Exercies 4\n",
    "\n",
    "## Opgave 4.1\n",
    "\n",
    "Let $A\\in \\mathbb{R}^{1000\\times 70}, B, C \\in \\mathbb{R}^{70\\times3000}, D \\in \\mathbb{R}^{3000\\times3000}$\n",
    "\n",
    "Note the number of flops for\n",
    "\n",
    "(a) $AB$\n",
    "\n",
    "(b) $A(B+C)$\n",
    "\n",
    "(c) $(CD)A$\n",
    "\n",
    "(d) $C(DA)$\n",
    "\n",
    "(e) $(A(BD))A$\n",
    "\n",
    "(f) $(AB)(DA)$\n",
    "\n",
    "(g) $A(B(DA))$\n"
   ]
  },
  {
   "cell_type": "code",
   "execution_count": 8,
   "id": "392c7deb",
   "metadata": {},
   "outputs": [],
   "source": [
    "import numpy as np\n",
    "\n",
    "shape1 = (1000,  70)\n",
    "shape2 = (70,    3000)\n",
    "shape3 = (3000,  3000)\n",
    "\n",
    "def shape_of_mult(s1, s2):\n",
    "    m, n = s1\n",
    "    n, r = s2\n",
    "    return (m, r)\n",
    "\n",
    "def cost_of_mult(s1, s2):\n",
    "    m, n = s1\n",
    "    n, r = s2\n",
    "    return 2*m*n*r\n",
    "\n",
    "def cost_of_add(s1):\n",
    "    m, n = s1\n",
    "    return m*n"
   ]
  },
  {
   "cell_type": "code",
   "execution_count": 9,
   "id": "3d3fd64d",
   "metadata": {},
   "outputs": [
    {
     "name": "stdout",
     "output_type": "stream",
     "text": [
      "420000000\n"
     ]
    }
   ],
   "source": [
    "# (a) \n",
    "print(cost_of_mult(shape1, shape2))"
   ]
  },
  {
   "cell_type": "code",
   "execution_count": 11,
   "id": "c85ddbfb",
   "metadata": {},
   "outputs": [
    {
     "name": "stdout",
     "output_type": "stream",
     "text": [
      "420000000\n",
      "+\n",
      "210000\n",
      "420210000\n"
     ]
    }
   ],
   "source": [
    "# (a) \n",
    "print(cost_of_mult(shape1, shape2))\n",
    "print(\"+\")\n",
    "print(cost_of_add(shape2))\n",
    "print(cost_of_mult(shape1, shape2) + cost_of_add(shape2))"
   ]
  },
  {
   "cell_type": "code",
   "execution_count": 12,
   "id": "590a9de8",
   "metadata": {},
   "outputs": [
    {
     "name": "stdout",
     "output_type": "stream",
     "text": [
      "1260000000\n",
      "9800000\n"
     ]
    }
   ],
   "source": [
    "print(cost_of_mult(shape2, shape3))\n",
    "newShape = shape_of_mult(shape2, shape3)\n",
    "print(\"+\")\n",
    "print(cost_of_mult(newShape, shape1))\n",
    "\n",
    "print(cost_of_mult(newShape, shape1) + cost_of_mult(shape2, shape3))"
   ]
  },
  {
   "cell_type": "code",
   "execution_count": null,
   "id": "a1df8bf3",
   "metadata": {},
   "outputs": [],
   "source": []
  }
 ],
 "metadata": {
  "kernelspec": {
   "display_name": "Python 3 (ipykernel)",
   "language": "python",
   "name": "python3"
  },
  "language_info": {
   "codemirror_mode": {
    "name": "ipython",
    "version": 3
   },
   "file_extension": ".py",
   "mimetype": "text/x-python",
   "name": "python",
   "nbconvert_exporter": "python",
   "pygments_lexer": "ipython3",
   "version": "3.9.5"
  }
 },
 "nbformat": 4,
 "nbformat_minor": 5
}
