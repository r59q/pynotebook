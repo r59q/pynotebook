{
 "cells": [
  {
   "cell_type": "markdown",
   "id": "309f0303",
   "metadata": {},
   "source": [
    "# Handin 7\n",
    "Andreas Malthe Henriksen (202004107)"
   ]
  },
  {
   "cell_type": "markdown",
   "id": "94a9159c",
   "metadata": {},
   "source": [
    "***A parking lot are lit up by lamps placed in different locations and at different heights***\n",
    "\n",
    "**The lot is segmented into $600$ squares of size $1\\times1$ meters. Let $y_j$ denote the lighting level in square $j$ for $j=0,\\cdots , 599$. Let $x_i$ be the strength of lamp $i$. The contribution of light to each square from lamp $i$ is $$c_{ij}=\\frac{x_i}{d^2_{ij}},$$where $d_{ij}$ is the distance $\\in \\mathbb{R}^3$ from lamp $i$ to the center of square $j$.**"
   ]
  },
  {
   "cell_type": "markdown",
   "id": "cde62fed",
   "metadata": {},
   "source": [
    "## (a)\n",
    "**Explain how the lighting level $y$ and the light emission strength $x$ are related via a linear system of equations. Set up the coefficient matrix  for the system in python.**"
   ]
  },
  {
   "cell_type": "markdown",
   "id": "3d5ed24f",
   "metadata": {},
   "source": [
    "First i would like to create an array containing the information on our lamps. I will put each lamp as it's own entry in a dictionary $lamps$ with the properties $x$, $y$ for the location in the figure and $z$ for it's height."
   ]
  },
  {
   "cell_type": "code",
   "execution_count": 1,
   "id": "61c05bbf",
   "metadata": {},
   "outputs": [],
   "source": [
    "import numpy as np; import matplotlib.pyplot as plt;from matplotlib import colors"
   ]
  },
  {
   "cell_type": "code",
   "execution_count": 2,
   "id": "ecb77bf7",
   "metadata": {},
   "outputs": [],
   "source": [
    "# Data from the figure (estimated from bottom (left) to top (right)).\n",
    "lamp_info = {\n",
    "    \"xs\":[15., 2., 20., 11., 28., 12., 23., 4., 16., 25., 13., 4.], # x\n",
    "    \"ys\":[2., 3., 4., 5., 9., 12., 12., 13., 16., 16., 18., 19.],   # y\n",
    "    \"hs\":[4.5, 3., 2.8, 3.5, 3.4, 4., 4., 3.6, 3., 3.8, 3.6, 3.]    # height\n",
    "}\n",
    "lamp_count = len(lamp_info[\"hs\"]) # 12 lamps\n",
    "\n",
    "lamps = dict() # Our lamps\n",
    "for k in range(lamp_count):\n",
    "    xPos = lamp_info[\"xs\"][k]\n",
    "    yPos = lamp_info[\"ys\"][k]\n",
    "    zPos = lamp_info[\"hs\"][k]\n",
    "    \n",
    "    lamps[k] = {\n",
    "        'pos':np.array((xPos, yPos, zPos))\n",
    "    }\n"
   ]
  },
  {
   "cell_type": "markdown",
   "id": "47986c79",
   "metadata": {},
   "source": [
    "We can start out creating the matrix by looking at it's structure. The result we wish to compute is the vector $\\in \\mathbb{R}^{600}$\n",
    "$$\n",
    "\\begin{bmatrix}\n",
    "    y_0 \\\\ \\vdots \\\\ y_{599}\n",
    "\\end{bmatrix}\n",
    "$$\n",
    "with the lighting levels.\n",
    "\n",
    "Those results is computed using the strength of each lamp $x_{i}$ and it's contribution $c_{ij}$ to the corresponding square. Since $$c_{ij} = \\frac{x_i}{d^2_{ij}} = \\frac{1}{d^2_{ij}}x_i,$$\n",
    "we let $$p_{ij}=\\frac{1}{d^2_{ij}}$$ be the proportion of the light from lamp $i$, that square $j$ receives.\n",
    "\n",
    "Now we use the fact that $$p_{ij}x_i=c_{ij}$$ and we may summerize.\n",
    "\n",
    "We determine $y_j$ with the system of equations\n",
    "$$\n",
    "\\begin{bmatrix}\n",
    "    p_{00} & \\cdots & p_{11\\ 0} \\\\\n",
    "    \\vdots & \\ddots & \\vdots \\\\\n",
    "    p_{0\\ 599} & \\cdots & p_{11\\ 599} \n",
    "\\end{bmatrix}\n",
    "\\begin{bmatrix}\n",
    "    x_0 \\\\ \\vdots \\\\ x_{11}\n",
    "\\end{bmatrix}\n",
    "=\n",
    "\\begin{bmatrix}\n",
    "    y_0 \\\\ \\vdots \\\\ y_{599}\n",
    "\\end{bmatrix}\n",
    "$$"
   ]
  },
  {
   "cell_type": "markdown",
   "id": "3ef78f71",
   "metadata": {},
   "source": [
    "To convert 0-599 squares into euclidean positions we use the $divmod$ function. This will produce a $20\\times30$ grid of squares when $0<=j<600$. Here the first square, $0$ will be the bottom left square and $599$ will be the top right square. Use this when calculating the distances in the function below."
   ]
  },
  {
   "cell_type": "code",
   "execution_count": 3,
   "id": "cda564c8",
   "metadata": {},
   "outputs": [],
   "source": [
    "def line_to_space(l):\n",
    "    y, x = divmod(l, 30) # We use divmod to convert array of squares to matrix of squares in dimension ?x30.\n",
    "    return (x, y)\n",
    "\n",
    "def array_to_matrix(A):\n",
    "    M = np.empty((20,30))\n",
    "    for j in range(len(A)):\n",
    "        spaceY, spaceX = line_to_space(j)\n",
    "        M[spaceX,spaceY] = y[j][0]\n",
    "    return M"
   ]
  },
  {
   "cell_type": "code",
   "execution_count": 4,
   "id": "03e6c855",
   "metadata": {},
   "outputs": [],
   "source": [
    "def d(i, j):\n",
    "    spaceX, spaceY = line_to_space(j)\n",
    "    # we add 0.5 to both x and y to find the center of the square\n",
    "    squareCenter = np.array([spaceX + 0.5, spaceY + 0.5, 0])  \n",
    "    lampPos = lamps[i]['pos']\n",
    "    return np.linalg.norm(squareCenter - lampPos)"
   ]
  },
  {
   "cell_type": "markdown",
   "id": "2a0c62ad",
   "metadata": {},
   "source": [
    "To test the function we can test the distances of some of the lamp posts."
   ]
  },
  {
   "cell_type": "code",
   "execution_count": 5,
   "id": "b49c922f",
   "metadata": {},
   "outputs": [
    {
     "name": "stdout",
     "output_type": "stream",
     "text": [
      "Nearest square to bottom-most lamp: 4.55521678957215\n",
      "Nearest square to Top left lamp   : 3.082207001484488\n"
     ]
    }
   ],
   "source": [
    "# Bottom-most lamp (index 0) at height 4.5\n",
    "lampY = 2\n",
    "lampX = 15\n",
    "# This means. The expected index of this square is\n",
    "index = lampY * 30 + lampX\n",
    "print(\"Nearest square to bottom-most lamp:\", d(0, index))\n",
    "\n",
    "# Top left lamp (index 11) at height 3\n",
    "lampY = 19\n",
    "lampX = 4\n",
    "# This means. The expected index of this square is\n",
    "index = lampY * 30 + lampX\n",
    "print(\"Nearest square to Top left lamp   :\", d(11, index))"
   ]
  },
  {
   "cell_type": "markdown",
   "id": "ebfe8d54",
   "metadata": {},
   "source": [
    "The numbers are close enough and the inconsistencies are most likely explained by the fact that we are measuring from the center of the square, whereas the lamp is placed on the corner of the square. We could probably verify this using pythagoras theorem, but I won't bother."
   ]
  },
  {
   "cell_type": "markdown",
   "id": "b8c6f6f9",
   "metadata": {},
   "source": [
    "Now let's compute the proportions matrix, as we defined it before."
   ]
  },
  {
   "cell_type": "code",
   "execution_count": 6,
   "id": "4abd2991",
   "metadata": {},
   "outputs": [],
   "source": [
    "p = np.empty((600, lamp_count))\n",
    "for i in range(lamp_count):\n",
    "    row = np.zeros(600)\n",
    "    for j in range(600):\n",
    "        row[j] = 1. / (d(i, j) ** 2.)\n",
    "    p[:, i] = row\n"
   ]
  },
  {
   "cell_type": "markdown",
   "id": "f59506f4",
   "metadata": {},
   "source": [
    "Let's add some lighting strength to the value of $x$ to see how it influences $y$"
   ]
  },
  {
   "cell_type": "code",
   "execution_count": 7,
   "id": "f605efa7",
   "metadata": {},
   "outputs": [],
   "source": [
    "rand = np.random.default_rng()\n",
    "x = rand.random(lamp_count)"
   ]
  },
  {
   "cell_type": "markdown",
   "id": "8fd4277d",
   "metadata": {},
   "source": [
    "Now we use it to calculate the values of y\n"
   ]
  },
  {
   "cell_type": "code",
   "execution_count": 8,
   "id": "c913457b",
   "metadata": {},
   "outputs": [
    {
     "name": "stdout",
     "output_type": "stream",
     "text": [
      "[[0.03826785]\n",
      " [0.04281549]\n",
      " [0.04451392]\n",
      " [0.04342156]\n",
      " [0.04133706]\n",
      " [0.03991614]\n",
      " [0.03987066]\n",
      " [0.04131091]\n",
      " [0.04412765]\n",
      " [0.04814692]\n",
      " [0.05317765]\n",
      " [0.05902393]\n",
      " [0.06537633]\n",
      " [0.07150971]\n",
      " [0.07615184]\n",
      " [0.07818464]\n",
      " [0.07774928]\n",
      " [0.07608783]\n",
      " [0.07408376]\n",
      " [0.07136543]\n",
      " [0.06700464]\n",
      " [0.06093441]\n",
      " [0.0541738 ]\n",
      " [0.04781735]\n",
      " [0.04238778]\n",
      " [0.03792182]\n",
      " [0.03424363]\n",
      " [0.03114005]\n",
      " [0.02843365]\n",
      " [0.0260025 ]\n",
      " [0.04599378]\n",
      " [0.05296267]\n",
      " [0.05480349]\n",
      " [0.05158909]\n",
      " [0.04711868]\n",
      " [0.04419054]\n",
      " [0.0435454 ]\n",
      " [0.04505159]\n",
      " [0.04839595]\n",
      " [0.05321341]\n",
      " [0.05908921]\n",
      " [0.06566339]\n",
      " [0.07266343]\n",
      " [0.07949675]\n",
      " [0.08484645]\n",
      " [0.08746851]\n",
      " [0.08776039]\n",
      " [0.08755876]\n",
      " [0.08785404]\n",
      " [0.08705642]\n",
      " [0.08237607]\n",
      " [0.07367167]\n",
      " [0.06371708]\n",
      " [0.05487211]\n",
      " [0.04784186]\n",
      " [0.04240916]\n",
      " [0.03812683]\n",
      " [0.03459322]\n",
      " [0.03152052]\n",
      " [0.0287349 ]\n",
      " [0.05199776]\n",
      " [0.06134169]\n",
      " [0.06331002]\n",
      " [0.05798947]\n",
      " [0.05144124]\n",
      " [0.04741399]\n",
      " [0.04649881]\n",
      " [0.04832085]\n",
      " [0.0524153 ]\n",
      " [0.05820895]\n",
      " [0.06487447]\n",
      " [0.07161803]\n",
      " [0.07818396]\n",
      " [0.08445484]\n",
      " [0.08959364]\n",
      " [0.09268409]\n",
      " [0.09447677]\n",
      " [0.09730159]\n",
      " [0.10226901]\n",
      " [0.10581766]\n",
      " [0.10125051]\n",
      " [0.08840899]\n",
      " [0.07393686]\n",
      " [0.06211834]\n",
      " [0.0534728 ]\n",
      " [0.04720577]\n",
      " [0.04245605]\n",
      " [0.03857826]\n",
      " [0.0351558 ]\n",
      " [0.03196866]\n",
      " [0.05257211]\n",
      " [0.06200178]\n",
      " [0.06407517]\n",
      " [0.05888962]\n",
      " [0.05252536]\n",
      " [0.04876484]\n",
      " [0.04825625]\n",
      " [0.05070833]\n",
      " [0.05572686]\n",
      " [0.06262837]\n",
      " [0.07003181]\n",
      " [0.0763803 ]\n",
      " [0.08140972]\n",
      " [0.08586742]\n",
      " [0.08985286]\n",
      " [0.09308247]\n",
      " [0.09654903]\n",
      " [0.10270651]\n",
      " [0.11281768]\n",
      " [0.1215903 ]\n",
      " [0.11759235]\n",
      " [0.10070703]\n",
      " [0.08235132]\n",
      " [0.06841053]\n",
      " [0.05884696]\n",
      " [0.052241  ]\n",
      " [0.04735403]\n",
      " [0.04331306]\n",
      " [0.0395765 ]\n",
      " [0.03590338]\n",
      " [0.04771912]\n",
      " [0.05494325]\n",
      " [0.05709401]\n",
      " [0.05427291]\n",
      " [0.05033006]\n",
      " [0.04815218]\n",
      " [0.0486259 ]\n",
      " [0.05182665]\n",
      " [0.05760781]\n",
      " [0.06531559]\n",
      " [0.07313147]\n",
      " [0.07875269]\n",
      " [0.08191785]\n",
      " [0.0842724 ]\n",
      " [0.08682075]\n",
      " [0.08980008]\n",
      " [0.09411699]\n",
      " [0.10165619]\n",
      " [0.11315158]\n",
      " [0.12308506]\n",
      " [0.12000996]\n",
      " [0.10386498]\n",
      " [0.08612818]\n",
      " [0.07273869]\n",
      " [0.06369866]\n",
      " [0.0575875 ]\n",
      " [0.0530859 ]\n",
      " [0.04916447]\n",
      " [0.0451491 ]\n",
      " [0.0408182 ]\n",
      " [0.04115285]\n",
      " [0.04612074]\n",
      " [0.04832083]\n",
      " [0.04785019]\n",
      " [0.04657479]\n",
      " [0.04626315]\n",
      " [0.04780233]\n",
      " [0.0515298 ]\n",
      " [0.05747737]\n",
      " [0.06505691]\n",
      " [0.07244001]\n",
      " [0.07729138]\n",
      " [0.07937782]\n",
      " [0.08053879]\n",
      " [0.08214381]\n",
      " [0.08468456]\n",
      " [0.08876328]\n",
      " [0.09528772]\n",
      " [0.10401687]\n",
      " [0.11079146]\n",
      " [0.10885194]\n",
      " [0.09816063]\n",
      " [0.08550589]\n",
      " [0.07531673]\n",
      " [0.06824507]\n",
      " [0.06352441]\n",
      " [0.06005314]\n",
      " [0.056636  ]\n",
      " [0.05234596]\n",
      " [0.04702   ]\n",
      " [0.0355709 ]\n",
      " [0.03915174]\n",
      " [0.04137959]\n",
      " [0.04233825]\n",
      " [0.04287325]\n",
      " [0.04395411]\n",
      " [0.04625183]\n",
      " [0.05012255]\n",
      " [0.05561005]\n",
      " [0.06218486]\n",
      " [0.06842251]\n",
      " [0.07266098]\n",
      " [0.07469928]\n",
      " [0.07582403]\n",
      " [0.07720271]\n",
      " [0.07938327]\n",
      " [0.08272189]\n",
      " [0.08744671]\n",
      " [0.092931  ]\n",
      " [0.09680288]\n",
      " [0.09611861]\n",
      " [0.09080846]\n",
      " [0.08376645]\n",
      " [0.07753384]\n",
      " [0.07307633]\n",
      " [0.07034329]\n",
      " [0.06853721]\n",
      " [0.06609733]\n",
      " [0.06147661]\n",
      " [0.05459067]\n",
      " [0.03160359]\n",
      " [0.03447387]\n",
      " [0.03672161]\n",
      " [0.03840958]\n",
      " [0.03993633]\n",
      " [0.04182254]\n",
      " [0.04450725]\n",
      " [0.04825285]\n",
      " [0.05305932]\n",
      " [0.05850098]\n",
      " [0.06364935]\n",
      " [0.06752685]\n",
      " [0.06993846]\n",
      " [0.07153619]\n",
      " [0.07308982]\n",
      " [0.07508335]\n",
      " [0.07776938]\n",
      " [0.0811661 ]\n",
      " [0.08480198]\n",
      " [0.08755166]\n",
      " [0.08822344]\n",
      " [0.086645  ]\n",
      " [0.08376657]\n",
      " [0.08078329]\n",
      " [0.07863253]\n",
      " [0.0778452 ]\n",
      " [0.07797703]\n",
      " [0.07686864]\n",
      " [0.07179074]\n",
      " [0.06272821]\n",
      " [0.02902188]\n",
      " [0.03156593]\n",
      " [0.03384592]\n",
      " [0.0358955 ]\n",
      " [0.03791049]\n",
      " [0.04018196]\n",
      " [0.0429966 ]\n",
      " [0.04654274]\n",
      " [0.05081618]\n",
      " [0.05552546]\n",
      " [0.06009172]\n",
      " [0.0639013 ]\n",
      " [0.06671205]\n",
      " [0.06877757]\n",
      " [0.07057319]\n",
      " [0.072502  ]\n",
      " [0.07480137]\n",
      " [0.07753099]\n",
      " [0.08051913]\n",
      " [0.08334297]\n",
      " [0.08549061]\n",
      " [0.08660789]\n",
      " [0.0865997 ]\n",
      " [0.08572998]\n",
      " [0.08481398]\n",
      " [0.0849288 ]\n",
      " [0.08613697]\n",
      " [0.08585728]\n",
      " [0.08014732]\n",
      " [0.06902136]\n",
      " [0.02747959]\n",
      " [0.02991878]\n",
      " [0.03226878]\n",
      " [0.0345216 ]\n",
      " [0.03676092]\n",
      " [0.03916696]\n",
      " [0.04196669]\n",
      " [0.04534206]\n",
      " [0.04933865]\n",
      " [0.05379328]\n",
      " [0.05831016]\n",
      " [0.06236882]\n",
      " [0.06560453]\n",
      " [0.06805486]\n",
      " [0.0700681 ]\n",
      " [0.07200617]\n",
      " [0.07411111]\n",
      " [0.07655054]\n",
      " [0.0794505 ]\n",
      " [0.08284175]\n",
      " [0.08653455]\n",
      " [0.08994027]\n",
      " [0.09207546]\n",
      " [0.09224687]\n",
      " [0.09105265]\n",
      " [0.09011241]\n",
      " [0.09011628]\n",
      " [0.0888027 ]\n",
      " [0.08229935]\n",
      " [0.07059072]\n",
      " [0.02671007]\n",
      " [0.02919411]\n",
      " [0.03167801]\n",
      " [0.03409171]\n",
      " [0.03642511]\n",
      " [0.03880961]\n",
      " [0.04149457]\n",
      " [0.04472196]\n",
      " [0.0486236 ]\n",
      " [0.05315314]\n",
      " [0.05800861]\n",
      " [0.06262373]\n",
      " [0.06644664]\n",
      " [0.06937961]\n",
      " [0.07173916]\n",
      " [0.07382619]\n",
      " [0.07581871]\n",
      " [0.07797737]\n",
      " [0.08074357]\n",
      " [0.08457634]\n",
      " [0.08957647]\n",
      " [0.09495363]\n",
      " [0.09878718]\n",
      " [0.09919726]\n",
      " [0.0964464 ]\n",
      " [0.09273865]\n",
      " [0.08948499]\n",
      " [0.08544121]\n",
      " [0.07808551]\n",
      " [0.06733373]\n",
      " [0.0265332 ]\n",
      " [0.02917708]\n",
      " [0.03187082]\n",
      " [0.03445856]\n",
      " [0.03681969]\n",
      " [0.03906701]\n",
      " [0.0415382 ]\n",
      " [0.04458007]\n",
      " [0.04842164]\n",
      " [0.05312274]\n",
      " [0.05846225]\n",
      " [0.06384198]\n",
      " [0.06857124]\n",
      " [0.07245349]\n",
      " [0.0756986 ]\n",
      " [0.0783264 ]\n",
      " [0.08022982]\n",
      " [0.08172671]\n",
      " [0.08370356]\n",
      " [0.08716643]\n",
      " [0.09256495]\n",
      " [0.0990154 ]\n",
      " [0.10384207]\n",
      " [0.10407844]\n",
      " [0.09958604]\n",
      " [0.09299341]\n",
      " [0.08636569]\n",
      " [0.07957243]\n",
      " [0.07146791]\n",
      " [0.06194318]\n",
      " [0.02683543]\n",
      " [0.02972819]\n",
      " [0.03268748]\n",
      " [0.0354598 ]\n",
      " [0.03780901]\n",
      " [0.03984166]\n",
      " [0.04200683]\n",
      " [0.0447677 ]\n",
      " [0.04844579]\n",
      " [0.05319533]\n",
      " [0.05890628]\n",
      " [0.06510351]\n",
      " [0.07119719]\n",
      " [0.07696441]\n",
      " [0.08225273]\n",
      " [0.08626507]\n",
      " [0.08807962]\n",
      " [0.08804386]\n",
      " [0.08791268]\n",
      " [0.08954307]\n",
      " [0.09374504]\n",
      " [0.09960815]\n",
      " [0.1042285 ]\n",
      " [0.10427777]\n",
      " [0.09916826]\n",
      " [0.0911941 ]\n",
      " [0.08257677]\n",
      " [0.07403084]\n",
      " [0.06540061]\n",
      " [0.05668838]\n",
      " [0.02757257]\n",
      " [0.03081066]\n",
      " [0.03408376]\n",
      " [0.03703333]\n",
      " [0.039341  ]\n",
      " [0.04111057]\n",
      " [0.04287175]\n",
      " [0.04520279]\n",
      " [0.0485305 ]\n",
      " [0.05310902]\n",
      " [0.05898568]\n",
      " [0.06598792]\n",
      " [0.07392487]\n",
      " [0.08274843]\n",
      " [0.09179379]\n",
      " [0.09861931]\n",
      " [0.10030427]\n",
      " [0.09720448]\n",
      " [0.09303641]\n",
      " [0.09111932]\n",
      " [0.09253419]\n",
      " [0.09628041]\n",
      " [0.09970791]\n",
      " [0.09984941]\n",
      " [0.09557792]\n",
      " [0.08798071]\n",
      " [0.07883535]\n",
      " [0.0694742 ]\n",
      " [0.06053979]\n",
      " [0.05226976]\n",
      " [0.02877363]\n",
      " [0.0325574 ]\n",
      " [0.03632755]\n",
      " [0.03955064]\n",
      " [0.0417913 ]\n",
      " [0.04315049]\n",
      " [0.0442715 ]\n",
      " [0.0459113 ]\n",
      " [0.04864591]\n",
      " [0.05284188]\n",
      " [0.05872008]\n",
      " [0.06646341]\n",
      " [0.07641008]\n",
      " [0.08898573]\n",
      " [0.10332732]\n",
      " [0.1146553 ]\n",
      " [0.11610493]\n",
      " [0.10801881]\n",
      " [0.09797507]\n",
      " [0.09140501]\n",
      " [0.08934209]\n",
      " [0.09050434]\n",
      " [0.09259865]\n",
      " [0.09315997]\n",
      " [0.09046055]\n",
      " [0.08409432]\n",
      " [0.07516311]\n",
      " [0.06551801]\n",
      " [0.05647771]\n",
      " [0.04851248]\n",
      " [0.03047691]\n",
      " [0.03520635]\n",
      " [0.03997278]\n",
      " [0.0438438 ]\n",
      " [0.04599434]\n",
      " [0.04652155]\n",
      " [0.04645235]\n",
      " [0.04694347]\n",
      " [0.04876977]\n",
      " [0.05236878]\n",
      " [0.05805806]\n",
      " [0.06623711]\n",
      " [0.07758408]\n",
      " [0.09297734]\n",
      " [0.11178821]\n",
      " [0.12737603]\n",
      " [0.12844716]\n",
      " [0.11531585]\n",
      " [0.09992282]\n",
      " [0.08943919]\n",
      " [0.08452692]\n",
      " [0.08360198]\n",
      " [0.08466566]\n",
      " [0.08562733]\n",
      " [0.08432127]\n",
      " [0.0792056 ]\n",
      " [0.07082467]\n",
      " [0.06136579]\n",
      " [0.05256317]\n",
      " [0.0450146 ]\n",
      " [0.03256458]\n",
      " [0.03880546]\n",
      " [0.04543908]\n",
      " [0.05072125]\n",
      " [0.05276057]\n",
      " [0.05164859]\n",
      " [0.0494687 ]\n",
      " [0.04818484]\n",
      " [0.04874836]\n",
      " [0.05151273]\n",
      " [0.05671675]\n",
      " [0.06470952]\n",
      " [0.07603127]\n",
      " [0.09132238]\n",
      " [0.10984289]\n",
      " [0.12502137]\n",
      " [0.12561344]\n",
      " [0.11189345]\n",
      " [0.09572657]\n",
      " [0.08423048]\n",
      " [0.07810253]\n",
      " [0.07596307]\n",
      " [0.07618619]\n",
      " [0.07701388]\n",
      " [0.07628773]\n",
      " [0.07215352]\n",
      " [0.06481475]\n",
      " [0.05628991]\n",
      " [0.04829518]\n",
      " [0.0414603 ]\n",
      " [0.03455317]\n",
      " [0.04270497]\n",
      " [0.05210122]\n",
      " [0.05978755]\n",
      " [0.06169672]\n",
      " [0.05791215]\n",
      " [0.05267703]\n",
      " [0.04915037]\n",
      " [0.04824711]\n",
      " [0.04999512]\n",
      " [0.0543657 ]\n",
      " [0.06143092]\n",
      " [0.07121733]\n",
      " [0.08352881]\n",
      " [0.09715091]\n",
      " [0.1074213 ]\n",
      " [0.10756942]\n",
      " [0.09782085]\n",
      " [0.08554199]\n",
      " [0.07599818]\n",
      " [0.07029673]\n",
      " [0.06774488]\n",
      " [0.06722189]\n",
      " [0.06736422]\n",
      " [0.06646052]\n",
      " [0.06305879]\n",
      " [0.05719432]\n",
      " [0.05026169]\n",
      " [0.04358669]\n",
      " [0.03775619]\n",
      " [0.03556   ]\n",
      " [0.0451672 ]\n",
      " [0.05698143]\n",
      " [0.06704333]\n",
      " [0.06880662]\n",
      " [0.06234371]\n",
      " [0.05435354]\n",
      " [0.04897204]\n",
      " [0.04684456]\n",
      " [0.04759509]\n",
      " [0.05088058]\n",
      " [0.05645052]\n",
      " [0.0638697 ]\n",
      " [0.07234932]\n",
      " [0.08060811]\n",
      " [0.08613318]\n",
      " [0.08602257]\n",
      " [0.08046083]\n",
      " [0.07286505]\n",
      " [0.06627881]\n",
      " [0.06182599]\n",
      " [0.05938829]\n",
      " [0.05832887]\n",
      " [0.05772252]\n",
      " [0.05644646]\n",
      " [0.05361221]\n",
      " [0.04919121]\n",
      " [0.04395163]\n",
      " [0.03873608]\n",
      " [0.03401487]\n",
      " [0.03477785]\n",
      " [0.04426831]\n",
      " [0.0559531 ]\n",
      " [0.06587374]\n",
      " [0.06748013]\n",
      " [0.06083151]\n",
      " [0.05260167]\n",
      " [0.04688822]\n",
      " [0.04427963]\n",
      " [0.04431137]\n",
      " [0.04650297]\n",
      " [0.05042243]\n",
      " [0.05547404]\n",
      " [0.06082069]\n",
      " [0.06548452]\n",
      " [0.06826756]\n",
      " [0.06810855]\n",
      " [0.06515799]\n",
      " [0.06085198]\n",
      " [0.05671417]\n",
      " [0.05354656]\n",
      " [0.05146273]\n",
      " [0.05015915]\n",
      " [0.04908979]\n",
      " [0.04761003]\n",
      " [0.04523922]\n",
      " [0.04193704]\n",
      " [0.03807646]\n",
      " [0.03413073]\n",
      " [0.03042652]]\n"
     ]
    }
   ],
   "source": [
    "y = p @ x\n",
    "y = y[:, np.newaxis]\n",
    "print(y)"
   ]
  },
  {
   "cell_type": "markdown",
   "id": "2c2f61bb",
   "metadata": {},
   "source": [
    "The coefficient matrix is just $p$."
   ]
  },
  {
   "cell_type": "code",
   "execution_count": 9,
   "id": "04c43955",
   "metadata": {},
   "outputs": [
    {
     "name": "stdout",
     "output_type": "stream",
     "text": [
      "[[0.00429646 0.05714286 0.00249788 ... 0.00116967 0.00210323 0.00275103]\n",
      " [0.004884   0.06451613 0.00275984 ... 0.00123925 0.00221504 0.0027972 ]\n",
      " [0.00559441 0.06451613 0.00306429 ... 0.00131416 0.00232851 0.00282885]\n",
      " ...\n",
      " [0.00207147 0.00107354 0.0032858  ... 0.03035823 0.00443538 0.00178094]\n",
      " [0.0019656  0.00101678 0.00312168 ... 0.02568053 0.00391451 0.00164069]\n",
      " [0.00186306 0.00096386 0.00295561 ... 0.02130379 0.00347874 0.0015163 ]]\n"
     ]
    }
   ],
   "source": [
    "print(p)"
   ]
  },
  {
   "cell_type": "markdown",
   "id": "25bd79b6",
   "metadata": {},
   "source": [
    "## (b)\n",
    "**Create a heatmap that shows the lighting levels, when all lamps are at light strength $20$**"
   ]
  },
  {
   "cell_type": "markdown",
   "id": "4caafb6f",
   "metadata": {},
   "source": [
    "First let's redo the calculation for $y_j$ and $x_i$"
   ]
  },
  {
   "cell_type": "code",
   "execution_count": 10,
   "id": "0df6737c",
   "metadata": {},
   "outputs": [],
   "source": [
    "for i in range(lamp_count):\n",
    "    x[i] = 20\n",
    "y = p @ x\n",
    "y = y[:, np.newaxis]"
   ]
  },
  {
   "cell_type": "markdown",
   "id": "5474b6b3",
   "metadata": {},
   "source": [
    "Then we convert the sequence of squares to a spatial representation"
   ]
  },
  {
   "cell_type": "code",
   "execution_count": 11,
   "id": "acbef97c",
   "metadata": {},
   "outputs": [],
   "source": [
    "spatial = array_to_matrix(y)"
   ]
  },
  {
   "cell_type": "code",
   "execution_count": 12,
   "id": "05e37628",
   "metadata": {
    "scrolled": true
   },
   "outputs": [
    {
     "data": {
      "image/png": "[encoded data removed]",
      "text/plain": [
       "<Figure size 432x288 with 1 Axes>"
      ]
     },
     "metadata": {
      "needs_background": "light"
     },
     "output_type": "display_data"
    }
   ],
   "source": [
    "fig, ax = plt.subplots()\n",
    "ax.set_aspect(\"equal\")\n",
    "ax.matshow(spatial,cmap='coolwarm', origin='lower')\n",
    "\n",
    "# Let's plot the lamps too.\n",
    "for i in range(len(lamps)):\n",
    "    lx,ly,lz = lamps[i]['pos']\n",
    "    ax.scatter(lx,ly, c = 'White')"
   ]
  },
  {
   "cell_type": "markdown",
   "id": "42f3d508",
   "metadata": {},
   "source": [
    "## (c)\n",
    "**We wish to figure out what strength the lamps need to be in order to achieve a light level of 1 on all squares. Do this using the least squares method using QR-decomposition and SVD-decomposition**\n",
    "\n",
    "First we will define the functions we will need for the QR-decomposition"
   ]
  },
  {
   "cell_type": "code",
   "execution_count": 13,
   "id": "7c7ccae0",
   "metadata": {},
   "outputs": [],
   "source": [
    "def gram_schmidt(a):\n",
    "    _, k = a.shape\n",
    "    q = np.copy(a)\n",
    "    r = np.zeros((k,k))\n",
    "    for i in range(k):\n",
    "        r[i, i]  = np.linalg.norm(q[:, i])\n",
    "        q[:, i] /= r[i, i]\n",
    "        r[[i], i + 1:] = q[:, [i]].T @ q[:, i + 1:]\n",
    "        q[:, i + 1:] -= q[:, [i]] @ r[[i], i + 1:]\n",
    "    return q, r\n",
    "\n",
    "def back_sub(r, c):\n",
    "    n, _ = r.shape\n",
    "    coeffs = np.empty((n, 1))\n",
    "    for k in reversed(range(n)):\n",
    "        coeffs[k] = (c[k] - r[[k], k + 1:] @ coeffs[k + 1:]) / r[k, k]\n",
    "    return coeffs"
   ]
  },
  {
   "cell_type": "markdown",
   "id": "2d8ca162",
   "metadata": {},
   "source": [
    "Then we will set the light levels of the squares to 1 and calculate the coefficients."
   ]
  },
  {
   "cell_type": "code",
   "execution_count": 14,
   "id": "7138d18c",
   "metadata": {},
   "outputs": [
    {
     "data": {
      "text/plain": [
       "array([[11.10197522],\n",
       "       [ 9.62564446],\n",
       "       [ 5.62748205],\n",
       "       [ 5.57725197],\n",
       "       [10.87248321],\n",
       "       [ 4.5904294 ],\n",
       "       [ 1.81814075],\n",
       "       [ 9.73479073],\n",
       "       [ 3.31142733],\n",
       "       [12.71525118],\n",
       "       [ 6.45850881],\n",
       "       [ 6.58636602]])"
      ]
     },
     "execution_count": 14,
     "metadata": {},
     "output_type": "execute_result"
    }
   ],
   "source": [
    "y = np.ones(600)\n",
    "q, r = gram_schmidt(p)\n",
    "\n",
    "c = q.T @ y\n",
    "\n",
    "coeffs = back_sub(r, c)\n",
    "coeffs"
   ]
  },
  {
   "cell_type": "markdown",
   "id": "8acbdf45",
   "metadata": {},
   "source": [
    "Now let's plot the result. I use vmin and vmax to limit the values to a very close value around 1, and therefore it will only show those that are close to that value."
   ]
  },
  {
   "cell_type": "code",
   "execution_count": 15,
   "id": "a36d2eb3",
   "metadata": {},
   "outputs": [
    {
     "data": {
      "text/plain": [
       "<matplotlib.image.AxesImage at 0x1f04ad62dd0>"
      ]
     },
     "execution_count": 15,
     "metadata": {},
     "output_type": "execute_result"
    },
    {
     "data": {
      "image/png": "[encoded data removed]",
      "text/plain": [
       "<Figure size 432x288 with 1 Axes>"
      ]
     },
     "metadata": {
      "needs_background": "light"
     },
     "output_type": "display_data"
    }
   ],
   "source": [
    "diff = y[:, np.newaxis] - p @ coeffs\n",
    "diffNorm = np.linalg.norm(diff)\n",
    "y = p @ coeffs\n",
    "y = y[:, np.newaxis]\n",
    "\n",
    "spatial = array_to_matrix(y)\n",
    "\n",
    "fig, ax = plt.subplots()\n",
    "ax.set_aspect(\"equal\")\n",
    "ax.matshow(spatial,cmap='coolwarm', vmin=.95,vmax=1.05, origin='lower')"
   ]
  },
  {
   "cell_type": "markdown",
   "id": "40480ed5",
   "metadata": {},
   "source": [
    "To determine performance and for comparison we compute the differences and the norm of differences, like so"
   ]
  },
  {
   "cell_type": "code",
   "execution_count": 16,
   "id": "c5dc6826",
   "metadata": {},
   "outputs": [],
   "source": [
    "y = np.ones(600)\n",
    "\n",
    "u, s, vt = np.linalg.svd(p, full_matrices=False)\n",
    "coeffs = vt.T @ (np.diag(1/s) @ (u.T @ y[:, np.newaxis]))\n",
    "\n",
    "diff_svd = y[:, np.newaxis] - p @ coeffs\n",
    "diffNorm_svd = np.linalg.norm(diff_svd)"
   ]
  },
  {
   "cell_type": "markdown",
   "id": "ae0e215e",
   "metadata": {},
   "source": [
    "Then we compare the two"
   ]
  },
  {
   "cell_type": "code",
   "execution_count": 17,
   "id": "c43dd75f",
   "metadata": {},
   "outputs": [
    {
     "name": "stdout",
     "output_type": "stream",
     "text": [
      "2.5590821338939568e-14\n",
      "4.370842688955773 4.370842688955773\n"
     ]
    }
   ],
   "source": [
    "print(np.linalg.norm(diff - diff_svd))\n",
    "print(diffNorm_svd, diffNorm)\n"
   ]
  },
  {
   "cell_type": "markdown",
   "id": "1527d044",
   "metadata": {},
   "source": [
    "The results are really close."
   ]
  },
  {
   "cell_type": "code",
   "execution_count": 18,
   "id": "74750946",
   "metadata": {},
   "outputs": [
    {
     "data": {
      "text/plain": [
       "<matplotlib.image.AxesImage at 0x1f048c7be50>"
      ]
     },
     "execution_count": 18,
     "metadata": {},
     "output_type": "execute_result"
    },
    {
     "data": {
      "image/png": "[encoded data removed]",
      "text/plain": [
       "<Figure size 432x288 with 1 Axes>"
      ]
     },
     "metadata": {
      "needs_background": "light"
     },
     "output_type": "display_data"
    }
   ],
   "source": [
    "y = p @ coeffs\n",
    "y = y[:, np.newaxis]\n",
    "\n",
    "spatial = array_to_matrix(y)\n",
    "\n",
    "fig, ax = plt.subplots()\n",
    "ax.set_aspect(\"equal\")\n",
    "ax.matshow(spatial,cmap='coolwarm', vmin=.95,vmax=1.05, origin='lower')"
   ]
  },
  {
   "cell_type": "markdown",
   "id": "a44b3f1a",
   "metadata": {},
   "source": [
    "## (d)\n",
    "**What is the largest devation from the target value of $1$?**"
   ]
  },
  {
   "cell_type": "code",
   "execution_count": 19,
   "id": "ccc5869b",
   "metadata": {},
   "outputs": [
    {
     "name": "stdout",
     "output_type": "stream",
     "text": [
      "Largest deviation was :  [[0.64466315]]\n"
     ]
    }
   ],
   "source": [
    "maxDev = 0\n",
    "for j in range(len(y)):\n",
    "    dev = abs(y[j] - 1)\n",
    "    if (dev > maxDev) :\n",
    "        maxDev = dev\n",
    "        \n",
    "print(\"Largest deviation was : \" , maxDev)"
   ]
  },
  {
   "cell_type": "markdown",
   "id": "6ac925cc",
   "metadata": {},
   "source": [
    "## (e)\n",
    "**Calculate $\\kappa(A)$, $cos(\\theta)$ and $\\eta$**"
   ]
  },
  {
   "cell_type": "code",
   "execution_count": 20,
   "id": "7d2e35f7",
   "metadata": {},
   "outputs": [
    {
     "name": "stdout",
     "output_type": "stream",
     "text": [
      "8.232313e+00\n"
     ]
    }
   ],
   "source": [
    "kappa_a = s[0] / s[-1]\n",
    "print(f'{kappa_a:e}')"
   ]
  },
  {
   "cell_type": "code",
   "execution_count": 23,
   "id": "55679d70",
   "metadata": {},
   "outputs": [
    {
     "name": "stdout",
     "output_type": "stream",
     "text": [
      "86.21747655857298\n"
     ]
    }
   ],
   "source": [
    "cos_theta = np.linalg.norm(p) / np.linalg.norm(y)\n",
    "print(np.arccos(cos_theta) * 180 / np.pi)\n"
   ]
  },
  {
   "cell_type": "code",
   "execution_count": null,
   "id": "2efd5436",
   "metadata": {},
   "outputs": [],
   "source": []
  },
  {
   "cell_type": "code",
   "execution_count": null,
   "id": "39e65e20",
   "metadata": {},
   "outputs": [],
   "source": []
  },
  {
   "cell_type": "code",
   "execution_count": null,
   "id": "edef3329",
   "metadata": {},
   "outputs": [],
   "source": []
  },
  {
   "cell_type": "code",
   "execution_count": null,
   "id": "987742c5",
   "metadata": {},
   "outputs": [],
   "source": []
  },
  {
   "cell_type": "code",
   "execution_count": null,
   "id": "077852fb",
   "metadata": {},
   "outputs": [],
   "source": []
  },
  {
   "cell_type": "code",
   "execution_count": null,
   "id": "57044b75",
   "metadata": {},
   "outputs": [],
   "source": []
  },
  {
   "cell_type": "code",
   "execution_count": null,
   "id": "3cbd4310",
   "metadata": {},
   "outputs": [],
   "source": []
  },
  {
   "cell_type": "code",
   "execution_count": null,
   "id": "fa0b9dbb",
   "metadata": {},
   "outputs": [],
   "source": []
  },
  {
   "cell_type": "code",
   "execution_count": null,
   "id": "9f1a4e8c",
   "metadata": {},
   "outputs": [],
   "source": []
  },
  {
   "cell_type": "code",
   "execution_count": null,
   "id": "8ce9e224",
   "metadata": {},
   "outputs": [],
   "source": []
  },
  {
   "cell_type": "code",
   "execution_count": null,
   "id": "54ea57b1",
   "metadata": {},
   "outputs": [],
   "source": []
  },
  {
   "cell_type": "code",
   "execution_count": null,
   "id": "f07249a7",
   "metadata": {},
   "outputs": [],
   "source": []
  },
  {
   "cell_type": "code",
   "execution_count": null,
   "id": "f403086a",
   "metadata": {},
   "outputs": [],
   "source": []
  },
  {
   "cell_type": "code",
   "execution_count": null,
   "id": "3a5a90a0",
   "metadata": {},
   "outputs": [],
   "source": []
  },
  {
   "cell_type": "code",
   "execution_count": null,
   "id": "f4af2130",
   "metadata": {},
   "outputs": [],
   "source": []
  },
  {
   "cell_type": "code",
   "execution_count": null,
   "id": "dd75d7d0",
   "metadata": {},
   "outputs": [],
   "source": []
  },
  {
   "cell_type": "code",
   "execution_count": null,
   "id": "c75d7696",
   "metadata": {},
   "outputs": [],
   "source": []
  }
 ],
 "metadata": {
  "kernelspec": {
   "display_name": "Python 3 (ipykernel)",
   "language": "python",
   "name": "python3"
  },
  "language_info": {
   "codemirror_mode": {
    "name": "ipython",
    "version": 3
   },
   "file_extension": ".py",
   "mimetype": "text/x-python",
   "name": "python",
   "nbconvert_exporter": "python",
   "pygments_lexer": "ipython3",
   "version": "3.10.4"
  }
 },
 "nbformat": 4,
 "nbformat_minor": 5
}
