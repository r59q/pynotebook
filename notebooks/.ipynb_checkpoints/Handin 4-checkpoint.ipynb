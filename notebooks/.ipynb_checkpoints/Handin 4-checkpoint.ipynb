{
 "cells": [
  {
   "cell_type": "markdown",
   "id": "5115299e",
   "metadata": {},
   "source": [
    "# Handin 4\n",
    "   ### Andreas Malthe Henriksen ( 202004107 )"
   ]
  },
  {
   "cell_type": "markdown",
   "id": "2e18f9eb",
   "metadata": {},
   "source": [
    "Behold the vectors\n",
    "\n",
    "$$\n",
    "v_0=\\begin{bmatrix}\n",
    "1 \\\\ -1 \\\\ 1 \\\\ -1\n",
    "\\end{bmatrix}\n",
    ",\n",
    "v_1=\\begin{bmatrix}\n",
    "1 \\\\ 1 \\\\ 1 \\\\ 1\n",
    "\\end{bmatrix}\n",
    ",\n",
    "v_2=\\begin{bmatrix}\n",
    "2 \\\\ 0 \\\\ -2 \\\\ 0\n",
    "\\end{bmatrix}\n",
    "$$"
   ]
  },
  {
   "cell_type": "markdown",
   "id": "a7886f15",
   "metadata": {},
   "source": [
    "### (a) Create the Gram matrix and confirm the set of vectors are orthagonal"
   ]
  },
  {
   "cell_type": "markdown",
   "id": "c1f8c434",
   "metadata": {},
   "source": [
    "First I will represent the vectors in python"
   ]
  },
  {
   "cell_type": "code",
   "execution_count": 1,
   "id": "7969226d",
   "metadata": {
    "scrolled": true
   },
   "outputs": [],
   "source": [
    "import numpy as np\n",
    "\n",
    "v0 = np.array([1., -1.,  1., -1.])\n",
    "v1 = np.array([1.,  1.,  1.,  1.])\n",
    "v2 = np.array([2.,  0., -2.,  0.])"
   ]
  },
  {
   "cell_type": "markdown",
   "id": "7680182b",
   "metadata": {},
   "source": [
    "Then we will create a matrix $V$ of these vectors"
   ]
  },
  {
   "cell_type": "code",
   "execution_count": 2,
   "id": "56c0f98b",
   "metadata": {},
   "outputs": [
    {
     "name": "stdout",
     "output_type": "stream",
     "text": [
      "Vector matrix V\n",
      "[[ 1.  1.  2.]\n",
      " [-1.  1.  0.]\n",
      " [ 1.  1. -2.]\n",
      " [-1.  1.  0.]]\n"
     ]
    }
   ],
   "source": [
    "V = np.array([v0,v1,v2]).T # transpose it to keep vectors in columns\n",
    "print(\"Vector matrix V\")\n",
    "print(V)"
   ]
  },
  {
   "cell_type": "markdown",
   "id": "fe4fca81",
   "metadata": {},
   "source": [
    "The Gram matrix is then\n",
    "$$G = V^TV$$\n",
    "Which we can find in python like so"
   ]
  },
  {
   "cell_type": "code",
   "execution_count": 3,
   "id": "a357b31f",
   "metadata": {},
   "outputs": [
    {
     "name": "stdout",
     "output_type": "stream",
     "text": [
      "The gram matrix, G\n",
      "[[4. 0. 0.]\n",
      " [0. 4. 0.]\n",
      " [0. 0. 8.]]\n"
     ]
    }
   ],
   "source": [
    "G = V.T@V\n",
    "print(\"The gram matrix, G\")\n",
    "print(G)"
   ]
  },
  {
   "cell_type": "markdown",
   "id": "6901db28",
   "metadata": {},
   "source": [
    "To check orthogonality between the vectors we will do the following assertions\n",
    "\n",
    "$$v \\cdot u =0,\\ \\ \\forall v, u \\in \\{v_0,v_1,v_2\\} \\land v\\neq u$$"
   ]
  },
  {
   "cell_type": "code",
   "execution_count": 8,
   "id": "0999223b",
   "metadata": {},
   "outputs": [
    {
     "ename": "NameError",
     "evalue": "name 'newaxis' is not defined",
     "output_type": "error",
     "traceback": [
      "\u001b[0;31m---------------------------------------------------------------------------\u001b[0m",
      "\u001b[0;31mNameError\u001b[0m                                 Traceback (most recent call last)",
      "Input \u001b[0;32mIn [8]\u001b[0m, in \u001b[0;36m<module>\u001b[0;34m\u001b[0m\n\u001b[0;32m----> 1\u001b[0m v0 \u001b[38;5;241m=\u001b[39m v0[:, \u001b[43mnewaxis\u001b[49m]\n\u001b[1;32m      2\u001b[0m v1 \u001b[38;5;241m=\u001b[39m v1[:, newaxis]\n\u001b[1;32m      3\u001b[0m v2 \u001b[38;5;241m=\u001b[39m v2[:, newaxis]\n",
      "\u001b[0;31mNameError\u001b[0m: name 'newaxis' is not defined"
     ]
    }
   ],
   "source": [
    "v0 = v0[:, np.newaxis]\n",
    "v1 = v1[:, np.newaxis]\n",
    "v2 = v2[:, np.newaxis]\n",
    "\n",
    "assert v0.dot(v1) == 0.\n",
    "assert v0.dot(v2) == 0.\n",
    "assert v1.dot(v0) == 0.\n",
    "assert v1.dot(v2) == 0.\n",
    "assert v2.dot(v0) == 0.\n",
    "assert v2.dot(v1) == 0."
   ]
  },
  {
   "cell_type": "markdown",
   "id": "db0b3901",
   "metadata": {},
   "source": [
    "Since none of the assertions raises any error, all of the vectors must be orthagonal"
   ]
  },
  {
   "cell_type": "markdown",
   "id": "ae8d182b",
   "metadata": {},
   "source": [
    "### (b) Make the projection along $v_0,v_1,v_2$ with\n",
    "\n",
    "$$Px=\\begin{bmatrix}3.0\\\\ 2.0 \\\\ 1.0 \\\\ 0.0\\end{bmatrix}$$"
   ]
  },
  {
   "cell_type": "markdown",
   "id": "59d461b1",
   "metadata": {},
   "source": [
    "The projection we will define as \n",
    "$$Pr_x=\\frac{Px\\cdot v_x}{||v_x||^2_2}v_x$$\n",
    "The following snippet will be a function that will take $Px$ and project it along a vector $v_x$"
   ]
  },
  {
   "cell_type": "code",
   "execution_count": 7,
   "id": "718dff0b",
   "metadata": {},
   "outputs": [
    {
     "ename": "ValueError",
     "evalue": "shapes (4,1) and (4,) not aligned: 1 (dim 1) != 4 (dim 0)",
     "output_type": "error",
     "traceback": [
      "\u001b[0;31m---------------------------------------------------------------------------\u001b[0m",
      "\u001b[0;31mValueError\u001b[0m                                Traceback (most recent call last)",
      "Input \u001b[0;32mIn [7]\u001b[0m, in \u001b[0;36m<module>\u001b[0;34m\u001b[0m\n\u001b[1;32m      3\u001b[0m     vxLen \u001b[38;5;241m=\u001b[39m np\u001b[38;5;241m.\u001b[39mlinalg\u001b[38;5;241m.\u001b[39mnorm(vx)\n\u001b[1;32m      4\u001b[0m     \u001b[38;5;28;01mreturn\u001b[39;00m ((Px\u001b[38;5;241m.\u001b[39mdot(vx))\u001b[38;5;241m/\u001b[39m(vxlen\u001b[38;5;241m*\u001b[39m\u001b[38;5;241m*\u001b[39m\u001b[38;5;241m2\u001b[39m)) \u001b[38;5;241m@\u001b[39m vx\n\u001b[0;32m----> 6\u001b[0m \u001b[38;5;28mprint\u001b[39m(\u001b[43mproject\u001b[49m\u001b[43m(\u001b[49m\u001b[43mv1\u001b[49m\u001b[43m)\u001b[49m)\n",
      "Input \u001b[0;32mIn [7]\u001b[0m, in \u001b[0;36mproject\u001b[0;34m(vx)\u001b[0m\n\u001b[1;32m      2\u001b[0m Px \u001b[38;5;241m=\u001b[39m np\u001b[38;5;241m.\u001b[39marray([\u001b[38;5;241m3.\u001b[39m, \u001b[38;5;241m2.\u001b[39m, \u001b[38;5;241m1.\u001b[39m, \u001b[38;5;241m0.\u001b[39m])[:,np\u001b[38;5;241m.\u001b[39mnewaxis]\n\u001b[1;32m      3\u001b[0m vxLen \u001b[38;5;241m=\u001b[39m np\u001b[38;5;241m.\u001b[39mlinalg\u001b[38;5;241m.\u001b[39mnorm(vx)\n\u001b[0;32m----> 4\u001b[0m \u001b[38;5;28;01mreturn\u001b[39;00m ((\u001b[43mPx\u001b[49m\u001b[38;5;241;43m.\u001b[39;49m\u001b[43mdot\u001b[49m\u001b[43m(\u001b[49m\u001b[43mvx\u001b[49m\u001b[43m)\u001b[49m)\u001b[38;5;241m/\u001b[39m(vxlen\u001b[38;5;241m*\u001b[39m\u001b[38;5;241m*\u001b[39m\u001b[38;5;241m2\u001b[39m)) \u001b[38;5;241m@\u001b[39m vx\n",
      "\u001b[0;31mValueError\u001b[0m: shapes (4,1) and (4,) not aligned: 1 (dim 1) != 4 (dim 0)"
     ]
    }
   ],
   "source": [
    "def project(vx):\n",
    "    Px = np.array([3., 2., 1., 0.])[:,np.newaxis]\n",
    "    vxLen = np.linalg.norm(vx)\n",
    "    return ((Px.dot(vx))/(vxlen**2)) @ vx\n",
    "\n",
    "print(project(v1))\n",
    "    "
   ]
  },
  {
   "cell_type": "code",
   "execution_count": null,
   "id": "f8d15601",
   "metadata": {},
   "outputs": [],
   "source": []
  }
 ],
 "metadata": {
  "kernelspec": {
   "display_name": "Python 3 (ipykernel)",
   "language": "python",
   "name": "python3"
  },
  "language_info": {
   "codemirror_mode": {
    "name": "ipython",
    "version": 3
   },
   "file_extension": ".py",
   "mimetype": "text/x-python",
   "name": "python",
   "nbconvert_exporter": "python",
   "pygments_lexer": "ipython3",
   "version": "3.10.2"
  }
 },
 "nbformat": 4,
 "nbformat_minor": 5
}
