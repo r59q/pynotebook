{
 "cells": [
  {
   "cell_type": "markdown",
   "id": "309f0303",
   "metadata": {},
   "source": [
    "# Handin 6\n",
    "Andreas Malthe Henriksen (202004107)"
   ]
  },
  {
   "cell_type": "markdown",
   "id": "db46c5d9",
   "metadata": {},
   "source": [
    "Consider the space of differentiable functions $f:[0, \\pi]\\to \\mathbb{R}$ with a $L^2$-inner product\n",
    "\n",
    "$$\\langle f,g \\rangle = \\int_{0}^{\\pi}f(x)g(x) \\ dx$$"
   ]
  },
  {
   "cell_type": "markdown",
   "id": "1659bbad",
   "metadata": {},
   "source": [
    "## (a)\n",
    "\n",
    "**Show that the collection** \n",
    "$$sin(x),sin(2x),\\cdots,sin((k-1)x)$$\n",
    "**where $x\\in [0,\\pi]$, are orthagonal for the inner product.**"
   ]
  },
  {
   "cell_type": "code",
   "execution_count": 1,
   "id": "7fa169bb",
   "metadata": {},
   "outputs": [],
   "source": [
    "import numpy as np\n",
    "n = 1000\n",
    "x, h = np.linspace(0, np.pi, n, retstep=True)"
   ]
  },
  {
   "cell_type": "markdown",
   "id": "a97568ee",
   "metadata": {},
   "source": [
    "To test for orthogonality I use the trapz function in numpy. To test the collection I created the following function."
   ]
  },
  {
   "cell_type": "code",
   "execution_count": 2,
   "id": "41f7e157",
   "metadata": {},
   "outputs": [],
   "source": [
    "def is_collection_orthagonal(k, mtol = 10):\n",
    "    # Loop over every element in the cartesian product\n",
    "    for i in range(k):\n",
    "        for j in range(i+1, k): # We start at i+1 to skip testing reverse orderings of the same product\n",
    "            # The sin-functions to test\n",
    "            f = np.sin(i*x)\n",
    "            g = np.sin(j*x)\n",
    "            trapz = np.trapz(f * g, dx=h)\n",
    "            if (np.abs(trapz) > np.finfo(float).eps * mtol):\n",
    "                # If the test fails, print the pair that failed the test and return falsely.\n",
    "                print(np.abs(np.trapz(f * g, dx=h)),\" Was greater at sin(\", i , \"* x) * sin(\", j, \"* x)\")\n",
    "                return False\n",
    "    return True"
   ]
  },
  {
   "cell_type": "markdown",
   "id": "dcef6e9d",
   "metadata": {},
   "source": [
    "We can run this function for $k=50$ to get"
   ]
  },
  {
   "cell_type": "code",
   "execution_count": 3,
   "id": "de07a12f",
   "metadata": {},
   "outputs": [
    {
     "name": "stdout",
     "output_type": "stream",
     "text": [
      "Is the collection orthagonal?:  True\n"
     ]
    }
   ],
   "source": [
    "print(\"Is the collection orthagonal?: \",is_collection_orthagonal(50))"
   ]
  },
  {
   "cell_type": "markdown",
   "id": "11bf6e98",
   "metadata": {},
   "source": [
    "## (b)\n",
    "**Makes sense of why $f(x)=1$ is orthagonal to $sin(2x)$ and $sin(4x)$ but not on $sin(x)$ nor $sin(3x)$**"
   ]
  },
  {
   "cell_type": "markdown",
   "id": "3a830388",
   "metadata": {},
   "source": [
    "Lets plot a sin-function to look at. Let that be sin(5*x)"
   ]
  },
  {
   "cell_type": "code",
   "execution_count": 4,
   "id": "d9551ed0",
   "metadata": {},
   "outputs": [
    {
     "data": {
      "text/plain": [
       "[<matplotlib.lines.Line2D at 0x1b25118f550>]"
      ]
     },
     "execution_count": 4,
     "metadata": {},
     "output_type": "execute_result"
    },
    {
     "data": {
      "image/png": "[encoded data removed]",
      "text/plain": [
       "<Figure size 432x288 with 1 Axes>"
      ]
     },
     "metadata": {
      "needs_background": "light"
     },
     "output_type": "display_data"
    }
   ],
   "source": [
    "import matplotlib.pyplot as plt\n",
    "\n",
    "fig, ax = plt.subplots()\n",
    "plt.axhline(0, color='black', lw=1)\n",
    "ax.plot(x, np.sin(5*x))"
   ]
  },
  {
   "cell_type": "markdown",
   "id": "7c4f92cb",
   "metadata": {},
   "source": [
    "Consider how it has 5 tips.\n",
    "\n",
    "It is all in the number of peaks and valleys the sin-functions have. If the inner-product is the integral of the sin functions, then it would make sense that the area underneath the function should be zero. In order for the sin functions to have no area underneath, the peaks and valleys must cancel eachother out.\n",
    "\n",
    "For $sin(x),\\ x\\in[0,\\pi]$ the area is $2$ which is directly proportional with the number of peaks, $1$ and valleys, $0$.\n",
    "\n",
    "Therefore any number $k$ when multiplied $\\int_0^\\pi sin(kx)$ will be 0 if $k$ an even number, meaning equal number of peaks and valleys."
   ]
  },
  {
   "cell_type": "markdown",
   "id": "61079835",
   "metadata": {},
   "source": [
    "## (c)\n",
    "**Project $f(x)=1$ along $sin(x)$ and $sin(3x)$. From the projection find the function $1+c_1sin(x)+c_3sin(3x)$, which is orthagonal to both sin(x) and sin(3x). Explain why this combination is orthagonal to all of the functions $sin(x), sin(2x),\\cdots sin(5x)$**"
   ]
  },
  {
   "cell_type": "markdown",
   "id": "73fdc190",
   "metadata": {},
   "source": [
    "$$P(u)=\\frac{\\langle u, v_0\\rangle}{||v_0||^2}v_0+\\frac{\\langle u, v_1\\rangle}{||v_1||^2}v_1 + \\cdots + \\frac{\\langle u, v_{k-1}\\rangle}{||v_{k-1}||^2}v_{k-1}$$\n",
    "\n",
    "$$=\\frac{\\int_{0}^{\\pi}1 sin(x) \\ dx}{\\int_{0}^{\\pi} sin(x)^2 \\ dx}sin(x) + \\frac{\\int_{0}^{\\pi}1 sin(3x) \\ dx}{\\int_{0}^{\\pi} sin(3x)^2 \\ dx}sin(3x)$$\n",
    "\n",
    "$$=\\frac{\\int_{0}^{\\pi}sin(x) \\ dx}{\\int_{0}^{\\pi} sin(x)^2 \\ dx}sin(x) + \\frac{\\int_{0}^{\\pi}sin(3x) \\ dx}{\\int_{0}^{\\pi} sin(3x)^2 \\ dx}sin(3x)$$\n",
    "\n",
    "$$=\\frac{[-cos(x)]_0^\\pi}{[\\frac{1}{2}x - \\frac{1}{4}sin(2x)]_0^\\pi}sin(x) + \\frac{[-\\frac{1}{3}cos(3x)]_0^\\pi}{[\\frac{1}{2}x - \\frac{1}{12}sin(6x)]_0^\\pi}sin(3x)$$\n",
    "\n",
    "\n",
    "$$=\\frac{-cos(\\pi)+cos(0)}{\\frac{1}{2}\\pi - \\frac{1}{4}sin(2\\pi)-\\frac{1}{2}0 - \\frac{1}{4}sin(0)}sin(x) + \\frac{-\\frac{1}{3}cos(3\\pi)+\\frac{1}{3}cos(0)}{\\frac{1}{2}\\pi - \\frac{1}{12}sin(6\\pi) - \\frac{1}{2}0 - \\frac{1}{12}sin(0)}sin(3x)$$\n",
    "\n",
    "\n",
    "$$=\\frac{4}{\\pi }sin(x) + \\frac{\\frac{2}{3}}{\\frac{1}{2}\\pi}sin(3x)$$\n",
    "\n",
    "Then we can make the new function with $c_1=-\\frac{4}{\\pi}, c_3 = -\\frac{4}{3\\pi}$"
   ]
  },
  {
   "cell_type": "code",
   "execution_count": 5,
   "id": "73c0e85a",
   "metadata": {},
   "outputs": [],
   "source": [
    "def new_func(x):\n",
    "    return 1 - (4/np.pi) * np.sin(x) - (4/(3*np.pi)) * np.sin(3*x)"
   ]
  },
  {
   "cell_type": "code",
   "execution_count": 6,
   "id": "2d7a4d03",
   "metadata": {},
   "outputs": [
    {
     "name": "stdout",
     "output_type": "stream",
     "text": [
      "-1.6482291481552391e-06\n",
      "-1.3877787807814457e-17\n",
      "-4.944693964177571e-06\n",
      "1.3877787807814457e-17\n"
     ]
    }
   ],
   "source": [
    "print(np.trapz(new_func(x) * np.sin(1*x), dx=h))\n",
    "print(np.trapz(new_func(x) * np.sin(2*x), dx=h))\n",
    "print(np.trapz(new_func(x) * np.sin(3*x), dx=h))\n",
    "print(np.trapz(new_func(x) * np.sin(4*x), dx=h))"
   ]
  },
  {
   "cell_type": "markdown",
   "id": "ddf64667",
   "metadata": {},
   "source": [
    "## (d)\n",
    "**For $k=5$ decide the combination of functions that is closest to $1-e^{-x}$ for $0\\leq x \\leq \\pi$**"
   ]
  },
  {
   "cell_type": "code",
   "execution_count": 13,
   "id": "b9560250",
   "metadata": {},
   "outputs": [],
   "source": [
    "def eminusx(x): \n",
    "    return 1-(np.exp(-x))\n",
    "\n",
    "def trapz_inner(f, g):\n",
    "    return np.trapz(f * g, dx=h)\n",
    "\n",
    "def norm_sq(f):\n",
    "    return trapz_inner(f, f)\n",
    "\n",
    "def proj(f, k, x):\n",
    "    out = np.zeros(n)\n",
    "    \n",
    "    for m in range(1, k):\n",
    "        out += (trapz_inner(f, np.sin(m*x)) / norm_sq(np.sin(m*x)) * np.sin(m*x))\n",
    "        \n",
    "    return out\n"
   ]
  },
  {
   "cell_type": "code",
   "execution_count": 14,
   "id": "239bff23",
   "metadata": {},
   "outputs": [
    {
     "name": "stdout",
     "output_type": "stream",
     "text": [
      "1\n",
      "2\n",
      "3\n",
      "4\n"
     ]
    },
    {
     "data": {
      "text/plain": [
       "[<matplotlib.lines.Line2D at 0x1b2533df160>]"
      ]
     },
     "execution_count": 14,
     "metadata": {},
     "output_type": "execute_result"
    },
    {
     "data": {
      "image/png": "[encoded data removed]",
      "text/plain": [
       "<Figure size 432x288 with 1 Axes>"
      ]
     },
     "metadata": {
      "needs_background": "light"
     },
     "output_type": "display_data"
    }
   ],
   "source": [
    "fig, ax = plt.subplots()\n",
    "pr = proj(eminusx(x), 5, x).T\n",
    "\n",
    "ax.plot(x, eminusx(x))\n",
    "ax.plot(x, pr)"
   ]
  },
  {
   "cell_type": "code",
   "execution_count": null,
   "id": "d100c37b",
   "metadata": {},
   "outputs": [],
   "source": []
  },
  {
   "cell_type": "code",
   "execution_count": null,
   "id": "1e5e2902",
   "metadata": {},
   "outputs": [],
   "source": []
  }
 ],
 "metadata": {
  "kernelspec": {
   "display_name": "Python 3 (ipykernel)",
   "language": "python",
   "name": "python3"
  },
  "language_info": {
   "codemirror_mode": {
    "name": "ipython",
    "version": 3
   },
   "file_extension": ".py",
   "mimetype": "text/x-python",
   "name": "python",
   "nbconvert_exporter": "python",
   "pygments_lexer": "ipython3",
   "version": "3.10.4"
  }
 },
 "nbformat": 4,
 "nbformat_minor": 5
}
