{
 "cells": [
  {
   "cell_type": "markdown",
   "id": "8e19bd4d",
   "metadata": {},
   "source": [
    "## Handin 1\n",
    "\n",
    "![title](img/img.png)\n",
    "\n",
    "An robot arm conists of 4 static parts, OA, AB, BC and CP connected in the plane such that the arm cab bend in the joints O, A, B and C.\n",
    "\n",
    "    Let a be the vector O to A\n",
    "    Let b be the vector A to B\n",
    "    Let c be the vector B to C\n",
    "    Let d be the vector C to P\n",
    "\n",
    "    The position of the arm can be described as the matrix\n",
    "    S = [a | b | c | d]\n",
    "\n",
    "Below is an implementation of this in python"
   ]
  },
  {
   "cell_type": "code",
   "execution_count": 1,
   "id": "1076ac3b",
   "metadata": {},
   "outputs": [
    {
     "name": "stdout",
     "output_type": "stream",
     "text": [
      "[[ 1.   0.5  0.2 -0.1]\n",
      " [ 2.   0.1 -0.3 -0.2]]\n"
     ]
    }
   ],
   "source": [
    "import numpy as np\n",
    "\n",
    "\n",
    "# Vectors\n",
    "a = np.array([1.0, 2.0])\n",
    "b = np.array([0.5, 0.1])\n",
    "c = np.array([0.2, -0.3])\n",
    "d = np.array([-0.1, -0.2])\n",
    "\n",
    "# Matrix\n",
    "S = np.array([a, b , c , d])\n",
    "S = S.T # Transpose to keep the vectors in columns\n",
    "print(S) # Print the S matrix "
   ]
  },
  {
   "cell_type": "markdown",
   "id": "ffd218b0",
   "metadata": {},
   "source": [
    "#### a) Choose some reasonable values for a,b,c and d and plot it using matplotlib\n",
    "To do this I will use the arrow() method, that takes an origin and vector as parameter. We will keep track of the origin, by adding each vector onto it as the plot is being generated."
   ]
  },
  {
   "cell_type": "code",
   "execution_count": 2,
   "id": "99ed3687",
   "metadata": {},
   "outputs": [
    {
     "data": {
      "image/png": "[encoded data removed]",
      "text/plain": [
       "<Figure size 432x288 with 1 Axes>"
      ]
     },
     "metadata": {
      "needs_background": "light"
     },
     "output_type": "display_data"
    }
   ],
   "source": [
    "import matplotlib.pyplot as plt\n",
    "\n",
    "# Wrap this in a function for later use\n",
    "def displayVectorMatrix(vectorMatrix, xlim = 2.5, ylim = 2.5):\n",
    "    # Init\n",
    "    fig, ax = plt.subplots()\n",
    "\n",
    "    # Plotting vectors\n",
    "    n = vectorMatrix.shape[1] # The number of vectors\n",
    "    origin = (0,0) # Remember the last position to draw from\n",
    "\n",
    "    for x in range(n):\n",
    "        v = vectorMatrix[:, x]  # The current vector\n",
    "        v_x, v_y = v # Unpacked x and y entries\n",
    "        o_x, o_y = origin  # The origin to draw from \n",
    "        origin = origin + v # Set new origin.\n",
    "\n",
    "        # Draw the arrow/line\n",
    "        ax.arrow(o_x, o_y, v_x, v_y)\n",
    "\n",
    "    # Display settings\n",
    "    ax.set_aspect('equal')\n",
    "    plt.grid()\n",
    "    plt.xlim(min(xlim, 0),max(xlim, 0))\n",
    "    plt.ylim(min(ylim, 0),max(ylim, 0))\n",
    "\n",
    "displayVectorMatrix(S)"
   ]
  },
  {
   "cell_type": "markdown",
   "id": "5078f523",
   "metadata": {},
   "source": [
    "#### b) Calculate the vector from origo to P from the vectors\n",
    "\n",
    "We just add the vectors together\n",
    "\n",
    "    OP = a + b + c + d \n",
    "       = (1 + 0.5 + 0.2 - 0.1 , 2 + 0.1 - 0.3 - 0.2 ) \n",
    "       = (1.6, 1.6)"
   ]
  },
  {
   "cell_type": "code",
   "execution_count": 3,
   "id": "d758db79",
   "metadata": {},
   "outputs": [
    {
     "name": "stdout",
     "output_type": "stream",
     "text": [
      "[1.6 1.6]\n"
     ]
    }
   ],
   "source": [
    "OP = a + b + c + d \n",
    "print (OP)"
   ]
  },
  {
   "cell_type": "markdown",
   "id": "173eab42",
   "metadata": {},
   "source": [
    "#### c) Argue that when the joint C is bent, it equates to multiplying a rotation matrix R_C onto vector d.\n",
    "Suppose we want to bend it 180 degrees. That would be the same as multiplying it with -1, as the vector essentially just needs to go the opposite direction. That means we would expect it to curl upwards and out, instead of downwards and in, as shown in the plot above.\n",
    "\n",
    "As such, we would expect the resulting vector value to be -1*(-0.1, -0.2) = (0.1, 0.2).\n",
    "\n",
    "We will compute it in the follow Python snippet."
   ]
  },
  {
   "cell_type": "code",
   "execution_count": 7,
   "id": "43c9cd4e",
   "metadata": {},
   "outputs": [
    {
     "name": "stdout",
     "output_type": "stream",
     "text": [
      "Rotated matrix ->  [0.1 0.2]\n"
     ]
    }
   ],
   "source": [
    "# Wrap in function for later use.\n",
    "def rotateVector(deg, v):\n",
    "    # First compute degrees in radians\n",
    "    rad = np.radians(deg)\n",
    "\n",
    "    # Compute the sine and cosine.\n",
    "    c,s = np.cos(rad) , np.sin(rad) \n",
    "\n",
    "    # Create the rotation matrix\n",
    "    Rc = np.array([[c, -s], [s, c]])\n",
    "\n",
    "    # Rotate the vector by multiplying Rc and v.\n",
    "    rotated_v = np.dot(Rc, v)\n",
    "    return rotated_v\n",
    "\n",
    "print(\"Rotated matrix -> \" , rotateVector(180, d))"
   ]
  },
  {
   "cell_type": "markdown",
   "id": "dd245adf",
   "metadata": {},
   "source": [
    "As we can see above, we get the expected value. \n",
    "\n",
    "Now lets draw the plot with the new rotated vector"
   ]
  },
  {
   "cell_type": "code",
   "execution_count": 5,
   "id": "99e9e538",
   "metadata": {},
   "outputs": [
    {
     "data": {
      "image/png": "[encoded data removed]",
      "text/plain": [
       "<Figure size 432x288 with 1 Axes>"
      ]
     },
     "metadata": {
      "needs_background": "light"
     },
     "output_type": "display_data"
    }
   ],
   "source": [
    "# Rotate d\n",
    "rotated_d = rotateVector(180, d)\n",
    "\n",
    "# Create matrix\n",
    "S = np.array([a, b, c, rotated_d])\n",
    "S = S.T\n",
    "\n",
    "# Display matrix\n",
    "displayVectorMatrix(S)"
   ]
  },
  {
   "cell_type": "markdown",
   "id": "ee7de19a",
   "metadata": {},
   "source": [
    "#### d) Give instructions for a transformation, that only bends the matrix in joint A. Draw this.\n",
    "\n",
    "To do this, we must do a 'ripple' transformation. If we consider each vector to be a child of another, such that a is the parent of b and b is the parent of c and so forth. Then if we want to rotate some joint, we must also rotate the children of the joint recursively."
   ]
  },
  {
   "cell_type": "code",
   "execution_count": 6,
   "id": "2ff2bb54",
   "metadata": {},
   "outputs": [
    {
     "data": {
      "image/png": "[encoded data removed]",
      "text/plain": [
       "<Figure size 432x288 with 1 Axes>"
      ]
     },
     "metadata": {
      "needs_background": "light"
     },
     "output_type": "display_data"
    }
   ],
   "source": [
    "# Rotate joint A 180 degrees\n",
    "rotationAngle = 180\n",
    "rotated_b = rotateVector(rotationAngle, b) # Rotate the A joint\n",
    "rotated_c = rotateVector(rotationAngle, c) # Rotate the B joint (Child of A)\n",
    "rotated_d = rotateVector(rotationAngle, d) # Rotate the C joint (Child of B)\n",
    "\n",
    "# Create matrix\n",
    "S = np.array([a, rotated_b, rotated_c, rotated_d])\n",
    "S = S.T\n",
    "\n",
    "# Display matrix\n",
    "displayVectorMatrix(S)"
   ]
  },
  {
   "cell_type": "markdown",
   "id": "85311aea",
   "metadata": {},
   "source": [
    "#### e) Show that in general it doesn't matter in what order the joints are bent\n",
    "\n",
    "    Let R_n be a rotation transformation function that rotates a joint n and its children with the matrix m = ([c, -s], [s, c]), as described above\n",
    "    Show that\n",
    "    R_A(R_C(S)) = R_C(R_A(S))\n",
    "I will first expand the left hand side\n",
    "\n",
    "    R_C(S) = ( a | b | c | m*d)\n",
    "    R_A(R_C(S)) = (a | m*b | m*c | m*m*d)\n",
    "Then I expand the right hand side    \n",
    "\n",
    "    R_A(S) = (a | m*b | m*c | m*d)\n",
    "    R_C(R_A(S)) = (a | m*b | m*c | m*m*d)\n",
    "And as we can see, both sides are the same\n",
    "\n",
    "    R_A(R_C(S)) = R_C(R_A(S))\n",
    "    \n",
    "    \n",
    "    \n",
    "    Let R_A(v) be a function that rotates the vector matrix v in joint A with some rotation matrix m = ([c, -s],[s, c])\n",
    "    Let R_C(u) be a function that rotates the vector matrix u in joint C with some rotation matrix n = ([k, -j],[j, k])\n",
    "    \n",
    "Show that\n",
    "\n",
    "    R_A(R_C(S)) = R_C(R_A(S))\n",
    "\n",
    "    R_C(S)"
   ]
  },
  {
   "cell_type": "code",
   "execution_count": null,
   "id": "de6f3067",
   "metadata": {},
   "outputs": [],
   "source": []
  }
 ],
 "metadata": {
  "kernelspec": {
   "display_name": "Python 3 (ipykernel)",
   "language": "python",
   "name": "python3"
  },
  "language_info": {
   "codemirror_mode": {
    "name": "ipython",
    "version": 3
   },
   "file_extension": ".py",
   "mimetype": "text/x-python",
   "name": "python",
   "nbconvert_exporter": "python",
   "pygments_lexer": "ipython3",
   "version": "3.9.5"
  }
 },
 "nbformat": 4,
 "nbformat_minor": 5
}
