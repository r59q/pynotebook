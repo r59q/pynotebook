{
 "cells": [
  {
   "attachments": {},
   "cell_type": "markdown",
   "id": "fb0bab55",
   "metadata": {},
   "source": [
    "## Handin 1\n",
    "\n",
    "![title](img/img.png)\n",
    "\n",
    "An robot arm conists of 4 static parts, OA, AB, BC and CP connected in the plane such that the arm cab bend in the joints O, A, B and C.\n",
    "\n",
    "    Let a be the vector O to A\n",
    "    Let b be the vector A to B\n",
    "    Let c be the vector B to C\n",
    "    Let d be the vector C to P\n",
    "\n",
    "    The position of the arm can be described as the matrix\n",
    "    S = [a | b | c | d]\n",
    "\n",
    "Below is an implementation of this in python"
   ]
  },
  {
   "cell_type": "code",
   "execution_count": 26,
   "id": "92ac7f6d",
   "metadata": {},
   "outputs": [
    {
     "name": "stdout",
     "output_type": "stream",
     "text": [
      "[[ 1.   0.5  0.2 -0.1]\n",
      " [ 2.   0.1 -0.3 -0.2]]\n"
     ]
    }
   ],
   "source": [
    "import numpy as np\n",
    "\n",
    "\n",
    "# Vectors\n",
    "a = np.array([1.0, 2.0])\n",
    "b = np.array([0.5, 0.1])\n",
    "c = np.array([0.2, -0.3])\n",
    "d = np.array([-0.1, -0.2])\n",
    "\n",
    "# Matrix\n",
    "S = np.array([a, b , c , d])\n",
    "S = s.T # Transpose to keep the vectors in columns\n",
    "print(s) # Print the S matrix "
   ]
  },
  {
   "cell_type": "markdown",
   "id": "f17048eb",
   "metadata": {},
   "source": [
    "#### a) Choose some reasonable values for a,b,c and d and plot it using matplotlib\n",
    "To do this i will use the ax.arrow() method, that takes an origin and vector as parameter"
   ]
  },
  {
   "cell_type": "code",
   "execution_count": 33,
   "id": "d7021dd3",
   "metadata": {},
   "outputs": [
    {
     "name": "stdout",
     "output_type": "stream",
     "text": [
      "0\n",
      "1\n",
      "2\n",
      "3\n"
     ]
    },
    {
     "data": {
      "text/plain": [
       "(0.0, 10.0)"
      ]
     },
     "execution_count": 33,
     "metadata": {},
     "output_type": "execute_result"
    },
    {
     "data": {
      "image/png": "[encoded data removed]",
      "text/plain": [
       "<Figure size 432x288 with 1 Axes>"
      ]
     },
     "metadata": {
      "needs_background": "light"
     },
     "output_type": "display_data"
    }
   ],
   "source": [
    "import matplotlib.pyplot as plt\n",
    "\n",
    "# Init\n",
    "fig, ax = plt.subplots()\n",
    "ax.set_aspect('equal')\n",
    "\n",
    "# Plotting vectors\n",
    "n = S.shape[0] # The number of vectors\n",
    "origin = (0,0) # Remember the last position to draw from\n",
    "\n",
    "for x in range(n):\n",
    "    v = S[:, x]# the Current vector\n",
    "    o_x, o_y = origin # The origin\n",
    "    ax.arrow(o_x, o_y, 6.0, 4.0, head_width=0.5, head_length=0.7, fc='lightblue', ec='black')\n",
    "\n",
    "# Display settings\n",
    "plt.grid()\n",
    "plt.xlim(0,10)\n",
    "plt.ylim(0,10)"
   ]
  },
  {
   "cell_type": "code",
   "execution_count": null,
   "id": "276d8e62",
   "metadata": {},
   "outputs": [],
   "source": []
  }
 ],
 "metadata": {
  "kernelspec": {
   "display_name": "Python 3 (ipykernel)",
   "language": "python",
   "name": "python3"
  },
  "language_info": {
   "codemirror_mode": {
    "name": "ipython",
    "version": 3
   },
   "file_extension": ".py",
   "mimetype": "text/x-python",
   "name": "python",
   "nbconvert_exporter": "python",
   "pygments_lexer": "ipython3",
   "version": "3.9.5"
  }
 },
 "nbformat": 4,
 "nbformat_minor": 5
}
