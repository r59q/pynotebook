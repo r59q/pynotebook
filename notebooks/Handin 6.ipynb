{
 "cells": [
  {
   "cell_type": "markdown",
   "id": "309f0303",
   "metadata": {},
   "source": [
    "# Handin 6\n",
    "Andreas Malthe Henriksen (202004107)"
   ]
  },
  {
   "cell_type": "markdown",
   "id": "db46c5d9",
   "metadata": {},
   "source": [
    "Consider the space of differentiable functions $f:[0, \\pi]\\to \\mathbb{R}$ with a $L^2$-inner product\n",
    "\n",
    "$$\\langle f,g \\rangle = \\int_{0}^{\\pi}f(x)g(x) \\ dx$$"
   ]
  },
  {
   "cell_type": "markdown",
   "id": "1659bbad",
   "metadata": {},
   "source": [
    "## (a)\n",
    "\n",
    "**Show that the collection** \n",
    "$$sin(x),sin(2x),\\cdots,sin((k-1)x)$$\n",
    "**where $x\\in [0,\\pi]$, are orthagonal for the inner product.**"
   ]
  },
  {
   "cell_type": "code",
   "execution_count": 1,
   "id": "7fa169bb",
   "metadata": {},
   "outputs": [],
   "source": [
    "import numpy as np\n",
    "n = 100000\n",
    "x, h = np.linspace(0, np.pi, n, retstep=True)"
   ]
  },
  {
   "cell_type": "markdown",
   "id": "a97568ee",
   "metadata": {},
   "source": [
    "To test for orthogonality the best approach i could find was the trapz function in numpy. To use I created the following function."
   ]
  },
  {
   "cell_type": "code",
   "execution_count": 2,
   "id": "41f7e157",
   "metadata": {},
   "outputs": [],
   "source": [
    "def is_collection_orthagonal(k, mtol = 8):\n",
    "    # Loop over every element in the cartesian product\n",
    "    for i in range(k):\n",
    "        for j in range(k):\n",
    "            if (i>=j): # Break if its the same function or it has already been tested in reverse order\n",
    "                continue\n",
    "            # The sin-functions to test\n",
    "            f = np.sin(i*x)\n",
    "            g = np.sin(j*x)\n",
    "            trapz = np.trapz(f * g, dx=h)\n",
    "            if (np.abs(trapz) > np.finfo(float).eps * mtol):\n",
    "                # If the test fails, print the pair that failed the test and return falsely.\n",
    "                print(np.abs(np.trapz(f * g, dx=h)),\" Was greater at sin(\", i , \"* x) * sin(\", j, \"* x)\")\n",
    "                return False\n",
    "    return True"
   ]
  },
  {
   "cell_type": "markdown",
   "id": "dcef6e9d",
   "metadata": {},
   "source": [
    "We can run this function for $k=100$ to get"
   ]
  },
  {
   "cell_type": "code",
   "execution_count": 3,
   "id": "de07a12f",
   "metadata": {},
   "outputs": [
    {
     "name": "stdout",
     "output_type": "stream",
     "text": [
      "Is the collection orthagonal?:  True\n"
     ]
    }
   ],
   "source": [
    "print(\"Is the collection orthagonal?: \",is_collection_orthagonal(100))"
   ]
  },
  {
   "cell_type": "markdown",
   "id": "11bf6e98",
   "metadata": {},
   "source": [
    "## (b)\n",
    "**Makes sense of why $f(x)=1$ is orthagonal to $sin(2x)$ and $sin(4x)$ but not on $sin(x)$ nor $sin(3x)$**"
   ]
  },
  {
   "cell_type": "markdown",
   "id": "3a830388",
   "metadata": {},
   "source": [
    "Lets plot a sin-function to look at. Let that be sin(5*x)"
   ]
  },
  {
   "cell_type": "code",
   "execution_count": 5,
   "id": "d9551ed0",
   "metadata": {},
   "outputs": [
    {
     "data": {
      "text/plain": [
       "[<matplotlib.lines.Line2D at 0x1cb58b1fa60>]"
      ]
     },
     "execution_count": 5,
     "metadata": {},
     "output_type": "execute_result"
    },
    {
     "data": {
      "image/png": "[encoded data removed]",
      "text/plain": [
       "<Figure size 432x288 with 1 Axes>"
      ]
     },
     "metadata": {
      "needs_background": "light"
     },
     "output_type": "display_data"
    }
   ],
   "source": [
    "import matplotlib.pyplot as plt\n",
    "\n",
    "fig, ax = plt.subplots()\n",
    "ax.plot(x, np.sin(5*x))"
   ]
  },
  {
   "cell_type": "markdown",
   "id": "7c4f92cb",
   "metadata": {},
   "source": [
    "Consider how it has 5 tips.\n",
    "\n",
    "It is all in the number of peaks and valleys the sin-functions have. If the inner-product is the integral of the sin functions, then it would make sense that the area underneath the function should be zero. In order for the sin functions to have no area underneath, the peaks and valleys must cancel eachother out.\n",
    "\n",
    "For $sin(x),\\ x\\in[0,\\pi]$ the area is $2$ which is directly proportional with the number of peaks, $1$ and valleys, $0$.\n",
    "\n",
    "Therefore any number $k$ when multiplied $sin(kx)$ will be 0 if an even number, meaning equal number of peaks and valleys or will have an area $\\frac{2}{k}$ if odd."
   ]
  },
  {
   "cell_type": "code",
   "execution_count": null,
   "id": "d01f1a54",
   "metadata": {},
   "outputs": [],
   "source": []
  }
 ],
 "metadata": {
  "kernelspec": {
   "display_name": "Python 3 (ipykernel)",
   "language": "python",
   "name": "python3"
  },
  "language_info": {
   "codemirror_mode": {
    "name": "ipython",
    "version": 3
   },
   "file_extension": ".py",
   "mimetype": "text/x-python",
   "name": "python",
   "nbconvert_exporter": "python",
   "pygments_lexer": "ipython3",
   "version": "3.10.4"
  }
 },
 "nbformat": 4,
 "nbformat_minor": 5
}
