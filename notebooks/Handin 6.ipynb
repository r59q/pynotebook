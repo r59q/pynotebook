{
 "cells": [
  {
   "cell_type": "markdown",
   "id": "309f0303",
   "metadata": {},
   "source": [
    "# Handin 6\n",
    "Andreas Malthe Henriksen (202004107)"
   ]
  },
  {
   "cell_type": "markdown",
   "id": "db46c5d9",
   "metadata": {},
   "source": [
    "Consider the space of differentiable functions $f:[0, \\pi]\\to \\mathbb{R}$ with a $L^2$-inner product\n",
    "\n",
    "$$\\langle f,g \\rangle = \\int_{0}^{\\pi}f(x)g(x) \\ dx$$"
   ]
  },
  {
   "cell_type": "markdown",
   "id": "1659bbad",
   "metadata": {},
   "source": [
    "## (a)\n",
    "\n",
    "**Show that the collection** \n",
    "$$sin(x),sin(2x),\\cdots,sin((k-1)x)$$\n",
    "**where $x\\in [0,\\pi]$, are orthagonal for the inner product.**"
   ]
  },
  {
   "cell_type": "code",
   "execution_count": 1,
   "id": "7fa169bb",
   "metadata": {},
   "outputs": [],
   "source": [
    "import numpy as np\n",
    "n = 1000\n",
    "x, h = np.linspace(0, np.pi, n, retstep=True)"
   ]
  },
  {
   "cell_type": "markdown",
   "id": "a97568ee",
   "metadata": {},
   "source": [
    "To test for orthogonality I use the trapz function in numpy. To test the collection I created the following function."
   ]
  },
  {
   "cell_type": "code",
   "execution_count": 2,
   "id": "41f7e157",
   "metadata": {},
   "outputs": [],
   "source": [
    "def is_collection_orthagonal(k, mtol = 8):\n",
    "    # Loop over every element in the cartesian product\n",
    "    for i in range(k):\n",
    "        for j in range(i+1, k): # We start at i+1 to skip testing reverse orderings of the same product\n",
    "            # The sin-functions to test\n",
    "            f = np.sin(i*x)\n",
    "            g = np.sin(j*x)\n",
    "            trapz = np.trapz(f * g, dx=h)\n",
    "            if (np.abs(trapz) > np.finfo(float).eps * mtol):\n",
    "                # If the test fails, print the pair that failed the test and return falsely.\n",
    "                print(np.abs(np.trapz(f * g, dx=h)),\" Was greater at sin(\", i , \"* x) * sin(\", j, \"* x)\")\n",
    "                return False\n",
    "    return True"
   ]
  },
  {
   "cell_type": "markdown",
   "id": "dcef6e9d",
   "metadata": {},
   "source": [
    "We can run this function for $k=50$ to get"
   ]
  },
  {
   "cell_type": "code",
   "execution_count": 3,
   "id": "de07a12f",
   "metadata": {},
   "outputs": [
    {
     "name": "stdout",
     "output_type": "stream",
     "text": [
      "Is the collection orthagonal?:  True\n"
     ]
    }
   ],
   "source": [
    "print(\"Is the collection orthagonal?: \",is_collection_orthagonal(50))"
   ]
  },
  {
   "cell_type": "markdown",
   "id": "11bf6e98",
   "metadata": {},
   "source": [
    "## (b)\n",
    "**Makes sense of why $f(x)=1$ is orthagonal to $sin(2x)$ and $sin(4x)$ but not on $sin(x)$ nor $sin(3x)$**"
   ]
  },
  {
   "cell_type": "markdown",
   "id": "3a830388",
   "metadata": {},
   "source": [
    "Lets plot a sin-function to look at. Let that be sin(5*x)"
   ]
  },
  {
   "cell_type": "code",
   "execution_count": 4,
   "id": "d9551ed0",
   "metadata": {},
   "outputs": [
    {
     "data": {
      "text/plain": [
       "[<matplotlib.lines.Line2D at 0x26170d27700>]"
      ]
     },
     "execution_count": 4,
     "metadata": {},
     "output_type": "execute_result"
    },
    {
     "data": {
      "image/png": "[encoded data removed]",
      "text/plain": [
       "<Figure size 432x288 with 1 Axes>"
      ]
     },
     "metadata": {
      "needs_background": "light"
     },
     "output_type": "display_data"
    }
   ],
   "source": [
    "import matplotlib.pyplot as plt\n",
    "\n",
    "fig, ax = plt.subplots()\n",
    "plt.axhline(0, color='black', lw=1)\n",
    "ax.plot(x, np.sin(5*x))"
   ]
  },
  {
   "cell_type": "markdown",
   "id": "7c4f92cb",
   "metadata": {},
   "source": [
    "Consider how it has 5 tips.\n",
    "\n",
    "It is all in the number of peaks and valleys the sin-functions have. If the inner-product is the integral of the sin functions, then it would make sense that the area underneath the function should be zero. In order for the sin functions to have no area underneath, the peaks and valleys must cancel eachother out.\n",
    "\n",
    "For $sin(x),\\ x\\in[0,\\pi]$ the area is $2$ which is directly proportional with the number of peaks, $1$ and valleys, $0$.\n",
    "\n",
    "Therefore any number $k$ when multiplied $\\int_0^\\pi sin(kx)$ will be 0 if an even number, meaning equal number of peaks and valleys or will have an area $\\frac{2}{k}$ if odd."
   ]
  },
  {
   "cell_type": "markdown",
   "id": "61079835",
   "metadata": {},
   "source": [
    "## (c)\n",
    "**Project $f(x)=1$ along $sin(x)$ and $sin(3x)$. From the projection find the function $1+c_1sin(x)+c_3sin(3x)$, which is orthagonal to both sin(x) and sin(3x). Explain why this combination is orthagonal to all of the functions $sin(x), sin(2x),\\cdots sin(5x)$**"
   ]
  },
  {
   "cell_type": "code",
   "execution_count": null,
   "id": "e89aed85",
   "metadata": {},
   "outputs": [],
   "source": []
  },
  {
   "cell_type": "code",
   "execution_count": null,
   "id": "95e12e2a",
   "metadata": {},
   "outputs": [],
   "source": []
  },
  {
   "cell_type": "code",
   "execution_count": null,
   "id": "3d205c9e",
   "metadata": {},
   "outputs": [],
   "source": []
  },
  {
   "cell_type": "code",
   "execution_count": null,
   "id": "da1dc519",
   "metadata": {},
   "outputs": [],
   "source": []
  },
  {
   "cell_type": "code",
   "execution_count": 5,
   "id": "61cbb4ab",
   "metadata": {},
   "outputs": [],
   "source": [
    "def f_values(n):\n",
    "    return np.ones(n)"
   ]
  },
  {
   "cell_type": "code",
   "execution_count": 6,
   "id": "5f142720",
   "metadata": {},
   "outputs": [],
   "source": [
    "def proj(v, u):\n",
    "    return np.vdot(v, u) / np.vdot(v, v) * v"
   ]
  },
  {
   "cell_type": "code",
   "execution_count": 7,
   "id": "0434455e",
   "metadata": {
    "scrolled": false
   },
   "outputs": [
    {
     "data": {
      "text/plain": [
       "array([[1000.        ,   -0.        ,   -0.        ],\n",
       "       [  -0.        ,   95.02609628,    0.        ],\n",
       "       [  -0.        ,    0.        ,  263.27009542]])"
      ]
     },
     "execution_count": 7,
     "metadata": {},
     "output_type": "execute_result"
    }
   ],
   "source": [
    "u0 = f_values(n)[:, np.newaxis]\n",
    "u1 = np.sin(x)[:, np.newaxis]\n",
    "u2 = np.sin(3*x)[:, np.newaxis]\n",
    "\n",
    "v0 = u0\n",
    "w1 = u1 - proj(v0, u1)\n",
    "v1 = w1\n",
    "w2 = u2 - proj(v0, u2) - proj(v1, u2)\n",
    "v2 = w2\n",
    "v = np.hstack([v0,v1,v2])\n",
    "gram = v.T @ v\n",
    "np.set_printoptions(suppress=True)\n",
    "gram"
   ]
  },
  {
   "cell_type": "code",
   "execution_count": 120,
   "id": "ce19bbf6",
   "metadata": {},
   "outputs": [
    {
     "name": "stdout",
     "output_type": "stream",
     "text": [
      "263.270095421011\n"
     ]
    }
   ],
   "source": [
    "c1 = gram[2,2]\n",
    "c3 = gram[2,2]\n",
    "print(np.vdot(v2,v2))\n",
    "def new_fun(x):\n",
    "    return 1 + (c1 * np.sin(x)) + (c3 * np.sin(3*x))"
   ]
  },
  {
   "cell_type": "code",
   "execution_count": 121,
   "id": "cf58c42e",
   "metadata": {},
   "outputs": [
    {
     "name": "stdout",
     "output_type": "stream",
     "text": [
      "0.0\n"
     ]
    }
   ],
   "source": [
    "sin1 = np.sin(x)\n",
    "sin2 = np.sin(2*x)\n",
    "sin3 = np.sin(3*x)\n",
    "sin4 = np.sin(4*x)\n",
    "new = new_fun(x)\n",
    "\n",
    "print(np.trapz(new * sin4, dx=h))"
   ]
  },
  {
   "cell_type": "code",
   "execution_count": 119,
   "id": "879e3da9",
   "metadata": {},
   "outputs": [
    {
     "data": {
      "text/plain": [
       "[<matplotlib.lines.Line2D at 0x26172ff88b0>]"
      ]
     },
     "execution_count": 119,
     "metadata": {},
     "output_type": "execute_result"
    },
    {
     "data": {
      "image/png": "[encoded data removed]",
      "text/plain": [
       "<Figure size 432x288 with 1 Axes>"
      ]
     },
     "metadata": {
      "needs_background": "light"
     },
     "output_type": "display_data"
    }
   ],
   "source": [
    "fig, ax = plt.subplots()\n",
    "ax.plot(x, new)"
   ]
  },
  {
   "cell_type": "code",
   "execution_count": null,
   "id": "e2aaffdb",
   "metadata": {},
   "outputs": [],
   "source": []
  },
  {
   "cell_type": "code",
   "execution_count": null,
   "id": "7b67dc53",
   "metadata": {},
   "outputs": [],
   "source": []
  },
  {
   "cell_type": "code",
   "execution_count": null,
   "id": "509cb8ce",
   "metadata": {},
   "outputs": [],
   "source": []
  },
  {
   "cell_type": "code",
   "execution_count": null,
   "id": "db612556",
   "metadata": {},
   "outputs": [],
   "source": []
  }
 ],
 "metadata": {
  "kernelspec": {
   "display_name": "Python 3 (ipykernel)",
   "language": "python",
   "name": "python3"
  },
  "language_info": {
   "codemirror_mode": {
    "name": "ipython",
    "version": 3
   },
   "file_extension": ".py",
   "mimetype": "text/x-python",
   "name": "python",
   "nbconvert_exporter": "python",
   "pygments_lexer": "ipython3",
   "version": "3.10.4"
  }
 },
 "nbformat": 4,
 "nbformat_minor": 5
}
