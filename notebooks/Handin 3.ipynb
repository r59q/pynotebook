{
 "cells": [
  {
   "cell_type": "markdown",
   "id": "5115299e",
   "metadata": {},
   "source": [
    "# Handin 3\n",
    "   ### Andreas Malthe Henriksen ( 202004107 )"
   ]
  },
  {
   "cell_type": "markdown",
   "id": "9cd1a0e4",
   "metadata": {},
   "source": [
    "You've built a drone, but it has a problem overheating. Temperature measurements were taken.\n",
    "\n",
    "<table>\n",
    "    <tr>\n",
    "        <td>Time (minutes)</td>\n",
    "        <td>2</td>\n",
    "        <td>5</td>\n",
    "        <td>8</td>\n",
    "        <td>10</td>\n",
    "        <td>11</td>\n",
    "    </tr>\n",
    "    <tr>\n",
    "        <td>Temperature (celcius)</td>\n",
    "        <td>35</td>\n",
    "        <td>40</td>\n",
    "        <td>50</td>\n",
    "        <td>65</td>\n",
    "        <td>70</td>\n",
    "    </tr>\n",
    "</table>\n",
    "\n",
    "#### (a) Plot the observed data"
   ]
  },
  {
   "cell_type": "code",
   "execution_count": 9,
   "id": "3ef9f104",
   "metadata": {},
   "outputs": [],
   "source": [
    "import numpy as np\n",
    "import matplotlib.pyplot as plt"
   ]
  },
  {
   "cell_type": "code",
   "execution_count": 10,
   "id": "c7869be1",
   "metadata": {},
   "outputs": [],
   "source": [
    "time = np.array([2,5,8,10,11])\n",
    "temp = np.array([35,40,50,65,70])"
   ]
  },
  {
   "cell_type": "code",
   "execution_count": 14,
   "id": "a0bdde50",
   "metadata": {
    "scrolled": true
   },
   "outputs": [
    {
     "data": {
      "text/plain": [
       "[<matplotlib.lines.Line2D at 0x7f6218ca7f40>]"
      ]
     },
     "execution_count": 14,
     "metadata": {},
     "output_type": "execute_result"
    },
    {
     "data": {
      "image/png": "[encoded data removed]",
      "text/plain": [
       "<Figure size 432x288 with 1 Axes>"
      ]
     },
     "metadata": {
      "needs_background": "light"
     },
     "output_type": "display_data"
    }
   ],
   "source": [
    "fig, ax = plt.subplots()\n",
    "\n",
    "ax.plot(time,temp)"
   ]
  },
  {
   "cell_type": "code",
   "execution_count": null,
   "id": "d261e20e",
   "metadata": {},
   "outputs": [],
   "source": []
  }
 ],
 "metadata": {
  "kernelspec": {
   "display_name": "Python 3 (ipykernel)",
   "language": "python",
   "name": "python3"
  },
  "language_info": {
   "codemirror_mode": {
    "name": "ipython",
    "version": 3
   },
   "file_extension": ".py",
   "mimetype": "text/x-python",
   "name": "python",
   "nbconvert_exporter": "python",
   "pygments_lexer": "ipython3",
   "version": "3.10.2"
  }
 },
 "nbformat": 4,
 "nbformat_minor": 5
}
