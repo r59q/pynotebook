{
 "cells": [
  {
   "cell_type": "markdown",
   "id": "a256ddf4",
   "metadata": {},
   "source": [
    "# Uge 12\n",
    "\n",
    "## Mandag 21/3 forelæsning 15\n",
    "\n",
    "- Forbedret Gram-Schmidt\n",
    "\n",
    "## Torsdag 24/3 forelæsning 16\n",
    "\n",
    "- Mindste kvadrater"
   ]
  }
 ],
 "metadata": {
  "kernelspec": {
   "display_name": "Python 3 (ipykernel)",
   "language": "python",
   "name": "python3"
  },
  "language_info": {
   "codemirror_mode": {
    "name": "ipython",
    "version": 3
   },
   "file_extension": ".py",
   "mimetype": "text/x-python",
   "name": "python",
   "nbconvert_exporter": "python",
   "pygments_lexer": "ipython3",
   "version": "3.10.4"
  }
 },
 "nbformat": 4,
 "nbformat_minor": 5
}
