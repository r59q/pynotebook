{
 "cells": [
  {
   "cell_type": "markdown",
   "id": "20d7d722",
   "metadata": {},
   "source": [
    "# Uge 11\n",
    "\n",
    "## Mandag 14/3 Forelæsning 13\n",
    "\n",
    "- Indre produkter\n",
    "\n",
    "## Torsdag 17/3 Forelæsning 17\n",
    "\n",
    "- Gram-Schmidt processen\n",
    "- Ortogonalisering: QR Faktorisering"
   ]
  },
  {
   "cell_type": "markdown",
   "id": "3021a998",
   "metadata": {},
   "source": [
    "## Indre produkter\n",
    "\n",
    "**Def. 13.1**\n",
    "\n",
    "Et *indre produkt* på et vektorrum V med enten reele eller komplekse skalarer er skalaerer $<u, v>$ for alle $u,v \\in V$ således\n",
    "\n",
    " - $\\langle u,v\\rangle$ = $\\overline{\\langle v,u\\rangle}$\n",
    " - $\\langle su+tw,v\\rangle = s\\langle u,v\\rangle+t\\langle w,v\\rangle$\n",
    " - $\\langle v,v\\rangle\\in\\mathbb{R}$ og $\\langle v,v\\rangle\\ \\geq\\ 0$\n",
    " - for $v\\neq 0$ er $\\langle v,v\\rangle > 0$\n",
    "for alle $u,v,w \\in V$ og all $s,t$ skalar"
   ]
  },
  {
   "cell_type": "markdown",
   "id": "f355f967",
   "metadata": {},
   "source": [
    "vi kan udlede fra **def 13.1** at \n",
    "\n",
    "$$\\langle u,sv + tw\\rangle = \\bar s \\langle u,v \\rangle + \\bar t \\langle u, w \\rangle$$"
   ]
  },
  {
   "cell_type": "markdown",
   "id": "53c518d5",
   "metadata": {},
   "source": [
    "$\\langle u, v \\rangle = 0 \\implies $ $u$ og $v$ er ortogonale\n",
    "\n",
    "Hvis skalarer er reelle tal så har konjugation ingen effekt, og kan droppes fra den overstående. dvs $\\langle u, v \\rangle = \\overline{\\langle v, u \\rangle}$"
   ]
  },
  {
   "cell_type": "markdown",
   "id": "39483d9e",
   "metadata": {},
   "source": [
    "Dertil bemærkes at $||v|| = \\sqrt{\\langle v, v \\rangle}$ fås en norm på $V$ som opfylder **def 11.4**\n",
    "- $||v||\\geq 0$ for alle $v\\in V$ og $||v||=0$ kun hvis $v=0$\n",
    "- $||sv|| = |s|||v||$ for alle $s$ skalar\n",
    "- $||v + w|| \\leq ||v|| + ||w||$"
   ]
  },
  {
   "cell_type": "markdown",
   "id": "6c75ba27",
   "metadata": {},
   "source": [
    "Hvis vores skalarer er reelle tal, så kan man definere *vinklen* mellem $u$ og $v$ som **def 8.5** dvs\n",
    "\n",
    "$$cos \\theta = \\frac{\\langle u, v \\rangle}{\\lVert u \\rVert\\lVert v \\rVert}$$\n",
    "når $u\\neq0\\neq v$\n",
    "\n",
    "Vi kan sige at vinklen cos $\\theta$ er det indre produkt over produktet af normerne."
   ]
  },
  {
   "cell_type": "markdown",
   "id": "863223ed",
   "metadata": {},
   "source": [
    "For $u,v \\in \\mathbb{C}$ er det standard indre produkt givet ved\n",
    "\n",
    "$$\\langle u,v \\rangle = u_0\\overline{v_0} + u_1 \\overline{v_1} + \\cdots + u_{n-1}\\overline{v_{n-1}}$$"
   ]
  },
  {
   "cell_type": "markdown",
   "id": "1245394c",
   "metadata": {},
   "source": [
    "$$\\langle\\begin{bmatrix}\n",
    "1+i\\\\\n",
    "2-i\n",
    "\\end{bmatrix},\\begin{bmatrix}\n",
    "-1+i\\\\\n",
    "1-i\n",
    "\\end{bmatrix}\\rangle = (1+i)\\overline{(-1+i)}+(2-i)\\overline{(1+i)}$$\n",
    "dvs\n",
    "\n",
    "$$=(1+i)(-1-i)+(2-i)(1-i)$$\n",
    "$$=-1-i-i-i^2 + 2-2i-i+i^2$$\n",
    "\n",
    "$$=1 - 5i$$"
   ]
  },
  {
   "cell_type": "markdown",
   "id": "2bb6615b",
   "metadata": {},
   "source": [
    "**NOTE!**\n",
    "\n",
    "Regner man med $u,v\\in\\mathbb{C}$ skal man benytte np.vdot(v,u), altså med u og v i omvendt rækkefølge."
   ]
  },
  {
   "cell_type": "markdown",
   "id": "243df90d",
   "metadata": {},
   "source": [
    "Hvis man har reelle tal $w_0, \\cdots , w_{n-1}$ er et indreprodukt for $u,v\\in\\mathbb{R}^n$ givet ved \n",
    "$$\\langle u,v \\rangle = w_0, u_0, v_0 + \\cdots + w_{n-1}u_{n-1}v_{n-1}$$\n",
    "Dette kan bruges når forskellige koordinatretninger måler forskellige ting, f.eks med forskellige enheder. Dette kaldes et *vægtet indre produkt*."
   ]
  },
  {
   "cell_type": "markdown",
   "id": "eff453e6",
   "metadata": {},
   "source": [
    "For $V=\\mathbb{R}^{m\\times n}$ kan vi definere\n",
    "\n",
    "$$\\langle A,B \\rangle = \\langle (a_{ij}),(b_{ij})\\rangle = \\sum^{m-1}_{i=0}\\sum^{n-1}_{j=0} a_{ij}b_{ij}$$\n",
    "\n",
    "Hvor den tilhørende norm er *Frobeniusnormen*\n",
    "\n",
    "$$\\lVert A \\rVert_F = \\sqrt{\\sum^{m-1}_{i=0}\\sum^{n-1}_{j=0} (a_{ij})^2}$$"
   ]
  },
  {
   "cell_type": "markdown",
   "id": "c34e0a89",
   "metadata": {},
   "source": [
    "$L^2$-indre produkt for $f:(a,b)\\to \\mathbb{R}$\n",
    "\n",
    "$$\\langle f, g \\rangle = \\int_a^b f(x) g(x)$$"
   ]
  },
  {
   "cell_type": "markdown",
   "id": "cf46d5b9",
   "metadata": {},
   "source": [
    "$L^2$-indre produkt for $f:(a,b)\\to \\mathbb{C}$\n",
    "\n",
    "$$\\langle f, g \\rangle = \\int_a^b f(x) \\overline{g(x)}$$"
   ]
  },
  {
   "cell_type": "markdown",
   "id": "65b02bb0",
   "metadata": {},
   "source": [
    "**prop 13.9**\n",
    "\n",
    "Lad $u,v\\in V$ med skalarer $\\mathbb{R}$ eller $\\mathbb{C}$. Da vil $\\lVert v \\rVert=\\sqrt{\\langle v,v \\rangle}$ og følgende gælde\n",
    "\n",
    "- $\\text{for } u,v \\text{ er ortogonal}\\implies \\lVert u+v \\rVert^2 = \\lVert u\\rVert^2 + \\lVert v\\rVert^2$\n",
    "- $\\forall u,v\\in V$, $\\lvert\\langle u,v \\rangle\\rvert \\leq \\lVert u\\rVert\\lVert v\\rVert$, hvor lig($=$) kun hvis $u,v$ er parallelle."
   ]
  },
  {
   "cell_type": "markdown",
   "id": "4b244936",
   "metadata": {},
   "source": [
    "## Ortogonale samlinger of tilnærmelse\n",
    "\n"
   ]
  },
  {
   "cell_type": "code",
   "execution_count": null,
   "id": "31c7b223",
   "metadata": {},
   "outputs": [],
   "source": []
  }
 ],
 "metadata": {
  "kernelspec": {
   "display_name": "Python 3 (ipykernel)",
   "language": "python",
   "name": "python3"
  },
  "language_info": {
   "codemirror_mode": {
    "name": "ipython",
    "version": 3
   },
   "file_extension": ".py",
   "mimetype": "text/x-python",
   "name": "python",
   "nbconvert_exporter": "python",
   "pygments_lexer": "ipython3",
   "version": "3.10.4"
  }
 },
 "nbformat": 4,
 "nbformat_minor": 5
}
