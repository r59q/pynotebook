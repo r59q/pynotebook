{
 "cells": [
  {
   "cell_type": "markdown",
   "id": "2d0720af",
   "metadata": {},
   "source": [
    "# Uge 14\n",
    "Opgavesæt 10\n",
    "\n",
    "## Mandag 4/4 - Forelæsning 19\n",
    "- Kordinater og transformationer\n",
    "\n",
    "## Torsdag 7/4 - Forelæsning 20\n",
    "- Matricer of lineære transformationer"
   ]
  },
  {
   "cell_type": "markdown",
   "id": "c8b5cee1",
   "metadata": {},
   "source": [
    "# Koordinater\n",
    "Vi kan beskrive et koordinatsystem som vektorer. Planen vi er van til har vektorer\n",
    "$$e_0=\\begin{bmatrix} 1 \\\\ 0 \\end{bmatrix},e_1=\\begin{bmatrix} 0 \\\\ 1 \\end{bmatrix}$$\n",
    "Derved kan punktet (1,2) beskrives som\n",
    "$$(1,2) = e_0 + 2e_1$$"
   ]
  },
  {
   "cell_type": "markdown",
   "id": "44afaa74",
   "metadata": {},
   "source": [
    "Ligedan kan vi beskrive punktet (1,2), som\n",
    "$$(1,2)=2v_0-v_1 \\iff v_0 = e_1 \\land v_1 = -e_0$$\n",
    "Altså hvis vi lade $v_0$ og $v_1$ beskrive koordinatsystemet"
   ]
  },
  {
   "cell_type": "code",
   "execution_count": 1,
   "id": "5b968296",
   "metadata": {},
   "outputs": [],
   "source": [
    "import numpy as np\n",
    "import matplotlib.pyplot as plt"
   ]
  },
  {
   "cell_type": "code",
   "execution_count": 2,
   "id": "9b3f8b6b",
   "metadata": {},
   "outputs": [
    {
     "data": {
      "text/plain": [
       "[<matplotlib.lines.Line2D at 0x7fc491830760>]"
      ]
     },
     "execution_count": 2,
     "metadata": {},
     "output_type": "execute_result"
    },
    {
     "data": {
      "image/png": "[encoded data removed]",
      "text/plain": [
       "<Figure size 432x288 with 1 Axes>"
      ]
     },
     "metadata": {
      "needs_background": "light"
     },
     "output_type": "display_data"
    }
   ],
   "source": [
    "# Plotting regularly\n",
    "xs = np.array([0,1,2,3,4])\n",
    "ys = np.array([0,1,2,3,4])\n",
    "fig, ax = plt.subplots()\n",
    "ax.plot(xs,ys, marker='.')"
   ]
  },
  {
   "cell_type": "code",
   "execution_count": 3,
   "id": "51a47586",
   "metadata": {},
   "outputs": [
    {
     "data": {
      "text/plain": [
       "[<matplotlib.lines.Line2D at 0x7fc48f72d030>]"
      ]
     },
     "execution_count": 3,
     "metadata": {},
     "output_type": "execute_result"
    },
    {
     "data": {
      "image/png": "[encoded data removed]",
      "text/plain": [
       "<Figure size 432x288 with 1 Axes>"
      ]
     },
     "metadata": {
      "needs_background": "light"
     },
     "output_type": "display_data"
    }
   ],
   "source": [
    "# Now we define a new basis for the coordinate system\n",
    "v0 = lambda x: x / 2\n",
    "v1 = lambda x: x**2\n",
    "\n",
    "xs = v0(xs)\n",
    "ys = v1(ys)\n",
    "\n",
    "fig, ax = plt.subplots()\n",
    "ax.plot(xs,ys, marker='.')"
   ]
  },
  {
   "cell_type": "markdown",
   "id": "d46f1194",
   "metadata": {},
   "source": [
    "Ovenfra kan vi se, at når vi ændre koordinatsystemet ser punkterne anderledes ud, men i princippet er de stadig lineære."
   ]
  },
  {
   "cell_type": "markdown",
   "id": "f68d4ba6",
   "metadata": {},
   "source": [
    "Koordinatsystemet kræver at \n",
    "- At koordinatsystemets basis må ikke være parellele\n",
    "- Må ikke være 0"
   ]
  },
  {
   "cell_type": "markdown",
   "id": "9c300f76",
   "metadata": {},
   "source": [
    "## Basis\n",
    "\n",
    "Vektorer $v_0, v_1, \\cdots , v_{n-1}$ er lineære uafhængig hvis\n",
    "\n",
    "$s_0v_0 + s_1v_1 + \\cdots , s_{k-1}v_{k-1}=0$ medfører $s_0=0=s_1=\\cdots =s_{k-1}$\n",
    "\n",
    "Rummet som er udspændt af disse vektorer er Span{$v_0,v_1,\\cdots,v_{n-1}$}, som består af alle lineære kombinationer\n",
    "$$\\forall s_i\\ :\\ s_0v_0 + s_1v_1 + \\cdots + s_{k-1}v_{k-1}$$"
   ]
  },
  {
   "cell_type": "markdown",
   "id": "f795454f",
   "metadata": {},
   "source": [
    "### Def 19.1\n",
    "En samling $E:v_0,v_1,\\cdots,v_{n-1}$ ere en *basis for $V$* hvis\n",
    "- $v_0,v_1,\\cdots,v_{n-1}$ er lineære uafhængige\n",
    "- Span{$v_0,v_1,\\cdots,v_{n-1}$}, altså at samlingen E udspænder V"
   ]
  },
  {
   "cell_type": "markdown",
   "id": "afd3f5f0",
   "metadata": {},
   "source": [
    "### Prop 19.2\n",
    "Lad $v_0,v_1,\\cdots,v_{n-1}$ være en samling vektorer i $\\mathbb{R}^n$ og sæt $A = \\begin{bmatrix}v_0 & v_1 & \\cdots & v_{k-1}\\end{bmatrix}$\n",
    "\n",
    "Da vil $v_0,v_1,\\cdots,v_{n-1}$ være en basis for $\\mathbb{R}^n$ hvis og kun hvis ligningsystemet\n",
    "\n",
    "$$Ax=b$$\n",
    "\n",
    "har en entydigløsning for alle $b\\in\\mathbb{R}^n$.\n",
    "\n",
    "Dette tvinger $k=n$ for en basis af $\\mathbb{R}^n$"
   ]
  },
  {
   "cell_type": "markdown",
   "id": "ce21ac60",
   "metadata": {},
   "source": [
    "Dette betyder eksempelvis at $Ay=0\\implies y=0$ som en entydig løsning.\n",
    "\n",
    "Fordi at basis'en udspænder et rum V, vil alle $Ax=b\\ :\\ b\\in V$ have en løsning."
   ]
  },
  {
   "cell_type": "markdown",
   "id": "fc8062f7",
   "metadata": {},
   "source": [
    "### Prop 19.4\n",
    "Givet $v_0, v_1, \\cdots, v_{n-1} \\in \\mathbb{R}^n$ sæt $A = \\begin{bmatrix}v_0 & v_1 & \\cdots & v_{k-1}\\end{bmatrix}\\in\\mathbb{R}^{n\\times n}$\n",
    "\n",
    "Da vil udsagnet\n",
    "\n",
    "- $v_0, v_1, \\cdots, v_{n-1}$ udgører en basis for $\\mathbb{R}^n$\n",
    "\n",
    "være ækvivalent med hver af de følgende udsagn\n",
    "\n",
    "- Hver søjle af A er en pivotsøjle\n",
    "- A er intertibel\n",
    "- Gram-Schmidt på $v_0, v_1, \\cdots, v_{n-1}$ kan gennemføres for at give en ortogonal samling bestående af $n$ vektorer"
   ]
  },
  {
   "cell_type": "markdown",
   "id": "965a7c99",
   "metadata": {},
   "source": [
    "Vi kan dermed tjekke om en samling af vektorer udgør en basis ved at tjekke om determinanten af A er lig med nul.\n",
    "dvs.\n",
    "\n",
    "For $A\\in \\mathbb{R}^{n \\times n}$\n",
    "$$det(A)\\neq 0 \\implies \\text{udgører søjlerne i } A\\text{ en basis for } \\mathbb{R}^{n}$$"
   ]
  },
  {
   "cell_type": "markdown",
   "id": "62de9ddc",
   "metadata": {},
   "source": [
    "## Koordinater\n"
   ]
  },
  {
   "cell_type": "markdown",
   "id": "76cb6889",
   "metadata": {},
   "source": [
    "Lad en vektorsamling $E$ være basis for et vektorrum $V$. Da vil enhver vektor $b\\in V$ kunne skrives som\n",
    "\n",
    "$$b=x_0v_0 + x_1v_1 +\\cdots + x_{n-1}v_{n-1}$$\n",
    "\n",
    "For nogle $x_i$ som skalarer. Per def **19.1** ved vi at der findes en løsning og skalarerne er entydige."
   ]
  },
  {
   "cell_type": "markdown",
   "id": "ccb2a13d",
   "metadata": {},
   "source": [
    "### Def 19.6\n",
    "\n",
    "Lad $E:v_0,v_1,\\cdots, v_{n-1}$ være en basis for et vektorrum $V$. En vektor $b\\in V$ har koordinatvektoren $[b]_E$ med hensyn til E, vil \n",
    "$$[b]_E = \\begin{bmatrix}x_0\\\\x_1 \\\\ \\vdots \\\\ x_{n-1}\\end{bmatrix}$$\n",
    "Hvor $x_i$ er den entydige løsning til\n",
    "$$b=x_0v_0 + x_1v_1 +\\cdots + x_{n-1}v_{n-1}$$"
   ]
  },
  {
   "cell_type": "code",
   "execution_count": null,
   "id": "15a21e28",
   "metadata": {},
   "outputs": [],
   "source": []
  }
 ],
 "metadata": {
  "kernelspec": {
   "display_name": "Python 3 (ipykernel)",
   "language": "python",
   "name": "python3"
  },
  "language_info": {
   "codemirror_mode": {
    "name": "ipython",
    "version": 3
   },
   "file_extension": ".py",
   "mimetype": "text/x-python",
   "name": "python",
   "nbconvert_exporter": "python",
   "pygments_lexer": "ipython3",
   "version": "3.10.4"
  }
 },
 "nbformat": 4,
 "nbformat_minor": 5
}
