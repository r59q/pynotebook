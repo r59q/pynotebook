{
 "cells": [
  {
   "cell_type": "markdown",
   "id": "2c7af3e8",
   "metadata": {},
   "source": [
    "# Uge 13\n",
    "\n",
    "## Mandag 28/3 forelæsning 17\n",
    "\n",
    "- Mindste kvadrater\n",
    "- Konditionstal\n",
    "- Householder matricer\n",
    "\n",
    "## Torsdag 31/3 forelæsning 18\n",
    "\n",
    "- Lineære transformationer"
   ]
  },
  {
   "cell_type": "code",
   "execution_count": null,
   "id": "c28f8e4e",
   "metadata": {},
   "outputs": [],
   "source": []
  }
 ],
 "metadata": {
  "kernelspec": {
   "display_name": "Python 3 (ipykernel)",
   "language": "python",
   "name": "python3"
  },
  "language_info": {
   "codemirror_mode": {
    "name": "ipython",
    "version": 3
   },
   "file_extension": ".py",
   "mimetype": "text/x-python",
   "name": "python",
   "nbconvert_exporter": "python",
   "pygments_lexer": "ipython3",
   "version": "3.10.4"
  }
 },
 "nbformat": 4,
 "nbformat_minor": 5
}
