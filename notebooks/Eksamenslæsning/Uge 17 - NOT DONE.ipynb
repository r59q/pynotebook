{
 "cells": [
  {
   "cell_type": "markdown",
   "id": "8e64416a",
   "metadata": {},
   "source": [
    "# Uge 17\n",
    "Opgavesæt 12\n",
    "\n",
    "## Mandag 25/4 - forelæsning 22\n",
    "- Differentialligninger\n",
    "\n",
    "## Torsdag 28/4 - forelæsning 23\n",
    "- Differentialligninger\n",
    "- Schur faktorisering\n",
    "- Reelle symmetriske matricer"
   ]
  },
  {
   "cell_type": "code",
   "execution_count": null,
   "id": "67cfd9ac",
   "metadata": {},
   "outputs": [],
   "source": []
  }
 ],
 "metadata": {
  "kernelspec": {
   "display_name": "Python 3 (ipykernel)",
   "language": "python",
   "name": "python3"
  },
  "language_info": {
   "codemirror_mode": {
    "name": "ipython",
    "version": 3
   },
   "file_extension": ".py",
   "mimetype": "text/x-python",
   "name": "python",
   "nbconvert_exporter": "python",
   "pygments_lexer": "ipython3",
   "version": "3.10.4"
  }
 },
 "nbformat": 4,
 "nbformat_minor": 5
}
