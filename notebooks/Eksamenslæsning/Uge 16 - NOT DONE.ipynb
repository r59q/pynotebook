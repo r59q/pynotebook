{
 "cells": [
  {
   "cell_type": "markdown",
   "id": "a7afbf89",
   "metadata": {},
   "source": [
    "# Uge 16\n",
    "Opgavesæt 11\n",
    "## Mandag  18/4 ingen undervisning\n",
    "## Torsdag 21/4 forelæsning 21\n",
    "- Egenværdier\n",
    "- Egenvektorer\n",
    "- Determinanter\n"
   ]
  },
  {
   "cell_type": "code",
   "execution_count": null,
   "id": "1e4fd023",
   "metadata": {},
   "outputs": [],
   "source": []
  }
 ],
 "metadata": {
  "kernelspec": {
   "display_name": "Python 3 (ipykernel)",
   "language": "python",
   "name": "python3"
  },
  "language_info": {
   "codemirror_mode": {
    "name": "ipython",
    "version": 3
   },
   "file_extension": ".py",
   "mimetype": "text/x-python",
   "name": "python",
   "nbconvert_exporter": "python",
   "pygments_lexer": "ipython3",
   "version": "3.10.4"
  }
 },
 "nbformat": 4,
 "nbformat_minor": 5
}
