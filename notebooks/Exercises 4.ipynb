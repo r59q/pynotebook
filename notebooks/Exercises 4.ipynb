{
 "cells": [
  {
   "cell_type": "markdown",
   "id": "42473bf3",
   "metadata": {},
   "source": [
    "# Exercies 4\n",
    "\n",
    "## Opgave 4.1\n",
    "\n",
    "Let $A\\in \\mathbb{R}^{1000\\times 70}, B, C \\in \\mathbb{R}^{70\\times3000}, D \\in \\mathbb{R}^{3000\\times3000}$\n",
    "\n",
    "Note the number of flops for\n",
    "\n",
    "(a) $AB$\n",
    "\n",
    "(b) $A(B+C)$\n",
    "\n",
    "(c) $(CD)A$\n",
    "\n",
    "(d) $C(DA)$\n",
    "\n",
    "(e) $(A(BD))A$\n",
    "\n",
    "(f) $(AB)(DA)$\n",
    "\n",
    "(g) $A(B(DA))$\n"
   ]
  },
  {
   "cell_type": "code",
   "execution_count": 1,
   "id": "392c7deb",
   "metadata": {},
   "outputs": [],
   "source": [
    "import numpy as np\n",
    "\n",
    "shape1 = (1000,  70)\n",
    "shape2 = (70,    3000)\n",
    "shape3 = (3000,  3000)\n",
    "\n",
    "def shape_of_mult(s1, s2):\n",
    "    m, n = s1\n",
    "    n, r = s2\n",
    "    return (m, r)\n",
    "\n",
    "def cost_of_mult(s1, s2):\n",
    "    m, n = s1\n",
    "    n, r = s2\n",
    "    return 2*m*n*r\n",
    "\n",
    "def cost_of_add(s1):\n",
    "    m, n = s1\n",
    "    return m*n"
   ]
  },
  {
   "cell_type": "code",
   "execution_count": 2,
   "id": "4c18ca4d",
   "metadata": {},
   "outputs": [
    {
     "name": "stdout",
     "output_type": "stream",
     "text": [
      "420000000\n"
     ]
    }
   ],
   "source": [
    "# (a) \n",
    "print(cost_of_mult(shape1, shape2))"
   ]
  },
  {
   "cell_type": "code",
   "execution_count": 3,
   "id": "17d2700b",
   "metadata": {},
   "outputs": [
    {
     "name": "stdout",
     "output_type": "stream",
     "text": [
      "420000000\n",
      "+\n",
      "210000\n",
      "420210000\n"
     ]
    }
   ],
   "source": [
    "# (b) \n",
    "print(cost_of_mult(shape1, shape2))\n",
    "print(\"+\")\n",
    "print(cost_of_add(shape2))\n",
    "print(cost_of_mult(shape1, shape2) + cost_of_add(shape2))"
   ]
  },
  {
   "cell_type": "code",
   "execution_count": 4,
   "id": "3c2ce68a",
   "metadata": {},
   "outputs": [
    {
     "name": "stdout",
     "output_type": "stream",
     "text": [
      "1260000000\n",
      "+\n",
      "9800000\n",
      "1269800000\n"
     ]
    }
   ],
   "source": [
    "# (c) \n",
    "print(cost_of_mult(shape2, shape3))\n",
    "newShape = shape_of_mult(shape2, shape3)\n",
    "print(\"+\")\n",
    "print(cost_of_mult(newShape, shape1))\n",
    "\n",
    "print(cost_of_mult(newShape, shape1) + cost_of_mult(shape2, shape3))"
   ]
  },
  {
   "cell_type": "code",
   "execution_count": 5,
   "id": "e78a652b",
   "metadata": {},
   "outputs": [
    {
     "name": "stdout",
     "output_type": "stream",
     "text": [
      "420000000\n",
      "+\n",
      "29400000\n",
      "449400000\n"
     ]
    }
   ],
   "source": [
    "# (d) \n",
    "newShape = shape_of_mult(shape3,shape1)\n",
    "DA = cost_of_mult (shape3, shape1)\n",
    "CDA = cost_of_mult(shape2, newShape)\n",
    "\n",
    "print(DA)\n",
    "print(\"+\")\n",
    "print(CDA)\n",
    "print(DA + CDA)\n",
    "\n",
    "\n"
   ]
  },
  {
   "cell_type": "code",
   "execution_count": 6,
   "id": "33fcea09",
   "metadata": {},
   "outputs": [
    {
     "name": "stdout",
     "output_type": "stream",
     "text": [
      "1260000000\n",
      "+\n",
      "420000000\n",
      "+\n",
      "140000000\n",
      "1820000000\n"
     ]
    }
   ],
   "source": [
    "# (e)\n",
    "newShape1 = shape_of_mult(shape2,shape3) #BD shape\n",
    "newShape2 = shape_of_mult(shape1,newShape1) #A(BD) shape\n",
    "BD = cost_of_mult(shape2, shape3)\n",
    "ABD = cost_of_mult(shape1, newShape1)\n",
    "ABDA = cost_of_mult(newShape2, shape1)\n",
    "\n",
    "print(BD)\n",
    "print(\"+\")\n",
    "print(ABD)\n",
    "print(\"+\")\n",
    "print(ABDA)\n",
    "print(BD + ABD + ABDA)"
   ]
  },
  {
   "cell_type": "code",
   "execution_count": 7,
   "id": "fd865baa",
   "metadata": {},
   "outputs": [
    {
     "name": "stdout",
     "output_type": "stream",
     "text": [
      "420000000\n",
      "+\n",
      "420000000\n",
      "+\n",
      "18000000000\n",
      "=\n",
      "18840000000\n"
     ]
    }
   ],
   "source": [
    "# (f)\n",
    "newShape1 = shape_of_mult(shape1, shape2) #AB\n",
    "newShape1 = shape_of_mult(shape3, shape1) #DA\n",
    "AB = cost_of_mult(shape1, shape2)\n",
    "DA = cost_of_mult(shape3, shape1)\n",
    "ABDA = cost_of_mult(newShape1, newShape2)\n",
    "\n",
    "print(AB)\n",
    "print(\"+\")\n",
    "print(DA)\n",
    "print(\"+\")\n",
    "print(ABDA)\n",
    "print(\"=\")\n",
    "print(AB+DA+ABDA)"
   ]
  },
  {
   "cell_type": "code",
   "execution_count": 8,
   "id": "243b0d2d",
   "metadata": {},
   "outputs": [
    {
     "name": "stdout",
     "output_type": "stream",
     "text": [
      "420000000\n",
      "+\n",
      "29400000\n",
      "+\n",
      "9800000\n",
      "=\n",
      "459200000\n"
     ]
    }
   ],
   "source": [
    "#(g)\n",
    "newShape1 = shape_of_mult(shape3, shape1) # DA\n",
    "newShape2 = shape_of_mult(shape2, newShape1) # B(DA)\n",
    "\n",
    "DA = cost_of_mult(shape3, shape1)\n",
    "BDA = cost_of_mult(shape2, newShape1)\n",
    "ABDA = cost_of_mult(shape1, newShape2) # A(B(DA))\n",
    "\n",
    "print(DA)\n",
    "print(\"+\")\n",
    "print(BDA)\n",
    "print(\"+\")\n",
    "print(ABDA)\n",
    "print(\"=\")\n",
    "print(DA+BDA+ABDA)"
   ]
  },
  {
   "cell_type": "markdown",
   "id": "8886e313",
   "metadata": {},
   "source": [
    "## Opgave 4.2\n",
    "\n",
    "Solve the systems\n",
    "\n",
    "$$(a)$$\n",
    "$$2x - 3y = 7$$\n",
    "$$x + 2y = -2$$\n",
    "\n",
    "$$(b)$$\n",
    "$$2x+y-2z=1$$\n",
    "$$x-2y+z=-1$$\n",
    "$$2x+4y+2z=0$$\n",
    "\n",
    "$$(c)$$\n",
    "$$2x-y+2z=0$$\n",
    "$$x+y-z=3$$"
   ]
  },
  {
   "cell_type": "code",
   "execution_count": 20,
   "id": "3074694d",
   "metadata": {},
   "outputs": [
    {
     "name": "stdout",
     "output_type": "stream",
     "text": [
      "a\n",
      "[[ 2. -3.  7.]\n",
      " [ 1.  2. -2.]]\n",
      "[[ 1. -5.  9.]\n",
      " [ 1.  2. -2.]]\n",
      "[[  1.  -5.   9.]\n",
      " [  0.   7. -11.]]\n",
      "[[ 1.         -5.          9.        ]\n",
      " [ 0.          1.         -1.57142857]]\n",
      "[[ 1.          0.          1.14285714]\n",
      " [ 0.          1.         -1.57142857]]\n",
      "9\n"
     ]
    }
   ],
   "source": [
    "import numpy as np\n",
    "m = np.array([[2,-3.,7],[1,2,-2]])\n",
    "\n",
    "print(\"a\")\n",
    "print(m)\n",
    "m[0,:] -= m[1,:]\n",
    "print(m)\n",
    "m[1,:] -= m[0,:]\n",
    "print(m)\n",
    "m[1,:] = (1./7.) * m[1,:]\n",
    "print(m)\n",
    "m[0,:] +=  5 * m[1,:]\n",
    "print(m)\n",
    "print(2*4-(-1))"
   ]
  },
  {
   "cell_type": "code",
   "execution_count": 43,
   "id": "d15cb8d5",
   "metadata": {},
   "outputs": [
    {
     "name": "stdout",
     "output_type": "stream",
     "text": [
      "a\n",
      "[[ 2.  1. -2.  1.]\n",
      " [ 1. -2.  1. -1.]\n",
      " [ 2.  4.  2.  0.]]\n",
      "[[ 1.  3. -3.  2.]\n",
      " [ 1. -2.  1. -1.]\n",
      " [ 2.  4.  2.  0.]]\n",
      "[[ 1.  3. -3.  2.]\n",
      " [ 0. -5.  4. -3.]\n",
      " [ 2.  4.  2.  0.]]\n",
      "[[ 1.  3. -3.  2.]\n",
      " [ 0. -5.  4. -3.]\n",
      " [ 0. -2.  8. -4.]]\n",
      "[[ 1.   3.  -3.   2. ]\n",
      " [-0.   1.  -0.8  0.6]\n",
      " [ 0.  -2.   8.  -4. ]]\n",
      "[[ 1.   3.  -3.   2. ]\n",
      " [-0.   1.  -0.8  0.6]\n",
      " [ 0.   0.   6.4 -2.8]] \n",
      "\n",
      "[[ 1.      3.     -3.      2.    ]\n",
      " [-0.      1.     -0.8     0.6   ]\n",
      " [ 0.      0.      1.     -0.4375]]\n",
      "[[ 1.      3.     -3.      2.    ]\n",
      " [ 0.      1.      0.      0.25  ]\n",
      " [ 0.      0.      1.     -0.4375]]\n",
      "[[ 1.      3.      0.      0.6875]\n",
      " [ 0.      1.      0.      0.25  ]\n",
      " [ 0.      0.      1.     -0.4375]]\n",
      "[[ 1.      0.      0.     -0.0625]\n",
      " [ 0.      1.      0.      0.25  ]\n",
      " [ 0.      0.      1.     -0.4375]]\n"
     ]
    }
   ],
   "source": [
    "m = np.array([[2,1.,-2,1],[1,-2,1,-1],[2,4,2,0]])\n",
    "\n",
    "print(\"a\")\n",
    "print(m)\n",
    "m[0,:] -= m[1,:]\n",
    "print(m)\n",
    "m[1,:] -= m[0,:]\n",
    "print(m)\n",
    "m[2,:] -= 2 * m[0,:]\n",
    "print(m)\n",
    "m[1,:] = -(1/5) * m[1,:]\n",
    "print(m)\n",
    "m[2,:] += 2 * m[1,:]\n",
    "print(m,\"\\n\")\n",
    "m[2,:] = (1/6.4) * m[2,:]\n",
    "print(m)\n",
    "m[1,:] += 0.8 * m[2,:]\n",
    "print(m)\n",
    "m[0,:] += 3 * m[2,:]\n",
    "print(m)\n",
    "m[0,:] -= 3 * m[1,:]\n",
    "print(m)\n"
   ]
  },
  {
   "cell_type": "markdown",
   "id": "673161d8",
   "metadata": {},
   "source": [
    "With your answer on b determine whether or not the system for $a,b,c\\in \\mathbb{R}$\n",
    "\n",
    "$$a\\begin{bmatrix}2\\\\1\\\\2\\end{bmatrix} + b\\begin{bmatrix}1\\\\-2\\\\4\\end{bmatrix} + c\\begin{bmatrix}-2\\\\1\\\\2\\end{bmatrix} = a\\begin{bmatrix}-1\\\\1\\\\0\\end{bmatrix}$$"
   ]
  },
  {
   "cell_type": "code",
   "execution_count": null,
   "id": "f9f69108",
   "metadata": {},
   "outputs": [],
   "source": []
  }
 ],
 "metadata": {
  "kernelspec": {
   "display_name": "Python 3 (ipykernel)",
   "language": "python",
   "name": "python3"
  },
  "language_info": {
   "codemirror_mode": {
    "name": "ipython",
    "version": 3
   },
   "file_extension": ".py",
   "mimetype": "text/x-python",
   "name": "python",
   "nbconvert_exporter": "python",
   "pygments_lexer": "ipython3",
   "version": "3.10.2"
  }
 },
 "nbformat": 4,
 "nbformat_minor": 5
}
