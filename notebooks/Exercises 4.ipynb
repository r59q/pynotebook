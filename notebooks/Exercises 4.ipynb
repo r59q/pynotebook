{
 "cells": [
  {
   "cell_type": "markdown",
   "id": "42473bf3",
   "metadata": {},
   "source": [
    "# Exercies 4\n",
    "\n",
    "## Opgave 4.1\n",
    "\n",
    "Let $A\\in \\mathbb{R}^{1000\\times 70}, B, C \\in \\mathbb{R}^{70\\times3000}, D \\in \\mathbb{R}^{3000\\times3000}$\n",
    "\n",
    "Note the number of flops for\n",
    "\n",
    "(a) $AB$\n",
    "\n",
    "(b) $A(B+C)$\n",
    "\n",
    "(c) $(CD)A$\n",
    "\n",
    "(d) $C(DA)$\n",
    "\n",
    "(e) $(A(BD))A$\n",
    "\n",
    "(f) $(AB)(DA)$\n",
    "\n",
    "(g) $A(B(DA))$\n"
   ]
  },
  {
   "cell_type": "code",
   "execution_count": 8,
   "id": "392c7deb",
   "metadata": {},
   "outputs": [],
   "source": [
    "import numpy as np\n",
    "\n",
    "shape1 = (1000,  70)\n",
    "shape2 = (70,    3000)\n",
    "shape3 = (3000,  3000)\n",
    "\n",
    "def shape_of_mult(s1, s2):\n",
    "    m, n = s1\n",
    "    n, r = s2\n",
    "    return (m, r)\n",
    "\n",
    "def cost_of_mult(s1, s2):\n",
    "    m, n = s1\n",
    "    n, r = s2\n",
    "    return 2*m*n*r\n",
    "\n",
    "def cost_of_add(s1):\n",
    "    m, n = s1\n",
    "    return m*n"
   ]
  },
  {
   "cell_type": "code",
   "execution_count": 9,
   "id": "4c18ca4d",
   "metadata": {},
   "outputs": [
    {
     "name": "stdout",
     "output_type": "stream",
     "text": [
      "420000000\n"
     ]
    }
   ],
   "source": [
    "# (a) \n",
    "print(cost_of_mult(shape1, shape2))"
   ]
  },
  {
   "cell_type": "code",
   "execution_count": 11,
   "id": "17d2700b",
   "metadata": {},
   "outputs": [
    {
     "name": "stdout",
     "output_type": "stream",
     "text": [
      "420000000\n",
      "+\n",
      "210000\n",
      "420210000\n"
     ]
    }
   ],
   "source": [
    "# (b) \n",
    "print(cost_of_mult(shape1, shape2))\n",
    "print(\"+\")\n",
    "print(cost_of_add(shape2))\n",
    "print(cost_of_mult(shape1, shape2) + cost_of_add(shape2))"
   ]
  },
  {
   "cell_type": "code",
   "execution_count": 13,
   "id": "3c2ce68a",
   "metadata": {},
   "outputs": [
    {
     "name": "stdout",
     "output_type": "stream",
     "text": [
      "1260000000\n",
      "+\n",
      "9800000\n",
      "1269800000\n"
     ]
    }
   ],
   "source": [
    "# (c) \n",
    "print(cost_of_mult(shape2, shape3))\n",
    "newShape = shape_of_mult(shape2, shape3)\n",
    "print(\"+\")\n",
    "print(cost_of_mult(newShape, shape1))\n",
    "\n",
    "print(cost_of_mult(newShape, shape1) + cost_of_mult(shape2, shape3))"
   ]
  },
  {
   "cell_type": "code",
   "execution_count": 14,
   "id": "e78a652b",
   "metadata": {},
   "outputs": [
    {
     "name": "stdout",
     "output_type": "stream",
     "text": [
      "420000000\n",
      "+\n",
      "29400000\n",
      "449400000\n"
     ]
    }
   ],
   "source": [
    "# (d) \n",
    "newShape = shape_of_mult(shape3,shape1)\n",
    "DA = cost_of_mult (shape3, shape1)\n",
    "CDA = cost_of_mult(shape2, newShape)\n",
    "\n",
    "print(DA)\n",
    "print(\"+\")\n",
    "print(CDA)\n",
    "print(DA + CDA)\n",
    "\n",
    "\n"
   ]
  },
  {
   "cell_type": "code",
   "execution_count": 15,
   "id": "33fcea09",
   "metadata": {},
   "outputs": [
    {
     "name": "stdout",
     "output_type": "stream",
     "text": [
      "1260000000\n",
      "+\n",
      "420000000\n",
      "+\n",
      "140000000\n",
      "1820000000\n"
     ]
    }
   ],
   "source": [
    "# (e)\n",
    "newShape1 = shape_of_mult(shape2,shape3) #BD shape\n",
    "newShape2 = shape_of_mult(shape1,newShape1) #A(BD) shape\n",
    "BD = cost_of_mult(shape2, shape3)\n",
    "ABD = cost_of_mult(shape1, newShape1)\n",
    "ABDA = cost_of_mult(newShape2, shape1)\n",
    "\n",
    "print(BD)\n",
    "print(\"+\")\n",
    "print(ABD)\n",
    "print(\"+\")\n",
    "print(ABDA)\n",
    "print(BD + ABD + ABDA)"
   ]
  },
  {
   "cell_type": "code",
   "execution_count": 17,
   "id": "fd865baa",
   "metadata": {},
   "outputs": [
    {
     "name": "stdout",
     "output_type": "stream",
     "text": [
      "420000000\n",
      "+\n",
      "420000000\n",
      "+\n",
      "18000000000\n",
      "=\n",
      "18840000000\n"
     ]
    }
   ],
   "source": [
    "# (f)\n",
    "newShape1 = shape_of_mult(shape1, shape2) #AB\n",
    "newShape1 = shape_of_mult(shape3, shape1) #DA\n",
    "AB = cost_of_mult(shape1, shape2)\n",
    "DA = cost_of_mult(shape3, shape1)\n",
    "ABDA = cost_of_mult(newShape1, newShape2)\n",
    "\n",
    "print(AB)\n",
    "print(\"+\")\n",
    "print(DA)\n",
    "print(\"+\")\n",
    "print(ABDA)\n",
    "print(\"=\")\n",
    "print(AB+DA+ABDA)"
   ]
  },
  {
   "cell_type": "code",
   "execution_count": 18,
   "id": "243b0d2d",
   "metadata": {},
   "outputs": [
    {
     "name": "stdout",
     "output_type": "stream",
     "text": [
      "420000000\n",
      "+\n",
      "29400000\n",
      "+\n",
      "9800000\n",
      "=\n",
      "459200000\n"
     ]
    }
   ],
   "source": [
    "#(g)\n",
    "newShape1 = shape_of_mult(shape3, shape1) # DA\n",
    "newShape2 = shape_of_mult(shape2, newShape1) # B(DA)\n",
    "\n",
    "DA = cost_of_mult(shape3, shape1)\n",
    "BDA = cost_of_mult(shape2, newShape1)\n",
    "ABDA = cost_of_mult(shape1, newShape2) # A(B(DA))\n",
    "\n",
    "print(DA)\n",
    "print(\"+\")\n",
    "print(BDA)\n",
    "print(\"+\")\n",
    "print(ABDA)\n",
    "print(\"=\")\n",
    "print(DA+BDA+ABDA)"
   ]
  },
  {
   "cell_type": "markdown",
   "id": "8886e313",
   "metadata": {},
   "source": [
    "## Opgave 4.2\n",
    "\n",
    "Solve the systems\n",
    "\n",
    "$$(a)$$\n",
    "$$2x - 3y = 7$$\n",
    "$$x + 2y = -2$$\n",
    "\n",
    "$$(b)$$\n",
    "$$2x+y-2z=1$$\n",
    "$$x-2y+z=-1$$\n",
    "$$2x+4y+2z=0$$\n",
    "\n",
    "$$(c)$$\n",
    "$$2x-y+2z=0$$\n",
    "$$x+y-z=3$$"
   ]
  },
  {
   "cell_type": "code",
   "execution_count": null,
   "id": "3074694d",
   "metadata": {},
   "outputs": [],
   "source": []
  },
  {
   "cell_type": "markdown",
   "id": "673161d8",
   "metadata": {},
   "source": [
    "With your answer on b determine whether or not the system for $a,b,c\\in \\mathbb{R}$\n",
    "\n",
    "$$a\\begin{bmatrix}2\\\\1\\\\2\\end{bmatrix} + b\\begin{bmatrix}1\\\\-2\\\\4\\end{bmatrix} + c\\begin{bmatrix}-2\\\\1\\\\2\\end{bmatrix} = a\\begin{bmatrix}-1\\\\1\\\\0\\end{bmatrix}$$"
   ]
  },
  {
   "cell_type": "code",
   "execution_count": null,
   "id": "d15cb8d5",
   "metadata": {},
   "outputs": [],
   "source": []
  }
 ],
 "metadata": {
  "kernelspec": {
   "display_name": "Python 3 (ipykernel)",
   "language": "python",
   "name": "python3"
  },
  "language_info": {
   "codemirror_mode": {
    "name": "ipython",
    "version": 3
   },
   "file_extension": ".py",
   "mimetype": "text/x-python",
   "name": "python",
   "nbconvert_exporter": "python",
   "pygments_lexer": "ipython3",
   "version": "3.9.5"
  }
 },
 "nbformat": 4,
 "nbformat_minor": 5
}
