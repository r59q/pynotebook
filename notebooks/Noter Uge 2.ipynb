{
 "cells": [
  {
   "cell_type": "markdown",
   "id": "0dc9c613",
   "metadata": {},
   "source": [
    "            # Plangeometri : Vectors and matrices\n",
    "## Vectors, norm and angles\n",
    "\n",
    "Enhedsvektorer\n",
    "e_0 = [(1), (0)]\n",
    "    e_1 = [(0), (1)]\n",
    "\n",
    "Vektor fra origo, O til punkt P \n",
    "    \n",
    "    O->P\n",
    "Længden af denne vektor |O->P| er \n",
    "    \n",
    "    |O->P| = r = sqrt(x^2 + y^2)\n",
    "Vinklen, θ bestemmes fra trigonometriske relationer\n",
    "\n",
    "    c = cos(θ)= x / r\n",
    "    s = sin(θ)= y / r\n",
    "Normen af en vektor, ||v||_2, er rængden af en vektor, r\n",
    "\n",
    "Skaleres en vektor, v, med faktoren 1/||v||_2=1/r fåes vektoren, w\n",
    "\n",
    "    w = 1/||v||_2 * v = [(c),(s)]\n",
    "Denne vektor har norm 1.\n",
    "Vektorer med norm 1 kaldes enhedsvektorer\n",
    "\n",
    "Cos og sin kan bruges til at bestemme vektoren v\n",
    "    \n",
    "    v = r[(c), (s)] = [(rc), (rs)]\n",
    "\n",
    "## Indre produkt\n",
    "    \n",
    "    u = (a,b) og v = (x,y) deres inder produkt er\n",
    "    <u,v> = < (a,b) , (x,y) > = ax + by\n",
    "    \n",
    "    Lad w = (cos(θ), sin(θ)) og\n",
    "        z = (cos(φ), sin(φ)) være enhedsvektorer\n",
    "    Da vil\n",
    "    <w, z>= <(cos(θ), sin(θ)) , (cos(φ), sin(φ))>\n",
    "          = cos(θ)cos(φ) + sin(θ)sin(φ)\n",
    "          = cos(φ - θ)\n",
    "          \n",
    "#### Generalt\n",
    "    \n",
    "    <u, v> = ||u||_2 ||v||_2 cos(a)\n",
    "    hvor a er vinklen mellem u og v\n",
    "    \n",
    "#### Bemærk\n",
    "    \n",
    "    <v, v> = < (x,y) , (x,y) > = x^2 + y^2 = ||v||^2_2\n",
    "    og dermed\n",
    "    ||v||_2 = sqrt( <v, v> )\n",
    "\n",
    "\n",
    "\n",
    "\n",
    "## Række-søjleprodukt\n",
    "    u^Tu = xx + yy = <u, u>\n",
    "    \n",
    "## Matrix-vektor produkt\n",
    "    A = (x,y)a = (ax, ay)\n",
    "## Rotation\n",
    "    R = [(c, -s), (s, c)\n",
    "## Mirroring\n",
    "    M = [(c, s), (s, -c)]\n",
    "    \n",
    "## Skævvridning\n",
    "    K = [(1,t), (0,1)] med faktor t.\n",
    "    \n",
    "## Tegninger med matplotlib\n"
   ]
  },
  {
   "cell_type": "code",
   "execution_count": 1,
   "id": "1790fa75",
   "metadata": {
    "collapsed": true
   },
   "outputs": [
    {
     "data": {
      "text/plain": [
       "[<matplotlib.lines.Line2D at 0x21beaf21b20>]"
      ]
     },
     "execution_count": 1,
     "metadata": {},
     "output_type": "execute_result"
    },
    {
     "data": {
      "image/png": "[encoded data removed]",
      "text/plain": [
       "<Figure size 432x288 with 1 Axes>"
      ]
     },
     "metadata": {
      "needs_background": "light"
     },
     "output_type": "display_data"
    }
   ],
   "source": [
    "import matplotlib.pyplot as plt\n",
    "import numpy as np\n",
    "\n",
    "x = np.array([ 0.2, 0.2, -0.2, 0.3])\n",
    "y = np.array([-0.2, 0.8, 0.1, 0.1])\n",
    "\n",
    "fig, ax = plt.subplots()\n",
    "ax.set_aspect('equal')\n",
    "ax.plot(x, y)\n",
    "# fig.show() <-- Use to show after the fact"
   ]
  },
  {
   "cell_type": "code",
   "execution_count": 2,
   "id": "8993b21a",
   "metadata": {
    "collapsed": true
   },
   "outputs": [
    {
     "data": {
      "text/plain": [
       "[<matplotlib.lines.Line2D at 0x21bed01bac0>]"
      ]
     },
     "execution_count": 2,
     "metadata": {},
     "output_type": "execute_result"
    },
    {
     "data": {
      "image/png": "[encoded data removed]",
      "text/plain": [
       "<Figure size 432x288 with 1 Axes>"
      ]
     },
     "metadata": {
      "needs_background": "light"
     },
     "output_type": "display_data"
    }
   ],
   "source": [
    "a = 1.0\n",
    "b = 0.5\n",
    "c = 0.0\n",
    "d = 1.0\n",
    "fig, ax = plt.subplots()\n",
    "ax.set_aspect('equal')\n",
    "ax.plot(a*x+b*y, c*x+d*y)"
   ]
  },
  {
   "cell_type": "code",
   "execution_count": 3,
   "id": "e86dab41",
   "metadata": {},
   "outputs": [],
   "source": [
    "fig.savefig('figure-name.pdf') # <-- Save the figure"
   ]
  },
  {
   "cell_type": "code",
   "execution_count": 4,
   "id": "26be282b",
   "metadata": {
    "collapsed": true
   },
   "outputs": [
    {
     "data": {
      "text/plain": [
       "[<matplotlib.lines.Line2D at 0x21bed5627f0>]"
      ]
     },
     "execution_count": 4,
     "metadata": {},
     "output_type": "execute_result"
    },
    {
     "data": {
      "image/png": "[encoded data removed]",
      "text/plain": [
       "<Figure size 432x288 with 1 Axes>"
      ]
     },
     "metadata": {
      "needs_background": "light"
     },
     "output_type": "display_data"
    }
   ],
   "source": [
    "fig, ax = plt.subplots()\n",
    "ax.set_aspect('equal')\n",
    "ax.plot(a*x+b*y, c*x+d*y, color='r')  # <-- Set line color"
   ]
  },
  {
   "cell_type": "code",
   "execution_count": 5,
   "id": "04d2000f",
   "metadata": {
    "collapsed": true
   },
   "outputs": [
    {
     "data": {
      "text/plain": [
       "[<matplotlib.lines.Line2D at 0x21bed593280>]"
      ]
     },
     "execution_count": 5,
     "metadata": {},
     "output_type": "execute_result"
    },
    {
     "data": {
      "image/png": "[encoded data removed]",
      "text/plain": [
       "<Figure size 432x288 with 1 Axes>"
      ]
     },
     "metadata": {
      "needs_background": "light"
     },
     "output_type": "display_data"
    }
   ],
   "source": [
    "fig, ax = plt.subplots()\n",
    "ax.set_aspect('equal')\n",
    "ax.plot(a*x+b*y, c*x+d*y, marker='o') # <-- Add dots"
   ]
  },
  {
   "cell_type": "code",
   "execution_count": 6,
   "id": "c51af788",
   "metadata": {
    "collapsed": true
   },
   "outputs": [
    {
     "data": {
      "text/plain": [
       "[<matplotlib.lines.Line2D at 0x21bed5efdf0>]"
      ]
     },
     "execution_count": 6,
     "metadata": {},
     "output_type": "execute_result"
    },
    {
     "data": {
      "image/png": "[encoded data removed]",
      "text/plain": [
       "<Figure size 432x288 with 1 Axes>"
      ]
     },
     "metadata": {
      "needs_background": "light"
     },
     "output_type": "display_data"
    }
   ],
   "source": [
    "fig, ax = plt.subplots()\n",
    "ax.set_aspect('equal')\n",
    "ax.set_xlim(-3.0, 3.0) # <-- Set x limit\n",
    "ax.set_ylim(-2.0, 4.0) # <-- Set y limit\n",
    "ax.plot(a*x+b*y, c*x+d*y)"
   ]
  },
  {
   "cell_type": "markdown",
   "id": "830a6701",
   "metadata": {},
   "source": [
    "## Making matrices in Python"
   ]
  },
  {
   "cell_type": "code",
   "execution_count": 8,
   "id": "1d312914",
   "metadata": {},
   "outputs": [
    {
     "data": {
      "text/plain": [
       "array([2, 4])"
      ]
     },
     "execution_count": 8,
     "metadata": {},
     "output_type": "execute_result"
    }
   ],
   "source": [
    "a = np.array([[1, 2], [3, 4]])  # a 2x2 matrix\n",
    "a[:, 0] # Column 0"
   ]
  },
  {
   "cell_type": "code",
   "execution_count": 9,
   "id": "cf08077f",
   "metadata": {},
   "outputs": [
    {
     "data": {
      "text/plain": [
       "array([1, 3])"
      ]
     },
     "execution_count": 9,
     "metadata": {},
     "output_type": "execute_result"
    }
   ],
   "source": [
    "a[:, 1] # Column 1"
   ]
  },
  {
   "cell_type": "code",
   "execution_count": 10,
   "id": "daf9415f",
   "metadata": {},
   "outputs": [
    {
     "data": {
      "text/plain": [
       "array([1, 2])"
      ]
     },
     "execution_count": 10,
     "metadata": {},
     "output_type": "execute_result"
    }
   ],
   "source": [
    "a[0, :] # Row 0"
   ]
  },
  {
   "cell_type": "code",
   "execution_count": 14,
   "id": "7d787749",
   "metadata": {},
   "outputs": [
    {
     "data": {
      "text/plain": [
       "array([3, 4])"
      ]
     },
     "execution_count": 14,
     "metadata": {},
     "output_type": "execute_result"
    }
   ],
   "source": [
    "a[1, :] # Row 1"
   ]
  },
  {
   "cell_type": "code",
   "execution_count": 15,
   "id": "2695d0f5",
   "metadata": {},
   "outputs": [
    {
     "data": {
      "text/plain": [
       "array([[1, 3],\n",
       "       [2, 4]])"
      ]
     },
     "execution_count": 15,
     "metadata": {},
     "output_type": "execute_result"
    }
   ],
   "source": [
    "a.T # Transpose the matrix"
   ]
  },
  {
   "cell_type": "markdown",
   "id": "ba45c77f",
   "metadata": {},
   "source": [
    "## Matrix graphics\n"
   ]
  },
  {
   "cell_type": "code",
   "execution_count": 12,
   "id": "8ca84dfa",
   "metadata": {
    "collapsed": true
   },
   "outputs": [
    {
     "data": {
      "text/plain": [
       "<matplotlib.colorbar.Colorbar at 0x21bed6836d0>"
      ]
     },
     "execution_count": 12,
     "metadata": {},
     "output_type": "execute_result"
    },
    {
     "data": {
      "image/png": "[encoded data removed]",
      "text/plain": [
       "<Figure size 432x288 with 2 Axes>"
      ]
     },
     "metadata": {
      "needs_background": "light"
     },
     "output_type": "display_data"
    }
   ],
   "source": [
    "import matplotlib.pyplot as plt\n",
    "fig, ax = plt.subplots()\n",
    "im = ax.matshow(a, cmap='Reds')\n",
    "fig.colorbar(im)"
   ]
  },
  {
   "cell_type": "code",
   "execution_count": 13,
   "id": "5d2acc1d",
   "metadata": {
    "collapsed": true
   },
   "outputs": [
    {
     "data": {
      "text/plain": [
       "<matplotlib.colorbar.Colorbar at 0x21bed73bc40>"
      ]
     },
     "execution_count": 13,
     "metadata": {},
     "output_type": "execute_result"
    },
    {
     "data": {
      "image/png": "[encoded data removed]",
      "text/plain": [
       "<Figure size 432x288 with 2 Axes>"
      ]
     },
     "metadata": {
      "needs_background": "light"
     },
     "output_type": "display_data"
    }
   ],
   "source": [
    "import matplotlib.pyplot as plt\n",
    "fig, ax = plt.subplots()\n",
    "im = ax.matshow(a, cmap='coolwarm') # Use prop clim=(1,0) to limit the cmap\n",
    "fig.colorbar(im)"
   ]
  }
 ],
 "metadata": {
  "kernelspec": {
   "display_name": "Python 3 (ipykernel)",
   "language": "python",
   "name": "python3"
  },
  "language_info": {
   "codemirror_mode": {
    "name": "ipython",
    "version": 3
   },
   "file_extension": ".py",
   "mimetype": "text/x-python",
   "name": "python",
   "nbconvert_exporter": "python",
   "pygments_lexer": "ipython3",
   "version": "3.9.5"
  }
 },
 "nbformat": 4,
 "nbformat_minor": 5
}
