{
 "cells": [
  {
   "cell_type": "markdown",
   "id": "37a26925",
   "metadata": {},
   "source": [
    "Exercises 10"
   ]
  },
  {
   "cell_type": "code",
   "execution_count": 1,
   "id": "d4a20de8",
   "metadata": {},
   "outputs": [],
   "source": [
    "import numpy as np\n",
    "import matplotlib.pyplot as plt"
   ]
  },
  {
   "cell_type": "code",
   "execution_count": 2,
   "id": "0e545ccd",
   "metadata": {},
   "outputs": [],
   "source": [
    "def forbedret_gram_schmidt(a):\n",
    "    _, k = a.shape\n",
    "    q = np.copy(a)\n",
    "    r = np.zeros((k, k))\n",
    "    for i in range(k):\n",
    "        r[i, i] = np.linalg.norm(q[:, i])\n",
    "        q[:, i] /= r[i, i]\n",
    "        r[[i], i+1:] = q[:, [i]].T @ q[:, i+1:]\n",
    "        q[:, i+1:] -= q[:, [i]] @ r[[i], i+1:]\n",
    "    return q, r\n",
    "\n",
    "def back_subs(r, c):\n",
    "    n, _ = r.shape\n",
    "    x = np.empty((n, 1))\n",
    "    for i in reversed(range(n)):\n",
    "        x[i] = (c[i] - r[[i], i+1:] @ x[i+1:]) / r[i, i]\n",
    "    return x"
   ]
  },
  {
   "cell_type": "code",
   "execution_count": 3,
   "id": "ca1ff103",
   "metadata": {},
   "outputs": [],
   "source": [
    "x = np.array([0., 1.9, 3.1, 6.2, 7.1])\n",
    "y = np.array([1.1, 2.1, 2.9, 4.2, 4.8])"
   ]
  },
  {
   "cell_type": "code",
   "execution_count": 4,
   "id": "4670cd92",
   "metadata": {},
   "outputs": [],
   "source": [
    "cols = 2\n",
    "a = np.vander(x, cols)"
   ]
  },
  {
   "cell_type": "code",
   "execution_count": 5,
   "id": "6f4740ef",
   "metadata": {},
   "outputs": [],
   "source": [
    "q, r = forbedret_gram_schmidt(a)"
   ]
  },
  {
   "cell_type": "code",
   "execution_count": 6,
   "id": "d6ecb49a",
   "metadata": {},
   "outputs": [
    {
     "data": {
      "text/plain": [
       "array([[7.2354962 ],\n",
       "       [1.52084135]])"
      ]
     },
     "execution_count": 6,
     "metadata": {},
     "output_type": "execute_result"
    }
   ],
   "source": [
    "c = q.T @ y[:, np.newaxis]\n",
    "c"
   ]
  },
  {
   "cell_type": "code",
   "execution_count": 7,
   "id": "d2e77d26",
   "metadata": {},
   "outputs": [],
   "source": [
    "koeffs = back_subs(r, c)"
   ]
  },
  {
   "cell_type": "code",
   "execution_count": 15,
   "id": "b3560c01",
   "metadata": {},
   "outputs": [
    {
     "data": {
      "text/plain": [
       "[<matplotlib.lines.Line2D at 0x7fed26e136a0>]"
      ]
     },
     "execution_count": 15,
     "metadata": {},
     "output_type": "execute_result"
    },
    {
     "data": {
      "image/png": "[encoded data removed]",
      "text/plain": [
       "<Figure size 432x288 with 1 Axes>"
      ]
     },
     "metadata": {
      "needs_background": "light"
     },
     "output_type": "display_data"
    }
   ],
   "source": [
    "t = np.linspace(-1,7, 100)\n",
    "fig, ax = plt.subplots()\n",
    "ax.set_aspect('equal')\n",
    "ax.plot(x,y,'o')\n",
    "ax.plot(t, np.vander(t, cols) @ koeffs)"
   ]
  },
  {
   "cell_type": "code",
   "execution_count": 9,
   "id": "07bad9e2",
   "metadata": {},
   "outputs": [
    {
     "name": "stdout",
     "output_type": "stream",
     "text": [
      "[[0.508207  ]\n",
      " [1.15996238]]\n"
     ]
    }
   ],
   "source": [
    "print(koeffs)"
   ]
  },
  {
   "cell_type": "markdown",
   "id": "944f3186",
   "metadata": {},
   "source": [
    "Result is \n",
    "$$f(x)= 0.508207x^2 + 1.15996238x + 0.6575539$$"
   ]
  },
  {
   "cell_type": "code",
   "execution_count": 11,
   "id": "e960bbf5",
   "metadata": {},
   "outputs": [],
   "source": [
    "def f(x):\n",
    "    return 0.508207*x**2+1.15996238*x+0.6575539"
   ]
  },
  {
   "cell_type": "code",
   "execution_count": 14,
   "id": "60082264",
   "metadata": {},
   "outputs": [
    {
     "data": {
      "text/plain": [
       "[<matplotlib.lines.Line2D at 0x7fed26fc2fe0>]"
      ]
     },
     "execution_count": 14,
     "metadata": {},
     "output_type": "execute_result"
    },
    {
     "data": {
      "image/png": "[encoded data removed]",
      "text/plain": [
       "<Figure size 432x288 with 1 Axes>"
      ]
     },
     "metadata": {
      "needs_background": "light"
     },
     "output_type": "display_data"
    }
   ],
   "source": [
    "fig, ax = plt.subplots()\n",
    "ax.plot(x,y,'o')\n",
    "ax.plot(t, f(t))"
   ]
  },
  {
   "cell_type": "code",
   "execution_count": null,
   "id": "3a5de2c3",
   "metadata": {},
   "outputs": [],
   "source": []
  }
 ],
 "metadata": {
  "kernelspec": {
   "display_name": "Python 3 (ipykernel)",
   "language": "python",
   "name": "python3"
  },
  "language_info": {
   "codemirror_mode": {
    "name": "ipython",
    "version": 3
   },
   "file_extension": ".py",
   "mimetype": "text/x-python",
   "name": "python",
   "nbconvert_exporter": "python",
   "pygments_lexer": "ipython3",
   "version": "3.10.2"
  }
 },
 "nbformat": 4,
 "nbformat_minor": 5
}
