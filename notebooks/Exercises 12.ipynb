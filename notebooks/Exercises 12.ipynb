{
 "cells": [
  {
   "cell_type": "code",
   "execution_count": 1,
   "id": "fe04ef3b",
   "metadata": {},
   "outputs": [],
   "source": [
    "import numpy as np\n",
    "import matplotlib.pyplot as plt"
   ]
  },
  {
   "cell_type": "markdown",
   "id": "ad4db98e",
   "metadata": {},
   "source": [
    "# Exercises 12"
   ]
  },
  {
   "cell_type": "markdown",
   "id": "7c00040e",
   "metadata": {},
   "source": [
    "## 12.1 \n",
    "Done"
   ]
  },
  {
   "cell_type": "markdown",
   "id": "18f3411e",
   "metadata": {},
   "source": [
    "# 12.2\n",
    "Kontakt TA for peerwise login"
   ]
  },
  {
   "cell_type": "markdown",
   "id": "a5bb703b",
   "metadata": {},
   "source": [
    "# 12.3\n",
    "Lad\n",
    "$u = (1,2,4), v=(-1,2,1)$ og $A = uv^T$"
   ]
  },
  {
   "cell_type": "markdown",
   "id": "29a6becb",
   "metadata": {},
   "source": [
    "(a) Bestem en basis for $N(A) = \\{x\\in\\mathbb{R}^n | Ax = 0\\}$\n",
    "\n",
    "find $det(A-\\lambda I_3)$\n",
    "\n",
    "$= det(A - \\lambda \\begin{bmatrix}1 & 0 & 0 \\\\ 0 & 1 & 0 \\\\ 0 & 0 & 1\\end{bmatrix})$\n",
    "\n",
    "$ = det( \n",
    "\\begin{bmatrix}-1 & 2 & 1 \\\\ -2 & 4 & 2 \\\\ -4 & 8 & 4\\end{bmatrix}\n",
    "-\n",
    "\\begin{bmatrix}\\lambda & 0 & 0 \\\\ 0 & \\lambda & 0 \\\\ 0 & 0 & \\lambda\\end{bmatrix}\n",
    ")$\n",
    "\n",
    "$ = det( \n",
    "\\begin{bmatrix}-1-\\lambda & 2 & 1 \\\\ -2 & 4-\\lambda & 2 \\\\ -4 & 8 & 4-\\lambda\\end{bmatrix}\n",
    ")$"
   ]
  },
  {
   "cell_type": "code",
   "execution_count": null,
   "id": "e12bbbff",
   "metadata": {},
   "outputs": [],
   "source": []
  },
  {
   "cell_type": "code",
   "execution_count": 2,
   "id": "ab050f0d",
   "metadata": {},
   "outputs": [
    {
     "data": {
      "text/plain": [
       "array([[-1,  2,  1],\n",
       "       [-2,  4,  2],\n",
       "       [-4,  8,  4]])"
      ]
     },
     "execution_count": 2,
     "metadata": {},
     "output_type": "execute_result"
    }
   ],
   "source": [
    "u = np.array([1,2,4])[:, np.newaxis]\n",
    "v = np.array([-1,2,1])[:, np.newaxis]\n",
    "A = u @ v.T\n",
    "A"
   ]
  },
  {
   "cell_type": "code",
   "execution_count": 3,
   "id": "d7840ebe",
   "metadata": {},
   "outputs": [
    {
     "data": {
      "text/plain": [
       "0.0"
      ]
     },
     "execution_count": 3,
     "metadata": {},
     "output_type": "execute_result"
    }
   ],
   "source": [
    "np.linalg.det(A)"
   ]
  },
  {
   "cell_type": "code",
   "execution_count": 4,
   "id": "a3ba751d",
   "metadata": {},
   "outputs": [
    {
     "name": "stdout",
     "output_type": "stream",
     "text": [
      "[[1.12249722e+01]\n",
      " [4.53246652e-16]\n",
      " [1.09476443e-47]]\n"
     ]
    }
   ],
   "source": [
    "b = np.zeros(3)[:, np.newaxis]\n",
    "x = np.linalg.lstsq(A, b, rcond=None)[3][:, np.newaxis]\n",
    "print(x)"
   ]
  },
  {
   "cell_type": "code",
   "execution_count": 5,
   "id": "c08e0b54",
   "metadata": {},
   "outputs": [
    {
     "data": {
      "text/plain": [
       "array([[-11.22497216],\n",
       "       [-22.44994432],\n",
       "       [-44.89988864]])"
      ]
     },
     "execution_count": 5,
     "metadata": {},
     "output_type": "execute_result"
    }
   ],
   "source": [
    "A @ x"
   ]
  },
  {
   "cell_type": "markdown",
   "id": "9f2fb83d",
   "metadata": {},
   "source": [
    "## 12.5 \n",
    "Antag at $A=V\\Lambda V^-1$ som er diagonaliserbar med egenværdier $\\lambda_0, \\lambda_1, \\lambda_2$. Vis at de følgende matricer er diagonaliserbar og bestem deres egenværdier.\n",
    "\n",
    "$$\n",
    "3A = \\begin{bmatrix}\n",
    "    3a_{00} & 3a_{01} & 3a_{02} \\\\\n",
    "    3a_{10} & 3a_{11} & 3a_{12} \\\\\n",
    "    3a_{20} & 3a_{21} & 3a_{22}\n",
    "\\end{bmatrix}\n",
    "$$\n",
    "\n"
   ]
  },
  {
   "cell_type": "markdown",
   "id": "881d58bc",
   "metadata": {},
   "source": [
    "## 12.6\n",
    "Let $A=\\begin{bmatrix} -1 & 2 \\\\ 2 & -1 \\end{bmatrix}$\n",
    "\n",
    "$$det(A)=2\\cdot 2 + -1 \\cdot -1$$\n",
    "$$=4 + 1 = 5$$\n",
    "$$\n",
    "(A - \\lambda I_2)v = 0\n",
    "$$\n",
    "$$\n",
    "(\\begin{bmatrix} -1 & 2 \\\\ 2 & -1 \\end{bmatrix} - \\begin{bmatrix} \\lambda & 0\\\\ 0 & \\lambda \\end{bmatrix})\\begin{bmatrix}v_0 \\\\ v_0\\end{bmatrix} = 0\n",
    "$$\n",
    "$$\n",
    "\\begin{bmatrix} -1-\\lambda & 2 \\\\ 2 & -1-\\lambda \\end{bmatrix}\\begin{bmatrix}v_0 \\\\ v_0\\end{bmatrix} = 0\n",
    "$$\n",
    "\n",
    "$$\n",
    "det(\\begin{bmatrix} -1-\\lambda & 2 \\\\ 2 & -1-\\lambda \\end{bmatrix}) = (-1-\\lambda)^2 + 4\n",
    "$$"
   ]
  },
  {
   "cell_type": "markdown",
   "id": "cf7b6cfd",
   "metadata": {},
   "source": [
    "$$(-1)^2 - \\lambda^2 + 4$$\n",
    "\n",
    "$$-\\lambda^2 + 5$$\n",
    "\n",
    "$$-\\lambda^2 + 5 = 0 \\implies \\lambda=-2.2360 \\land \\lambda = 2.2360$$"
   ]
  },
  {
   "cell_type": "markdown",
   "id": "a999a804",
   "metadata": {},
   "source": [
    "$$\\begin{bmatrix} -1-2.2360& 2 \\\\ 2 & -1-2.2360 \\end{bmatrix}v=0$$"
   ]
  },
  {
   "cell_type": "markdown",
   "id": "b548563f",
   "metadata": {},
   "source": [
    "$$\\begin{bmatrix} -3.2360& 2 \\\\ 2 & -3.2360 \\end{bmatrix}v=0$$\n",
    "\n",
    "$$\\begin{bmatrix} -3.2360& 2 \\\\ 2 & -3.2360 \\end{bmatrix}\n",
    "\\begin{bmatrix} v_0 \\\\ v_1 \\end{bmatrix}\n",
    "=0$$"
   ]
  },
  {
   "cell_type": "code",
   "execution_count": 14,
   "id": "af6d9dbe",
   "metadata": {},
   "outputs": [
    {
     "name": "stdout",
     "output_type": "stream",
     "text": [
      "[[-3.236  2.   ]\n",
      " [ 2.    -3.236]]\n",
      "[[ 1.         -0.61804697]\n",
      " [ 2.         -3.236     ]]\n",
      "[[ 1.         -0.61804697]\n",
      " [ 0.         -1.99990606]]\n",
      "[[ 1.         -0.61804697]\n",
      " [-0.          1.        ]]\n",
      "[[1. 0.]\n",
      " [0. 1.]]\n"
     ]
    }
   ],
   "source": [
    "np.set_printoptions(suppress=True)\n",
    "\n",
    "AlI = np.array([[-3.236, 2],[2,-3.236]])\n",
    "print(AlI)\n",
    "AlI[0, :] = (1/-3.236) * AlI[0, :] \n",
    "print(AlI)\n",
    "AlI[1, :] += -2 * AlI[0, :] \n",
    "print(AlI)\n",
    "AlI[1, :] = (1/AlI[1, :][1]) * AlI[1, :] \n",
    "print(AlI)\n",
    "\n",
    "print(np.eye(2))"
   ]
  },
  {
   "cell_type": "markdown",
   "id": "4f43ec92",
   "metadata": {},
   "source": [
    "$$ I_2 v = 0 \\implies v=\\begin{bmatrix}-1 \\\\ 1 \\end{bmatrix}$$"
   ]
  },
  {
   "cell_type": "code",
   "execution_count": null,
   "id": "da8d72d4",
   "metadata": {},
   "outputs": [],
   "source": []
  }
 ],
 "metadata": {
  "kernelspec": {
   "display_name": "Python 3 (ipykernel)",
   "language": "python",
   "name": "python3"
  },
  "language_info": {
   "codemirror_mode": {
    "name": "ipython",
    "version": 3
   },
   "file_extension": ".py",
   "mimetype": "text/x-python",
   "name": "python",
   "nbconvert_exporter": "python",
   "pygments_lexer": "ipython3",
   "version": "3.10.4"
  }
 },
 "nbformat": 4,
 "nbformat_minor": 5
}
