{
 "cells": [
  {
   "cell_type": "markdown",
   "id": "83297621",
   "metadata": {},
   "source": [
    "#### Opgave 2.1 Brug python til at beregne længde og vinkel for følgende vektorer i planen:\n",
    "\n",
    "- a : [(0.0), (1.0)]\n",
    "- b : [(1.0), (-1.0)]\n",
    "- c : [(-0.5), (-0.8660254037844386)]"
   ]
  },
  {
   "cell_type": "code",
   "execution_count": 118,
   "id": "60714511",
   "metadata": {},
   "outputs": [],
   "source": [
    "import numpy as np\n",
    "\n",
    "def vectorLen(v):\n",
    "    x, y = v\n",
    "    r = np.sqrt(x**2.0 + y**2.0)\n",
    "    return r\n",
    "\n",
    "def radAngle(v):\n",
    "    x,y = v\n",
    "    r = vectorLen(v)\n",
    "    c = x / r\n",
    "    theta = np.arccos(c)\n",
    "    return theta\n",
    "\n",
    "def degreeAngle(v):\n",
    "    return (radAngle(v) * 180.0) / np.pi\n",
    "\n",
    "def byPiAngle(v):\n",
    "    return degreeAngle(v) / np.pi"
   ]
  },
  {
   "cell_type": "code",
   "execution_count": 119,
   "id": "af59d1d0",
   "metadata": {},
   "outputs": [
    {
     "name": "stdout",
     "output_type": "stream",
     "text": [
      "1.0\n",
      "1.5707963267948966\n",
      "28.64788975654116\n",
      "90.0\n"
     ]
    }
   ],
   "source": [
    "a = np.array([(0.0),(1.0)])\n",
    "print(vectorLen(a))\n",
    "print(radAngle(a))\n",
    "print(byPiAngle(a))\n",
    "print(degreeAngle(a))"
   ]
  },
  {
   "cell_type": "code",
   "execution_count": 120,
   "id": "c48c129c",
   "metadata": {},
   "outputs": [
    {
     "name": "stdout",
     "output_type": "stream",
     "text": [
      "1.4142135623730951\n",
      "0.7853981633974484\n",
      "14.323944878270582\n",
      "45.00000000000001\n"
     ]
    }
   ],
   "source": [
    "b = np.array([(1.0),(-1.0)])\n",
    "print(vectorLen(b))\n",
    "print(radAngle(b))\n",
    "print(byPiAngle(b))\n",
    "print(degreeAngle(b))"
   ]
  },
  {
   "cell_type": "code",
   "execution_count": 121,
   "id": "94e5e9be",
   "metadata": {
    "scrolled": false
   },
   "outputs": [
    {
     "name": "stdout",
     "output_type": "stream",
     "text": [
      "0.9999999999999999\n",
      "2.0943951023931957\n",
      "38.197186342054884\n",
      "120.00000000000001\n"
     ]
    }
   ],
   "source": [
    "b = np.array([(-0.5),(-0.8660254037844386)])\n",
    "print(vectorLen(b))\n",
    "print(radAngle(b))\n",
    "print(byPiAngle(b))\n",
    "print(degreeAngle(b))"
   ]
  },
  {
   "cell_type": "markdown",
   "id": "d174e938",
   "metadata": {},
   "source": [
    "#### Opgave 2.2"
   ]
  },
  {
   "cell_type": "code",
   "execution_count": 122,
   "id": "0c8b1574",
   "metadata": {},
   "outputs": [
    {
     "data": {
      "text/plain": [
       "[<matplotlib.lines.Line2D at 0x2593c1a2a60>]"
      ]
     },
     "execution_count": 122,
     "metadata": {},
     "output_type": "execute_result"
    },
    {
     "data": {
      "image/png": "[encoded data removed]",
      "text/plain": [
       "<Figure size 432x288 with 1 Axes>"
      ]
     },
     "metadata": {
      "needs_background": "light"
     },
     "output_type": "display_data"
    }
   ],
   "source": [
    "import matplotlib.pyplot as plt\n",
    "import numpy as np\n",
    "x = np.linspace(1.0, 7.0, 100)\n",
    "y = (2 * np.sin(x)) / (1 + x**2)\n",
    "fig, ax = plt.subplots()\n",
    "ax.plot(x,y)\n"
   ]
  },
  {
   "cell_type": "markdown",
   "id": "361d35a0",
   "metadata": {},
   "source": [
    "#### Opgave 2.3\n",
    "Matematisk set er følgende ens\n",
    "\n",
    "    y = x^8 - 8x^7 + 28x^6 - 56x^6 + 70x^4 - 56x^3 + 28x^2 - 8x + 1\n",
    "    z = y = (x-1)^8"
   ]
  },
  {
   "cell_type": "code",
   "execution_count": 123,
   "id": "db403e1c",
   "metadata": {},
   "outputs": [
    {
     "data": {
      "text/plain": [
       "[<matplotlib.lines.Line2D at 0x2593d1e3070>]"
      ]
     },
     "execution_count": 123,
     "metadata": {},
     "output_type": "execute_result"
    },
    {
     "data": {
      "image/png": "[encoded data removed]",
      "text/plain": [
       "<Figure size 432x288 with 1 Axes>"
      ]
     },
     "metadata": {
      "needs_background": "light"
     },
     "output_type": "display_data"
    }
   ],
   "source": [
    "import matplotlib.pyplot as plt\n",
    "import numpy as np\n",
    "\n",
    "\n",
    "def z(x):\n",
    "    return (x-1)**8\n",
    "\n",
    "def y(x):\n",
    "    return (x**8)-(8*(x**7))+(28*(x**6)) - (56*(x**5)) + (70*(x**4)) - (56*(x**3)) + (28*(x**2)) - (8*x) + 1\n",
    "\n",
    "\n",
    "\n",
    "x = np.linspace(1.0, 100.0, 5000)\n",
    "diff = z(x) - y(x)\n",
    "fig, ax = plt.subplots()\n",
    "ax.plot(x,diff)\n"
   ]
  },
  {
   "cell_type": "markdown",
   "id": "506b279d",
   "metadata": {},
   "source": [
    "#### Opgave 2.4"
   ]
  },
  {
   "cell_type": "code",
   "execution_count": 124,
   "id": "ac1dbcc8",
   "metadata": {},
   "outputs": [
    {
     "name": "stdout",
     "output_type": "stream",
     "text": [
      "[-2.16751283e-04 -1.96174636e-05 -2.52891340e-04 ... -2.75689551e-04\n",
      "  1.85380565e-04  4.20024363e-04]\n"
     ]
    },
    {
     "data": {
      "text/plain": [
       "[<matplotlib.lines.Line2D at 0x2593d24b160>]"
      ]
     },
     "execution_count": 124,
     "metadata": {},
     "output_type": "execute_result"
    },
    {
     "data": {
      "image/png": "[encoded data removed]",
      "text/plain": [
       "<Figure size 432x288 with 1 Axes>"
      ]
     },
     "metadata": {
      "needs_background": "light"
     },
     "output_type": "display_data"
    }
   ],
   "source": [
    "import matplotlib.pyplot as plt\n",
    "import numpy as np\n",
    "\n",
    "\n",
    "def z(x):\n",
    "    return (x-1)**8\n",
    "\n",
    "def y(x):\n",
    "    return (x**8)-(8*(x**7))+(28*(x**6)) - (56*(x**5)) + (70*(x**4)) - (56*(x**3)) + (28*(x**2)) - (8*x) + 1\n",
    "\n",
    "\n",
    "\n",
    "x = np.linspace(0.95, 1.05, 10000)\n",
    "\n",
    "z1 = z(x)\n",
    "y1 = y(x)\n",
    "relaDiff = []\n",
    "dzy = z1-y1\n",
    "c = 0\n",
    "for i,v in enumerate(dzy):\n",
    "    if (y1[i] == 0):\n",
    "        relaDiff.append(0)\n",
    "    else:\n",
    "        relaDiff.append(v/y1[i])\n",
    "    \n",
    "relaDiff = np.array(relaDiff)\n",
    "print(relaDiff)\n",
    "fig, ax = plt.subplots()\n",
    "ax.plot(x, relaDiff)\n"
   ]
  },
  {
   "cell_type": "markdown",
   "id": "0007dffa",
   "metadata": {},
   "source": [
    "#### Opgave 2.4\n",
    "For vektorer u = [(a),(b)] og v = [(x),(y)] og et reel tal in \\R vis at\n",
    "    \n",
    "    a. <u, v> = <v, u>\n",
    "    \n",
    "        <u, v> = < [(a), (b)] , [(x), (y)] >\n",
    "        = ax + by\n",
    "        = xa + yb = < [(x), (y)] , [(a), (b)] >\n",
    "        = <v, u>\n",
    "og\n",
    "    \n",
    "    b. <tu, v> = t<u, v>\n",
    "        \n",
    "        <tu, v> = < [(ta), (tb)] , [(x), (y)] >\n",
    "        = tax + tby = t(ax+by) = t<u, v>"
   ]
  },
  {
   "cell_type": "markdown",
   "id": "cf05de5f",
   "metadata": {},
   "source": [
    "#### Opgave 2.5\n",
    "\n",
    "For hvert delspørgsmål find A = [(a,b), (c,d)]\n",
    "\n",
    "    a. Ae_0 = [(4), (-3)]\n",
    "        A = [(4,0), (-3,0)]\n",
    "    b. Ae_0 = [(4), (-3)] ^ Ae_1 = [(-1),(1)]\n",
    "        A = [(4,-1), (-3,1)]\n",
    "    c. A[(4),(-3)] = [(3),(4)]\n",
    "        A = [(0.75,0), (-3,0)]\n",
    "    d. A er en spejling med A[(4),(-3)] = [(3),(4)]\n",
    "    e. A er en spejling med A[(4),(-3)] = [(-5),(0)]"
   ]
  }
 ],
 "metadata": {
  "kernelspec": {
   "display_name": "Python 3 (ipykernel)",
   "language": "python",
   "name": "python3"
  },
  "language_info": {
   "codemirror_mode": {
    "name": "ipython",
    "version": 3
   },
   "file_extension": ".py",
   "mimetype": "text/x-python",
   "name": "python",
   "nbconvert_exporter": "python",
   "pygments_lexer": "ipython3",
   "version": "3.9.5"
  }
 },
 "nbformat": 4,
 "nbformat_minor": 5
}
