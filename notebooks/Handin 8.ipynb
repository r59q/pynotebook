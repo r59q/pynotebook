{
 "cells": [
  {
   "cell_type": "markdown",
   "id": "309f0303",
   "metadata": {},
   "source": [
    "# Handin 8\n",
    "Andreas Malthe Henriksen (202004107)"
   ]
  },
  {
   "cell_type": "markdown",
   "id": "33f6f0a8",
   "metadata": {},
   "source": [
    "**Consider the matrix,**\n",
    "\n",
    "$$A = \n",
    "\\begin{bmatrix}\n",
    "    2 & 0 & 0\\\\\n",
    "    0 & 1 & 1\\\\\n",
    "    0 & 1 & 1\n",
    "\\end{bmatrix}$$"
   ]
  },
  {
   "cell_type": "markdown",
   "id": "04696715",
   "metadata": {},
   "source": [
    "## (a)\n",
    "**Compute the characteristic polynomial $det(A-\\lambda I_3)$ of $A$**"
   ]
  },
  {
   "cell_type": "markdown",
   "id": "5e6abf4d",
   "metadata": {},
   "source": [
    "## (b)\n",
    "**Show that $0$ and $2$ are eigenvalues for $A$**"
   ]
  },
  {
   "cell_type": "markdown",
   "id": "44c9f39d",
   "metadata": {},
   "source": [
    "## (c)\n",
    "**Does $A$ have any other eigenvalues?**"
   ]
  },
  {
   "cell_type": "markdown",
   "id": "19fe3650",
   "metadata": {},
   "source": [
    "## (d)\n",
    "**Compute a basis of $\\mathbb{R}^3$, consisting of eigenvectors for $A$**"
   ]
  },
  {
   "cell_type": "markdown",
   "id": "2c189fa1",
   "metadata": {},
   "source": [
    "## (e)\n",
    "**Write $A=V\\Lambda V^-1$ for at suitable $V$ and diagonal $\\Lambda$.**"
   ]
  },
  {
   "cell_type": "markdown",
   "id": "2b378465",
   "metadata": {},
   "source": [
    "## (f)\n",
    "**Use (e) to compute $A^k ,\\ \\forall k$**"
   ]
  },
  {
   "cell_type": "code",
   "execution_count": null,
   "id": "4447f27f",
   "metadata": {},
   "outputs": [],
   "source": []
  }
 ],
 "metadata": {
  "kernelspec": {
   "display_name": "Python 3 (ipykernel)",
   "language": "python",
   "name": "python3"
  },
  "language_info": {
   "codemirror_mode": {
    "name": "ipython",
    "version": 3
   },
   "file_extension": ".py",
   "mimetype": "text/x-python",
   "name": "python",
   "nbconvert_exporter": "python",
   "pygments_lexer": "ipython3",
   "version": "3.10.4"
  }
 },
 "nbformat": 4,
 "nbformat_minor": 5
}
