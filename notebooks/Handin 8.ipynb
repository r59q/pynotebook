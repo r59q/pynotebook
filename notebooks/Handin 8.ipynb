{
 "cells": [
  {
   "cell_type": "markdown",
   "id": "309f0303",
   "metadata": {},
   "source": [
    "# Handin 8\n",
    "Andreas Malthe Henriksen (202004107)"
   ]
  },
  {
   "cell_type": "markdown",
   "id": "33f6f0a8",
   "metadata": {},
   "source": [
    "**Consider the matrix,**\n",
    "\n",
    "$$A = \n",
    "\\begin{bmatrix}\n",
    "    2 & 0 & 0\\\\\n",
    "    0 & 1 & 1\\\\\n",
    "    0 & 1 & 1\n",
    "\\end{bmatrix}$$"
   ]
  },
  {
   "cell_type": "markdown",
   "id": "04696715",
   "metadata": {},
   "source": [
    "## (a)\n",
    "**Compute the characteristic polynomial $det(A-\\lambda I_3)$ of $A$**"
   ]
  },
  {
   "cell_type": "markdown",
   "id": "c4cddd52",
   "metadata": {},
   "source": [
    "$$det(A-\\lambda I_3)$$\n",
    "$$=det(A-\n",
    "\\begin{bmatrix}\n",
    "    \\lambda & 0 & 0\\\\\n",
    "    0 & \\lambda & 0\\\\\n",
    "    0 & 0 & \\lambda\n",
    "\\end{bmatrix}\n",
    ")$$\n",
    "\n",
    "$$=det(\n",
    "\\begin{bmatrix}\n",
    "    2-\\lambda & 0 & 0\\\\\n",
    "    0 & 1-\\lambda & 1\\\\\n",
    "    0 & 1 & 1-\\lambda\n",
    "\\end{bmatrix})$$\n",
    "Now we use this to find\n",
    "$$= a_{00}det(M_{00})-a_{01}det(M_{01})+a_{02}det(M_{02})$$\n",
    "Where\n",
    "$$M_{00}=\\begin{bmatrix}\n",
    "    1-\\lambda & 1\\\\\n",
    "    1 & 1-\\lambda\n",
    "\\end{bmatrix},\n",
    "M_{01}=\\begin{bmatrix}\n",
    "    0 &  1\\\\\n",
    "    0 & 1-\\lambda\n",
    "\\end{bmatrix},\n",
    "M_{02}=\n",
    "\\begin{bmatrix}\n",
    "    0 & 1-\\lambda \\\\\n",
    "    0 & 1\n",
    "\\end{bmatrix}\n",
    "$$\n",
    "Substituting the $a_{0i}$ for the values given, we find\n",
    "$$= (2-\\lambda)det(M_{00})-0det(M_{01})+0det(M_{02})$$\n",
    "$$= (2-\\lambda)det(M_{00})$$\n",
    "$$= (2-\\lambda)((1-\\lambda)^2-1^2)$$\n",
    "Once reduced we find the characteristic polynomial\n",
    "$$p(\\lambda)= -\\lambda^3+4\\lambda^2-4\\lambda$$"
   ]
  },
  {
   "cell_type": "markdown",
   "id": "5e6abf4d",
   "metadata": {},
   "source": [
    "## (b)\n",
    "**Show that $0$ and $2$ are eigenvalues for $A$**"
   ]
  },
  {
   "cell_type": "markdown",
   "id": "a3e4c08b",
   "metadata": {},
   "source": [
    "Prop. 21.15 states that \n",
    "$$\\lambda\\ \\text{eigenvalue for A}\\iff det(A-\\lambda I_3) = p(\\lambda) = 0$$ "
   ]
  },
  {
   "cell_type": "code",
   "execution_count": 1,
   "id": "7d2f554c",
   "metadata": {},
   "outputs": [
    {
     "name": "stdout",
     "output_type": "stream",
     "text": [
      "p(0) =>  0.0\n",
      "p(2) =>  0.0\n"
     ]
    }
   ],
   "source": [
    "def p_of_A(lmda):\n",
    "    return -lmda**3 + 4. * lmda**2 - 4 * lmda\n",
    "\n",
    "print(\"p(0) => \", str(p_of_A(0)))\n",
    "print(\"p(2) => \", str(p_of_A(2)))"
   ]
  },
  {
   "cell_type": "markdown",
   "id": "4a124aa7",
   "metadata": {},
   "source": [
    "Therefore both $0$ and $2$ are eigenvalues for $A$"
   ]
  },
  {
   "cell_type": "markdown",
   "id": "44c9f39d",
   "metadata": {},
   "source": [
    "## (c)\n",
    "**Does $A$ have any other eigenvalues?**"
   ]
  },
  {
   "cell_type": "markdown",
   "id": "da13d499",
   "metadata": {},
   "source": [
    "Since $p(\\lambda)$ is a polynomial of degree 3, we know it can have at most 3 roots. Two of them are given, and if there are more, there can only be one left.\n",
    "Consider the plot of $p(\\lambda),\\ \\lambda\\in [-0.1, 2.2]$"
   ]
  },
  {
   "cell_type": "code",
   "execution_count": 2,
   "id": "e6d1edc6",
   "metadata": {},
   "outputs": [
    {
     "data": {
      "text/plain": [
       "[<matplotlib.lines.Line2D at 0x281b6f17b50>]"
      ]
     },
     "execution_count": 2,
     "metadata": {},
     "output_type": "execute_result"
    },
    {
     "data": {
      "image/png": "[encoded data removed]",
      "text/plain": [
       "<Figure size 432x288 with 1 Axes>"
      ]
     },
     "metadata": {
      "needs_background": "light"
     },
     "output_type": "display_data"
    }
   ],
   "source": [
    "import numpy as np\n",
    "import matplotlib.pyplot as plt\n",
    "x = np.linspace(-.1,2.2,50)\n",
    "fig, ax = plt.subplots()\n",
    "ax.axhline(0,color='black')\n",
    "ax.axvline(0,color='black')\n",
    "ax.set_aspect('equal')\n",
    "ax.plot(x, p_of_A(x))"
   ]
  },
  {
   "cell_type": "markdown",
   "id": "5b4047f3",
   "metadata": {},
   "source": [
    "Since $p(2)$ is at a peak, no more roots can be found, and therefore no more eigenvalues. The reason why this works, is because we can vertically shift the graph to find either $2$ roots on either side of $x=2$ or no roots (excluding $p(0)$), since it would be below. However if it is tangent to $y=2$, theres exactly one root at the peak of $p(2)$. We can double-check that this is correct by ensuring that $p(2)$ is actually tangent to $y=0$. We differentiate and check $p'(2)=0$ is true"
   ]
  },
  {
   "cell_type": "code",
   "execution_count": 3,
   "id": "0b7c6b71",
   "metadata": {},
   "outputs": [
    {
     "name": "stdout",
     "output_type": "stream",
     "text": [
      "p'(lmda) =>  0.0\n"
     ]
    }
   ],
   "source": [
    "def pdiff(lmda):\n",
    "    return - 3 * lmda ** 2 + 8. * lmda - 4\n",
    "\n",
    "print(\"p'(lmda) => \", pdiff(2))"
   ]
  },
  {
   "cell_type": "markdown",
   "id": "f73e0c05",
   "metadata": {},
   "source": [
    "Now we know that no more than 0 and 2 are eigenvalues."
   ]
  },
  {
   "cell_type": "markdown",
   "id": "19fe3650",
   "metadata": {},
   "source": [
    "## (d)\n",
    "**Compute a basis of $\\mathbb{R}^3$, consisting of eigenvectors for $A$**"
   ]
  },
  {
   "cell_type": "markdown",
   "id": "4b2a42cf",
   "metadata": {},
   "source": [
    "Lets find some eigenvectors.\n",
    "Since we know the eigenvalues we solve the system\n",
    "\n",
    "$$A-\\lambda I_3 = 0, \\ \\forall \\lambda\\in \\{0,2\\}$$\n",
    "\n",
    "Start with 0.\n",
    "$$\\begin{bmatrix}\n",
    "    2-0 & 0 & 0\\\\\n",
    "    0 & 1-0 & 1\\\\\n",
    "    0 & 1 & 1-0\n",
    "\\end{bmatrix}v = 0$$\n",
    "$$\\begin{bmatrix}\n",
    "    2 & 0 & 0\\\\\n",
    "    0 & 1 & 1\\\\\n",
    "    0 & 1 & 1\n",
    "\\end{bmatrix}v = 0$$\n",
    "\n",
    "from here we can see that a solution is $v_0=\\begin{bmatrix}\n",
    "    0 \\\\ 1 \\\\ -1\n",
    "\\end{bmatrix}$ or $v_1=\\begin{bmatrix}\n",
    "    0 \\\\ -1 \\\\ 1\n",
    "\\end{bmatrix}$ \n",
    "\n",
    "since def 21.1 states\n",
    "\n",
    "$Av=\\lambda v \\implies v\\ \\text{eigenvector for A with } \\lambda$\n",
    "\n",
    "And for $\\lambda = 0$ it should be obvious $0v = 0$, and we have just derived v from $Av=0$(because $A-0 I_3=A$). Therefore $v_0$ must be an eigenvector for $A$.\n",
    "\n",
    "We do the same for the eigenvalue $2$.\n",
    "\n",
    "$$\\begin{bmatrix}\n",
    "    2-2 & 0 & 0\\\\\n",
    "    0 & 1-2 & 1\\\\\n",
    "    0 & 1 & 1-2\n",
    "\\end{bmatrix}v = 0$$\n",
    "\n",
    "$$\\begin{bmatrix}\n",
    "    0 & 0 & 0\\\\\n",
    "    0 & -1 & 1\\\\\n",
    "    0 & 1 & -1\n",
    "\\end{bmatrix}v = 0$$\n",
    "\n",
    "Here we find the answer that $v \\in \\{ v = (x, y, z) : x\\in\\mathbb{R}\\land y=z \\land (x,y,z)\\neq 0\\}$\n",
    "\n",
    "For example we could pick $v_2=\\begin{bmatrix}\n",
    "    -1 \\\\ 1 \\\\ 1\n",
    "\\end{bmatrix}$ or $v_3=\\begin{bmatrix}\n",
    "    1 \\\\ 1 \\\\ 1\n",
    "\\end{bmatrix}$\n",
    "\n",
    "Let $v_1, v_2, v_3$ be the basis $\\begin{bmatrix}\n",
    "    0 \\\\ 1 \\\\ -1\n",
    "\\end{bmatrix},\n",
    "\\begin{bmatrix}\n",
    "    -1 \\\\ 1 \\\\ 1\n",
    "\\end{bmatrix},\n",
    "\\begin{bmatrix}\n",
    "    1 \\\\ 1 \\\\ 1\n",
    "\\end{bmatrix}$\n",
    "\n",
    "As we can see, they are linearly independent\n",
    "\n",
    "$$s_0\\begin{bmatrix}\n",
    "    0 \\\\ 1 \\\\ -1\n",
    "\\end{bmatrix}\n",
    "+s_1\\begin{bmatrix}\n",
    "    -1 \\\\ 1 \\\\ 1\n",
    "\\end{bmatrix}\n",
    "+s_2\\begin{bmatrix}\n",
    "    1 \\\\ 1 \\\\ 1\n",
    "\\end{bmatrix} = \\begin{bmatrix}\n",
    "    -s_1+s2 \\\\ s_0+s_1+s_2 \\\\ -s_0 + s_2 + s2\n",
    "\\end{bmatrix}$$\n",
    "\n",
    "We can see this by considering $s_0\\neq 0$\n",
    "$$s_0+s_1+s_2 = 0 \\land s_0\\neq 0 \\iff s_1+s_2 = - s_0$$\n",
    "$$\\implies -s_0 + s_2 + s2 = -s_0 - s_0 \\neq 0 \\text{ Contradiction. }$$\n",
    "\n",
    "Now consider $s_1\\neq 0$\n",
    "$$-s_1+s2 = 0 \\land s_1\\neq 0 \\iff s_2 = s_1$$\n",
    "$$\\implies s_0+s_1+s_2 \\iff s_0 = - (s_1 + s_2)$$\n",
    "$$\\implies -s_0+s_1+s_2 = -(-(s_1 + s_2)) + s_1 + s_2\\neq 0 \\text{ Contradiction. }$$\n",
    "\n",
    "Now consider $s_2\\neq 0$\n",
    "$$-s_1+s2 = 0 \\land s_1\\neq 0 \\iff s_1 = s_2$$\n",
    "$$\\implies s_0+s_1+s_2 \\iff s_0 = -(s_1 + s_2)$$\n",
    "$$\\implies -s_0+s_1+s_2 = -(-(s_1 + s_2)) + s_1 + s_2\\neq 0 \\text{ Contradiction. }$$"
   ]
  },
  {
   "cell_type": "markdown",
   "id": "2c189fa1",
   "metadata": {},
   "source": [
    "## (e)\n",
    "**Write $A=V\\Lambda V^-1$ for a suitable $V$ and diagonal $\\Lambda$.**"
   ]
  },
  {
   "cell_type": "markdown",
   "id": "c38bbd07",
   "metadata": {},
   "source": [
    "We will use the diagonal matrix $\\Lambda = diag(0, 2, 2)$ and $V = (v_1 | v_2 | v_3)$"
   ]
  },
  {
   "cell_type": "code",
   "execution_count": 4,
   "id": "dc8d9299",
   "metadata": {},
   "outputs": [
    {
     "data": {
      "text/plain": [
       "array([[2., 0., 0.],\n",
       "       [0., 1., 1.],\n",
       "       [0., 1., 1.]])"
      ]
     },
     "execution_count": 4,
     "metadata": {},
     "output_type": "execute_result"
    }
   ],
   "source": [
    "A = np.array([[2., 0., 0.], [0., 1., 1.], [0., 1., 1.]])\n",
    "V = np.array([[0., -1., 1.], [-1., 1., 1.], [1., 1., 1.]])\n",
    "Vi = np.linalg.inv(V)\n",
    "L = np.array([[0,0,0],[0,2,0],[0,0,2]])\n",
    "\n",
    "V @ L @ Vi"
   ]
  },
  {
   "cell_type": "markdown",
   "id": "2b378465",
   "metadata": {},
   "source": [
    "\n",
    "\n",
    "$\\ $\n",
    "$\\ $\n",
    "$\\ $\n",
    "$\\ $\n",
    "$\\ $\n",
    "$\\ $\n",
    "$$\\ $$\n",
    "$$\\ $$\n",
    "$$\\ $$\n",
    "$$\\ $$\n",
    "$$\\ $$\n",
    "\n",
    "\n",
    "## (f)\n",
    "**Use (e) to compute $A^k ,\\ \\forall k$**"
   ]
  },
  {
   "cell_type": "markdown",
   "id": "56714d7f",
   "metadata": {},
   "source": [
    "We can use the eigen vectors to compute it like so,\n",
    "$$A^k = V (2^k\\Lambda) V^{-1}$$"
   ]
  },
  {
   "cell_type": "code",
   "execution_count": 5,
   "id": "37ba7b6c",
   "metadata": {},
   "outputs": [
    {
     "name": "stdout",
     "output_type": "stream",
     "text": [
      "A^1 = \n",
      " [[2. 0. 0.]\n",
      " [0. 1. 1.]\n",
      " [0. 1. 1.]] \n",
      "\n",
      "A^2 = \n",
      " [[4. 0. 0.]\n",
      " [0. 2. 2.]\n",
      " [0. 2. 2.]] \n",
      "\n",
      "A^3 = \n",
      " [[8. 0. 0.]\n",
      " [0. 4. 4.]\n",
      " [0. 4. 4.]] \n",
      "\n",
      "A^4 = \n",
      " [[16.  0.  0.]\n",
      " [ 0.  8.  8.]\n",
      " [ 0.  8.  8.]] \n",
      "\n",
      "A^5 = \n",
      " [[32.  0.  0.]\n",
      " [ 0. 16. 16.]\n",
      " [ 0. 16. 16.]] \n",
      "\n",
      "A^6 = \n",
      " [[64.  0.  0.]\n",
      " [ 0. 32. 32.]\n",
      " [ 0. 32. 32.]] \n",
      "\n",
      "A^7 = \n",
      " [[128.   0.   0.]\n",
      " [  0.  64.  64.]\n",
      " [  0.  64.  64.]] \n",
      "\n",
      "A^8 = \n",
      " [[256.   0.   0.]\n",
      " [  0. 128. 128.]\n",
      " [  0. 128. 128.]] \n",
      "\n"
     ]
    }
   ],
   "source": [
    "k = 8\n",
    "for i in range(k):\n",
    "    print(\"A^\"+str(i+1) + \" = \\n\", V @ (2 ** i  * L) @ Vi,\"\\n\")"
   ]
  }
 ],
 "metadata": {
  "kernelspec": {
   "display_name": "Python 3 (ipykernel)",
   "language": "python",
   "name": "python3"
  },
  "language_info": {
   "codemirror_mode": {
    "name": "ipython",
    "version": 3
   },
   "file_extension": ".py",
   "mimetype": "text/x-python",
   "name": "python",
   "nbconvert_exporter": "python",
   "pygments_lexer": "ipython3",
   "version": "3.10.4"
  }
 },
 "nbformat": 4,
 "nbformat_minor": 5
}
