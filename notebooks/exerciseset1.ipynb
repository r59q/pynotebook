{
 "cells": [
  {
   "cell_type": "markdown",
   "id": "910c90e8",
   "metadata": {},
   "source": [
    "#### Proposition 1.1. For reelle tal 𝑎 og 𝑏 med 𝑎min ⩽ 𝑎 ⩽ 𝑎max og 𝑏min ⩽ 𝑏 ⩽ 𝑏𝑚𝑎𝑥 gælder\n",
    "    (a) 𝑎min + 𝑏min ⩽ 𝑎 + 𝑏 ⩽ 𝑎max + 𝑏max,\n",
    "    (b) 𝑎min − 𝑏max ⩽ 𝑎 − 𝑏 ⩽ 𝑎max − 𝑏min.\n",
    "    Hvis yderligere 𝑎min, 𝑏min > 0, så har vi\n",
    "    (c) 𝑎min𝑏min ⩽ 𝑎𝑏 ⩽ 𝑎max𝑏max,\n",
    "    (d) 𝑎min/𝑏max ⩽ 𝑎/𝑏 ⩽ 𝑎max/𝑏min. \n",
    "    \n",
    "\n",
    "#### Opgave 1.2. \n",
    "Ifølge google bor du 2,2 km fra universitet og dit fitness app fortæller at du går 6,2 km/h, som er ikke så langsomt. \n",
    "Hvor lang tid tager det dig til at komme hen til universitet? \n",
    "Giv maksimums- og minimumsværdier til én decimal"
   ]
  },
  {
   "cell_type": "code",
   "execution_count": 10,
   "id": "45dfc747",
   "metadata": {},
   "outputs": [
    {
     "name": "stdout",
     "output_type": "stream",
     "text": [
      "Distance in meters 2200.0\n",
      "Speed in M/s 1.7222222222222223\n"
     ]
    }
   ],
   "source": [
    "distInMeters = 2.2 * 1000\n",
    "speedInMetersPerSecond = ((6.2 / 60) / 60) * 1000\n",
    "\n",
    "print (\"Distance in meters \" + str(distInMeters))\n",
    "print (\"Speed in M/s \" + str(speedInMetersPerSecond))"
   ]
  },
  {
   "cell_type": "code",
   "execution_count": 4,
   "id": "cf291b46",
   "metadata": {},
   "outputs": [
    {
     "name": "stdout",
     "output_type": "stream",
     "text": [
      "21.29032258064516\n"
     ]
    }
   ],
   "source": [
    "timeInMinutes = (dist / speed)/60\n",
    "print(timeInMinutes)\n"
   ]
  },
  {
   "cell_type": "code",
   "execution_count": null,
   "id": "67c0d7ec",
   "metadata": {},
   "outputs": [],
   "source": []
  }
 ],
 "metadata": {
  "kernelspec": {
   "display_name": "Python 3 (ipykernel)",
   "language": "python",
   "name": "python3"
  },
  "language_info": {
   "codemirror_mode": {
    "name": "ipython",
    "version": 3
   },
   "file_extension": ".py",
   "mimetype": "text/x-python",
   "name": "python",
   "nbconvert_exporter": "python",
   "pygments_lexer": "ipython3",
   "version": "3.9.5"
  }
 },
 "nbformat": 4,
 "nbformat_minor": 5
}
