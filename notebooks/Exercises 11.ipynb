{
 "cells": [
  {
   "cell_type": "code",
   "execution_count": 1,
   "id": "2d2690fb",
   "metadata": {},
   "outputs": [],
   "source": [
    "import numpy as np\n",
    "import matplotlib.pyplot as plt"
   ]
  },
  {
   "cell_type": "markdown",
   "id": "1c1e814c",
   "metadata": {},
   "source": [
    "# Exercises 11\n",
    "## Opg 5"
   ]
  },
  {
   "cell_type": "code",
   "execution_count": 2,
   "id": "36cd7acd",
   "metadata": {},
   "outputs": [
    {
     "data": {
      "text/plain": [
       "-12.0"
      ]
     },
     "execution_count": 2,
     "metadata": {},
     "output_type": "execute_result"
    }
   ],
   "source": [
    "np.set_printoptions(suppress=True)\n",
    "A = np.array([[6,-3,2],[0, 2, 7], [0, 0, -1]])\n",
    "np.linalg.det(A)\n"
   ]
  },
  {
   "cell_type": "markdown",
   "id": "ca8c672b",
   "metadata": {},
   "source": [
    "$\\lambda_1 = 6, \\lambda_2 = 2, \\lambda_3 = -1$"
   ]
  },
  {
   "cell_type": "code",
   "execution_count": 18,
   "id": "4edae1be",
   "metadata": {},
   "outputs": [],
   "source": [
    "l1 = 6\n",
    "l2 = 2\n",
    "l3 = -1"
   ]
  },
  {
   "cell_type": "code",
   "execution_count": 31,
   "id": "854bdb9b",
   "metadata": {},
   "outputs": [
    {
     "name": "stdout",
     "output_type": "stream",
     "text": [
      "[[ 0. -3.  2.]\n",
      " [ 0. -4.  7.]\n",
      " [ 0.  0. -7.]] \n",
      "\n",
      "[[-0.          1.         -0.66666667]\n",
      " [ 0.         -4.          7.        ]\n",
      " [ 0.          0.         -7.        ]] \n",
      "\n",
      "[[-0.          1.         -0.66666667]\n",
      " [ 0.          0.          4.33333333]\n",
      " [ 0.          0.         -7.        ]] \n",
      "\n",
      "[[-0.          1.         -0.66666667]\n",
      " [ 0.          0.          4.33333333]\n",
      " [ 0.          0.          0.        ]] \n",
      "\n"
     ]
    }
   ],
   "source": [
    "Al1I = A - l1 * np.eye(3)\n",
    "print(Al1I, \"\\n\")\n",
    "\n",
    "Al1I[0, :] = -(1/3)*Al1I[0, :] \n",
    "print(Al1I, \"\\n\")\n",
    "\n",
    "Al1I[1, :] += 4 * Al1I[0, :] \n",
    "print(Al1I, \"\\n\")\n",
    "\n",
    "Al1I[2, :] += (7/Al1I[1, :][2]) * Al1I[1, :] \n",
    "print(Al1I, \"\\n\")"
   ]
  },
  {
   "cell_type": "code",
   "execution_count": null,
   "id": "c46d1529",
   "metadata": {},
   "outputs": [],
   "source": []
  },
  {
   "cell_type": "code",
   "execution_count": null,
   "id": "b2f0b7f5",
   "metadata": {},
   "outputs": [],
   "source": []
  }
 ],
 "metadata": {
  "kernelspec": {
   "display_name": "Python 3 (ipykernel)",
   "language": "python",
   "name": "python3"
  },
  "language_info": {
   "codemirror_mode": {
    "name": "ipython",
    "version": 3
   },
   "file_extension": ".py",
   "mimetype": "text/x-python",
   "name": "python",
   "nbconvert_exporter": "python",
   "pygments_lexer": "ipython3",
   "version": "3.10.4"
  }
 },
 "nbformat": 4,
 "nbformat_minor": 5
}
