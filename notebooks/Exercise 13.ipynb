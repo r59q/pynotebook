{
 "cells": [
  {
   "cell_type": "code",
   "execution_count": 1,
   "id": "c0610b7a",
   "metadata": {},
   "outputs": [],
   "source": [
    "import numpy as np\n",
    "rand = np.random.default_rng()\n"
   ]
  },
  {
   "cell_type": "markdown",
   "id": "dc852e40",
   "metadata": {},
   "source": [
    "# Exercises 13\n",
    "\n"
   ]
  },
  {
   "cell_type": "markdown",
   "id": "36277d18",
   "metadata": {},
   "source": [
    "## 13.1\n"
   ]
  },
  {
   "cell_type": "code",
   "execution_count": 2,
   "id": "6436b027",
   "metadata": {},
   "outputs": [
    {
     "data": {
      "text/plain": [
       "array([[0., 1., 0., 1., 0., 0., 0., 0., 0., 0.],\n",
       "       [1., 0., 1., 1., 0., 0., 0., 0., 0., 0.],\n",
       "       [0., 1., 0., 1., 1., 0., 0., 0., 0., 0.],\n",
       "       [1., 1., 1., 0., 0., 0., 1., 0., 0., 0.],\n",
       "       [0., 0., 1., 0., 0., 1., 0., 0., 0., 1.],\n",
       "       [0., 0., 0., 0., 1., 0., 1., 0., 1., 1.],\n",
       "       [0., 0., 0., 1., 0., 1., 0., 0., 0., 0.],\n",
       "       [0., 0., 0., 0., 0., 0., 0., 0., 1., 0.],\n",
       "       [0., 0., 0., 0., 0., 1., 0., 1., 0., 1.],\n",
       "       [0., 0., 0., 0., 1., 1., 0., 0., 1., 0.]])"
      ]
     },
     "execution_count": 2,
     "metadata": {},
     "output_type": "execute_result"
    }
   ],
   "source": [
    "A = np.zeros((10,10))\n",
    "\n",
    "def set_con(M, i, j):\n",
    "    M[i, j] = 1\n",
    "    M[j, i] = 1\n",
    "    return M\n",
    "\n",
    "A = set_con(A, 0,1)\n",
    "A = set_con(A, 0,3)\n",
    "A = set_con(A, 1,3)\n",
    "A = set_con(A, 1,2)\n",
    "A = set_con(A, 2,3)\n",
    "A = set_con(A, 3,6)\n",
    "A = set_con(A, 4,2)\n",
    "A = set_con(A, 4,5)\n",
    "A = set_con(A, 4,9)\n",
    "A = set_con(A, 5,6)\n",
    "A = set_con(A, 5,8)\n",
    "A = set_con(A, 5,9)\n",
    "A = set_con(A, 7,8)\n",
    "A = set_con(A, 8,9)\n",
    "A"
   ]
  },
  {
   "cell_type": "code",
   "execution_count": 3,
   "id": "988b71b0",
   "metadata": {},
   "outputs": [],
   "source": [
    "def potens_skridt(M, w):\n",
    "    v = A @ w\n",
    "    v /= np.linalg.norm(v)\n",
    "    lambda_ny = np.vdot(v, A @ v)\n",
    "    return lambda_ny, v\n",
    "\n",
    "m, _ = A.shape\n",
    "\n",
    "w = rand.standard_normal((m,1))\n"
   ]
  },
  {
   "cell_type": "code",
   "execution_count": 4,
   "id": "e8fb6178",
   "metadata": {},
   "outputs": [
    {
     "name": "stdout",
     "output_type": "stream",
     "text": [
      "[1.47468411 2.62401371 2.90040341 2.97606576 3.00617895 3.0207645\n",
      " 3.02844886 3.03270279 3.03515069 3.03660571 3.03749372 3.03804698\n",
      " 3.03839707 3.03862113 3.03876569 3.0388595  3.03892061 3.03896054\n",
      " 3.03898667 3.0390038  3.03901504 3.03902242 3.03902726 3.03903044\n",
      " 3.03903253 3.03903391 3.03903481 3.0390354  3.03903579 3.03903605\n",
      " 3.03903622 3.03903633 3.0390364  3.03903645 3.03903648 3.0390365\n",
      " 3.03903652 3.03903652 3.03903653 3.03903653 3.03903654 3.03903654\n",
      " 3.03903654 3.03903654 3.03903654 3.03903654 3.03903654 3.03903654\n",
      " 3.03903654 3.03903654 3.03903654 3.03903654 3.03903654 3.03903654\n",
      " 3.03903654 3.03903654 3.03903654 3.03903654 3.03903654 3.03903654\n",
      " 3.03903654 3.03903654 3.03903654 3.03903654 3.03903654 3.03903654\n",
      " 3.03903654 3.03903654 3.03903654 3.03903654 3.03903654 3.03903654\n",
      " 3.03903654 3.03903654 3.03903654 3.03903654 3.03903654 3.03903654\n",
      " 3.03903654 3.03903654 3.03903654 3.03903654 3.03903654 3.03903654\n",
      " 3.03903654 3.03903654 3.03903654 3.03903654 3.03903654 3.03903654\n",
      " 3.03903654 3.03903654 3.03903654 3.03903654 3.03903654 3.03903654\n",
      " 3.03903654 3.03903654 3.03903654 3.03903654]\n"
     ]
    }
   ],
   "source": [
    "n = 100\n",
    "lambda_out = np.zeros(n)\n",
    "for k in range(n):\n",
    "    lambda_out[k], w = potens_skridt(A, w)\n",
    "print(lambda_out)"
   ]
  },
  {
   "cell_type": "code",
   "execution_count": 5,
   "id": "d484d0ba",
   "metadata": {},
   "outputs": [
    {
     "name": "stdout",
     "output_type": "stream",
     "text": [
      "Sidste lambda ganget på w :\n",
      "[[-0.69422138]\n",
      " [-0.95668213]\n",
      " [-1.06008855]\n",
      " [-1.15308201]\n",
      " [-1.11188371]\n",
      " [-1.25768328]\n",
      " [-0.79326631]\n",
      " [-0.28157346]\n",
      " [-0.85571204]\n",
      " [-1.0612834 ]]\n",
      "Tæt inden for machine epsilon?\n",
      "True\n"
     ]
    }
   ],
   "source": [
    "print('Sidste lambda ganget på w :')\n",
    "print(lambda_out[-1] * w)\n",
    "print('Tæt inden for machine epsilon?')\n",
    "print(np.allclose(A @ w, lambda_out[-1] * w,\n",
    "atol = np.finfo(float).eps))"
   ]
  },
  {
   "cell_type": "code",
   "execution_count": null,
   "id": "a565760e",
   "metadata": {},
   "outputs": [],
   "source": []
  },
  {
   "cell_type": "markdown",
   "id": "fe02e174",
   "metadata": {},
   "source": [
    "## 13.2\n"
   ]
  },
  {
   "cell_type": "code",
   "execution_count": null,
   "id": "88f583cf",
   "metadata": {},
   "outputs": [],
   "source": []
  },
  {
   "cell_type": "markdown",
   "id": "0dfe5b95",
   "metadata": {},
   "source": [
    "## 13.3\n"
   ]
  },
  {
   "cell_type": "code",
   "execution_count": null,
   "id": "461345c8",
   "metadata": {},
   "outputs": [],
   "source": []
  },
  {
   "cell_type": "markdown",
   "id": "84ae4069",
   "metadata": {},
   "source": [
    "## 13.4\n",
    "\n",
    "Lad $A\\in \\mathbb{R}^{n\\times n}$ være symmetrisk. $A$ er *positiv definit* hvis $v^TAv >0,\\  \\forall v \\in \\mathbb{R}^n,\\ v\\neq 0$"
   ]
  },
  {
   "cell_type": "markdown",
   "id": "bf952484",
   "metadata": {},
   "source": [
    "(a)\n",
    "Vis at $A$ er *positiv definit* hvis og kun hvis alle egenværdier $\\lambda$ for $A$ opfylder $\\lambda>0$"
   ]
  },
  {
   "cell_type": "markdown",
   "id": "83773540",
   "metadata": {},
   "source": [
    "(b)\n",
    "Vis dermed at for positiv definit A er $<u, v>:=u^TAv$ et indre produkt på $\\mathbb{R}^n$"
   ]
  },
  {
   "cell_type": "code",
   "execution_count": null,
   "id": "01ed7145",
   "metadata": {},
   "outputs": [],
   "source": [
    "A = rand.integers(0,10,(4,4))\n",
    "A+= A.T\n",
    "A"
   ]
  },
  {
   "cell_type": "code",
   "execution_count": null,
   "id": "1d841c51",
   "metadata": {},
   "outputs": [],
   "source": [
    "np.linalg.eig(A)"
   ]
  }
 ],
 "metadata": {
  "kernelspec": {
   "display_name": "Python 3 (ipykernel)",
   "language": "python",
   "name": "python3"
  },
  "language_info": {
   "codemirror_mode": {
    "name": "ipython",
    "version": 3
   },
   "file_extension": ".py",
   "mimetype": "text/x-python",
   "name": "python",
   "nbconvert_exporter": "python",
   "pygments_lexer": "ipython3",
   "version": "3.10.4"
  }
 },
 "nbformat": 4,
 "nbformat_minor": 5
}
