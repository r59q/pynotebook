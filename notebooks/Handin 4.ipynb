{
 "cells": [
  {
   "cell_type": "markdown",
   "id": "5115299e",
   "metadata": {},
   "source": [
    "# Handin 4\n",
    "   ### Andreas Malthe Henriksen ( 202004107 )"
   ]
  },
  {
   "cell_type": "markdown",
   "id": "2b59ea67",
   "metadata": {},
   "source": [
    "Behold the vectors\n",
    "\n",
    "$$\n",
    "v_0=\\begin{bmatrix}\n",
    "1 \\\\ -1 \\\\ 1 \\\\ -1\n",
    "\\end{bmatrix}\n",
    ",\n",
    "v_1=\\begin{bmatrix}\n",
    "1 \\\\ 1 \\\\ 1 \\\\ 1\n",
    "\\end{bmatrix}\n",
    ",\n",
    "v_2=\\begin{bmatrix}\n",
    "2 \\\\ 0 \\\\ -2 \\\\ 0\n",
    "\\end{bmatrix}\n",
    "$$"
   ]
  },
  {
   "cell_type": "markdown",
   "id": "223e4fab",
   "metadata": {},
   "source": [
    "### (a) Create the Gram matrix and confirm the set of vectors are orthagonal"
   ]
  },
  {
   "cell_type": "markdown",
   "id": "6c1f9ce4",
   "metadata": {},
   "source": [
    "First I will represent the vectors in python"
   ]
  },
  {
   "cell_type": "code",
   "execution_count": 1,
   "id": "c1619b21",
   "metadata": {
    "scrolled": true
   },
   "outputs": [],
   "source": [
    "import numpy as np\n",
    "\n",
    "v0 = np.array([1., -1.,  1., -1.])\n",
    "v1 = np.array([1.,  1.,  1.,  1.])\n",
    "v2 = np.array([2.,  0., -2.,  0.])"
   ]
  },
  {
   "cell_type": "markdown",
   "id": "5381fdc2",
   "metadata": {},
   "source": [
    "Then we will create a matrix $V$ of these vectors"
   ]
  },
  {
   "cell_type": "code",
   "execution_count": 2,
   "id": "9a4e0345",
   "metadata": {},
   "outputs": [
    {
     "name": "stdout",
     "output_type": "stream",
     "text": [
      "Vector matrix V\n",
      "[[ 1.  1.  2.]\n",
      " [-1.  1.  0.]\n",
      " [ 1.  1. -2.]\n",
      " [-1.  1.  0.]]\n"
     ]
    }
   ],
   "source": [
    "V = np.array([v0,v1,v2]).T # transpose it to keep vectors in columns\n",
    "print(\"Vector matrix V\")\n",
    "print(V)"
   ]
  },
  {
   "cell_type": "markdown",
   "id": "62cd606d",
   "metadata": {},
   "source": [
    "The Gram matrix is then\n",
    "$$G = V^TV$$\n",
    "Which we can find in python like so"
   ]
  },
  {
   "cell_type": "code",
   "execution_count": 3,
   "id": "48ed73de",
   "metadata": {},
   "outputs": [
    {
     "name": "stdout",
     "output_type": "stream",
     "text": [
      "The gram matrix, G\n",
      "[[4. 0. 0.]\n",
      " [0. 4. 0.]\n",
      " [0. 0. 8.]]\n"
     ]
    }
   ],
   "source": [
    "G = V.T@V\n",
    "print(\"The gram matrix, G\")\n",
    "print(G)"
   ]
  },
  {
   "cell_type": "markdown",
   "id": "8654f1e6",
   "metadata": {},
   "source": [
    "To check orthogonality between the vectors we will do the following assertions\n",
    "\n",
    "$$v \\cdot u =0,\\ \\ \\forall v, u \\in \\{v_0,v_1,v_2\\} \\land v\\neq u$$"
   ]
  },
  {
   "cell_type": "code",
   "execution_count": 4,
   "id": "f556229f",
   "metadata": {},
   "outputs": [],
   "source": [
    "assert v0.dot(v1) == 0.\n",
    "assert v0.dot(v2) == 0.\n",
    "assert v1.dot(v0) == 0.\n",
    "assert v1.dot(v2) == 0.\n",
    "assert v2.dot(v0) == 0.\n",
    "assert v2.dot(v1) == 0."
   ]
  },
  {
   "cell_type": "markdown",
   "id": "8efcd4fd",
   "metadata": {},
   "source": [
    "Since none of the assertions raises any error, all of the vectors must be orthagonal"
   ]
  },
  {
   "cell_type": "markdown",
   "id": "58ba4536",
   "metadata": {},
   "source": [
    "### (b) Make the projection along $v_0,v_1,v_2$ with\n",
    "\n",
    "$$Px=\\begin{bmatrix}3.0\\\\ 2.0 \\\\ 1.0 \\\\ 0.0\\end{bmatrix}$$"
   ]
  },
  {
   "cell_type": "markdown",
   "id": "bf19844e",
   "metadata": {},
   "source": [
    "The projection we will define as \n",
    "$$Pr_x=\\frac{Px\\cdot v_x}{||v_x||^2_2}v_x$$\n",
    "The following snippet will be a function that will take $Px$ and project it along a vector $v_x$"
   ]
  },
  {
   "cell_type": "code",
   "execution_count": 11,
   "id": "86add39f",
   "metadata": {},
   "outputs": [],
   "source": [
    "def project(vx):\n",
    "    Px = np.array([3., 2., 1., 0.])\n",
    "    vxLen = np.linalg.norm(vx)\n",
    "    return (Px.dot(vx) / vxLen**2) * vx"
   ]
  },
  {
   "cell_type": "markdown",
   "id": "dbe8cf45",
   "metadata": {},
   "source": [
    "Now we will use it on each of the vectors to compute the projection"
   ]
  },
  {
   "cell_type": "code",
   "execution_count": 14,
   "id": "18913667",
   "metadata": {},
   "outputs": [
    {
     "name": "stdout",
     "output_type": "stream",
     "text": [
      "Projection along v0\n",
      "[ 0.5 -0.5  0.5 -0.5] \n",
      "\n",
      "Projection along v1\n",
      "[1.5 1.5 1.5 1.5] \n",
      "\n",
      "Projection along v2\n",
      "[ 1.  0. -1.  0.] \n",
      "\n"
     ]
    }
   ],
   "source": [
    "Pr0 = project(v0)\n",
    "Pr1 = project(v1)\n",
    "Pr2 = project(v2)\n",
    "\n",
    "print(\"Projection along v0\")\n",
    "print(Pr0,\"\\n\")\n",
    "\n",
    "print(\"Projection along v1\")\n",
    "print(Pr1,\"\\n\")\n",
    "\n",
    "print(\"Projection along v2\")\n",
    "print(Pr2,\"\\n\")"
   ]
  },
  {
   "cell_type": "code",
   "execution_count": null,
   "id": "d5ad9786",
   "metadata": {},
   "outputs": [],
   "source": []
  }
 ],
 "metadata": {
  "kernelspec": {
   "display_name": "Python 3 (ipykernel)",
   "language": "python",
   "name": "python3"
  },
  "language_info": {
   "codemirror_mode": {
    "name": "ipython",
    "version": 3
   },
   "file_extension": ".py",
   "mimetype": "text/x-python",
   "name": "python",
   "nbconvert_exporter": "python",
   "pygments_lexer": "ipython3",
   "version": "3.10.2"
  }
 },
 "nbformat": 4,
 "nbformat_minor": 5
}
