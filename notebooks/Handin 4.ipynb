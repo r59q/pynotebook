{
 "cells": [
  {
   "cell_type": "markdown",
   "id": "5115299e",
   "metadata": {},
   "source": [
    "# Handin 4\n",
    "   ### Andreas Malthe Henriksen ( 202004107 )"
   ]
  },
  {
   "cell_type": "markdown",
   "id": "2b59ea67",
   "metadata": {},
   "source": [
    "Behold the vectors\n",
    "\n",
    "$$\n",
    "v_0=\\begin{bmatrix}\n",
    "1 \\\\ -1 \\\\ 1 \\\\ -1\n",
    "\\end{bmatrix}\n",
    ",\n",
    "v_1=\\begin{bmatrix}\n",
    "1 \\\\ 1 \\\\ 1 \\\\ 1\n",
    "\\end{bmatrix}\n",
    ",\n",
    "v_2=\\begin{bmatrix}\n",
    "2 \\\\ 0 \\\\ -2 \\\\ 0\n",
    "\\end{bmatrix}\n",
    "$$"
   ]
  },
  {
   "cell_type": "markdown",
   "id": "223e4fab",
   "metadata": {},
   "source": [
    "### (a) Create the Gram matrix and confirm the set of vectors are orthagonal"
   ]
  },
  {
   "cell_type": "markdown",
   "id": "6c1f9ce4",
   "metadata": {},
   "source": [
    "First I will represent the vectors in python"
   ]
  },
  {
   "cell_type": "code",
   "execution_count": 1,
   "id": "c1619b21",
   "metadata": {
    "scrolled": true
   },
   "outputs": [],
   "source": [
    "import numpy as np\n",
    "\n",
    "v0 = np.array([1., -1.,  1., -1.])\n",
    "v1 = np.array([1.,  1.,  1.,  1.])\n",
    "v2 = np.array([2.,  0., -2.,  0.])"
   ]
  },
  {
   "cell_type": "markdown",
   "id": "5381fdc2",
   "metadata": {},
   "source": [
    "Then we will create a matrix $V$ of these vectors"
   ]
  },
  {
   "cell_type": "code",
   "execution_count": 2,
   "id": "9a4e0345",
   "metadata": {},
   "outputs": [
    {
     "name": "stdout",
     "output_type": "stream",
     "text": [
      "Vector matrix V\n",
      "[[ 1.  1.  2.]\n",
      " [-1.  1.  0.]\n",
      " [ 1.  1. -2.]\n",
      " [-1.  1.  0.]]\n"
     ]
    }
   ],
   "source": [
    "V = np.array([v0, v1, v2]).T # transpose it to keep vectors in columns\n",
    "print(\"Vector matrix V\")\n",
    "print(V)"
   ]
  },
  {
   "cell_type": "markdown",
   "id": "62cd606d",
   "metadata": {},
   "source": [
    "The Gram matrix is then\n",
    "$$G = V^TV$$\n",
    "Which we can find in python like so"
   ]
  },
  {
   "cell_type": "code",
   "execution_count": 3,
   "id": "48ed73de",
   "metadata": {},
   "outputs": [
    {
     "name": "stdout",
     "output_type": "stream",
     "text": [
      "The gram matrix, G\n",
      "[[4. 0. 0.]\n",
      " [0. 4. 0.]\n",
      " [0. 0. 8.]]\n"
     ]
    }
   ],
   "source": [
    "G = V.T@V\n",
    "print(\"The gram matrix, G\")\n",
    "print(G)"
   ]
  },
  {
   "cell_type": "markdown",
   "id": "8654f1e6",
   "metadata": {},
   "source": [
    "To check orthogonality between the vectors we will do the following assertions\n",
    "\n",
    "$$v \\cdot u =0,\\ \\ \\forall v, u \\in \\{v_0,v_1,v_2\\} \\land v\\neq u$$"
   ]
  },
  {
   "cell_type": "code",
   "execution_count": 4,
   "id": "f556229f",
   "metadata": {},
   "outputs": [],
   "source": [
    "assert v0.dot(v1) == 0.\n",
    "assert v0.dot(v2) == 0.\n",
    "assert v1.dot(v0) == 0.\n",
    "assert v1.dot(v2) == 0.\n",
    "assert v2.dot(v0) == 0.\n",
    "assert v2.dot(v1) == 0."
   ]
  },
  {
   "cell_type": "markdown",
   "id": "8efcd4fd",
   "metadata": {},
   "source": [
    "Since none of the assertions raises any error, all of the vectors must be orthagonal"
   ]
  },
  {
   "cell_type": "markdown",
   "id": "58ba4536",
   "metadata": {},
   "source": [
    "### (b) Make the projection along $v_0,v_1,v_2$ with\n",
    "\n",
    "$$x=\\begin{bmatrix}3.0\\\\ 2.0 \\\\ 1.0 \\\\ 0.0\\end{bmatrix}$$"
   ]
  },
  {
   "cell_type": "markdown",
   "id": "bf19844e",
   "metadata": {},
   "source": [
    "The projection we will define as $Px$ where $P$ is the matrix\n",
    "$$P=\\sum_{v\\ \\in\\ S}\\frac{1}{||v||_2^2}vv^T$$\n",
    "and where $S$ is the set of vectors \n",
    "\n",
    "The following snippet will define $x$ and a function that calculates P from a set of vectors $S$."
   ]
  },
  {
   "cell_type": "code",
   "execution_count": 5,
   "id": "86add39f",
   "metadata": {},
   "outputs": [],
   "source": [
    "np.set_printoptions(suppress=True)\n",
    "x = np.array([3., 2., 1., 0.])\n",
    "\n",
    "def P(S, i = 0, acc = 0.):\n",
    "    if (S.shape[1] <= i): \n",
    "        return acc # Finished, out of bounds, return the result\n",
    "    \n",
    "    # The current vector and its length vLen squared\n",
    "    v = S[:, i][:, np.newaxis]\n",
    "    vLenSq = np.linalg.norm(v)**2\n",
    "    # Compute the partial sum\n",
    "    Pv = (1./vLenSq) * (v @ v.T) \n",
    "    return P(S, i + 1, acc + Pv) # Recur and accumulate"
   ]
  },
  {
   "cell_type": "markdown",
   "id": "0ba6f67f",
   "metadata": {},
   "source": [
    "We will now use the function $P(S)$ to generate the matrix $P$ and compute the projection $Px$"
   ]
  },
  {
   "cell_type": "code",
   "execution_count": 6,
   "id": "5be8a40b",
   "metadata": {},
   "outputs": [
    {
     "name": "stdout",
     "output_type": "stream",
     "text": [
      "The matrix P generated from the vector matrix V\n",
      "[[1.  0.  0.  0. ]\n",
      " [0.  0.5 0.  0.5]\n",
      " [0.  0.  1.  0. ]\n",
      " [0.  0.5 0.  0.5]] \n",
      "\n",
      "The projection Px\n",
      "[3. 1. 1. 1.]\n"
     ]
    }
   ],
   "source": [
    "P = P(V)\n",
    "Px = P@x\n",
    "\n",
    "print(\"The matrix P generated from the vector matrix V\")\n",
    "print(P, \"\\n\")\n",
    "\n",
    "print(\"The projection Px\")\n",
    "print(Px)"
   ]
  },
  {
   "cell_type": "markdown",
   "id": "b5e7cfb5",
   "metadata": {},
   "source": [
    "### (c) Confirm that $v_3=x-Px$ is orthagonal to $v_0, v_1, v_2$\n",
    "\n",
    "First lets define $v_3$"
   ]
  },
  {
   "cell_type": "code",
   "execution_count": 7,
   "id": "3a592fe2",
   "metadata": {},
   "outputs": [
    {
     "name": "stdout",
     "output_type": "stream",
     "text": [
      "v3\n",
      "[ 4.44089210e-16  1.00000000e+00 -2.22044605e-16 -1.00000000e+00]\n"
     ]
    }
   ],
   "source": [
    "np.set_printoptions(suppress=False)\n",
    "v3 = x - Px\n",
    "print(\"v3\")\n",
    "print(v3)"
   ]
  },
  {
   "cell_type": "markdown",
   "id": "504eeb2f",
   "metadata": {},
   "source": [
    "As before we assert that the dot product is $0$, or at least less than the machine error"
   ]
  },
  {
   "cell_type": "code",
   "execution_count": 8,
   "id": "4006772f",
   "metadata": {},
   "outputs": [],
   "source": [
    "meps = np.finfo(float).eps\n",
    "\n",
    "assert v3.dot(v0) <= meps\n",
    "assert v3.dot(v1) <= meps\n",
    "#assert v3.dot(v2) <= meps fails!"
   ]
  },
  {
   "cell_type": "markdown",
   "id": "395e4b30",
   "metadata": {},
   "source": [
    "Although a the python method fails to produce a 0 as the dot product, we can easily confirm this by hand as\n",
    "\n",
    "$$v_3 \\cdot v_2 = v_3v_2^T = 0\\cdot 2 + 1\\cdot 0 + 0\\cdot -2 + -1\\cdot 0 = 0$$\n",
    "\n",
    "Where any value at or under $\\epsilon_{machine}$ will be considered to be 0, which here most notably is $v_3$ third entry."
   ]
  },
  {
   "cell_type": "code",
   "execution_count": 9,
   "id": "d4d2d161",
   "metadata": {},
   "outputs": [
    {
     "name": "stdout",
     "output_type": "stream",
     "text": [
      "Machine Epsilon =  2.220446049250313e-16\n",
      "v3[2] =           -2.220446049250313e-16\n"
     ]
    }
   ],
   "source": [
    "print(\"Machine Epsilon = \", meps)\n",
    "print(\"v3[2] =          \", v3[2])"
   ]
  },
  {
   "cell_type": "markdown",
   "id": "00270ccc",
   "metadata": {},
   "source": [
    "Therefore I will consider $v_3$ to be orthagonal to $v_0,v_1,v_2$"
   ]
  },
  {
   "cell_type": "markdown",
   "id": "175874a6",
   "metadata": {},
   "source": [
    "### (d) Use the vectors to define a orthonormal basis for $\\mathbb{R}^4$"
   ]
  },
  {
   "cell_type": "markdown",
   "id": "07037fd6",
   "metadata": {},
   "source": [
    "Here i will define the basis B as \n",
    "$$B = \\begin{bmatrix}v_0(\\frac{1}{||v_0||_2})\\ |\\ v_1(\\frac{1}{||v_1||_2})\\  |\\ v_2(\\frac{1}{||v_2||_2})\\ |\\ v_3(\\frac{1}{||v_3||_2})\\end{bmatrix}$$"
   ]
  },
  {
   "cell_type": "code",
   "execution_count": 10,
   "id": "d5b65938",
   "metadata": {},
   "outputs": [],
   "source": [
    "v0Len = np.linalg.norm(v0)\n",
    "v1Len = np.linalg.norm(v1)\n",
    "v2Len = np.linalg.norm(v2)\n",
    "v3Len = np.linalg.norm(v3)\n",
    "\n",
    "B = np.array([v0*(1/v0Len),v1*(1/v1Len),v2*(1/v2Len),v3*(1/v3Len)]).T"
   ]
  },
  {
   "cell_type": "code",
   "execution_count": 11,
   "id": "0d2f42e3",
   "metadata": {},
   "outputs": [
    {
     "name": "stdout",
     "output_type": "stream",
     "text": [
      "[[1.00000000e+00 0.00000000e+00 0.00000000e+00 1.11022302e-16]\n",
      " [0.00000000e+00 1.00000000e+00 0.00000000e+00 1.11022302e-16]\n",
      " [0.00000000e+00 0.00000000e+00 1.00000000e+00 3.33066907e-16]\n",
      " [1.11022302e-16 1.11022302e-16 3.33066907e-16 1.00000000e+00]]\n",
      "Print with suppressed notation\n",
      "[[1. 0. 0. 0.]\n",
      " [0. 1. 0. 0.]\n",
      " [0. 0. 1. 0.]\n",
      " [0. 0. 0. 1.]]\n"
     ]
    }
   ],
   "source": [
    "print(B.T@B)\n",
    "np.set_printoptions(suppress=True)\n",
    "print(\"Print with suppressed notation\")\n",
    "print(B.T@B)"
   ]
  },
  {
   "cell_type": "markdown",
   "id": "6683a1ca",
   "metadata": {},
   "source": [
    "Since all the non-0 entries are either very close to epsilon or 1. I will consider the matrix B to be a basis orthonormal basis for $\\mathbb{R}^4$.\n",
    "\n",
    "The reasoning being, that a orthonormal collection in $\\mathbb{R}^4$ with exactly 4 vectors is a orthonormal basis for $\\mathbb{R}^4$. Since a collection of vectors are orthonormal if and only if the Grammian, $B^TB$, is equal to the identity matrix, the matrix $B$ must be a orthonormal basis."
   ]
  }
 ],
 "metadata": {
  "kernelspec": {
   "display_name": "Python 3 (ipykernel)",
   "language": "python",
   "name": "python3"
  },
  "language_info": {
   "codemirror_mode": {
    "name": "ipython",
    "version": 3
   },
   "file_extension": ".py",
   "mimetype": "text/x-python",
   "name": "python",
   "nbconvert_exporter": "python",
   "pygments_lexer": "ipython3",
   "version": "3.10.2"
  }
 },
 "nbformat": 4,
 "nbformat_minor": 5
}
