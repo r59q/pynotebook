{
 "cells": [
  {
   "cell_type": "markdown",
   "id": "a031fed0",
   "metadata": {},
   "source": [
    "Flydende komma tal (floating point numbers)\n",
    "\n",
    "     1,63901 * 10^2    i Python er = 1.63901e2\n",
    "    -2.70462 * 10^(-3) i Python er = -2.70462e-3"
   ]
  },
  {
   "cell_type": "code",
   "execution_count": 2,
   "id": "caee8f6e",
   "metadata": {},
   "outputs": [
    {
     "name": "stdout",
     "output_type": "stream",
     "text": [
      "163.901\n",
      "-0.00270462\n"
     ]
    }
   ],
   "source": [
    "print(1.63901e2)\n",
    "print(-2.70462e-3)"
   ]
  },
  {
   "cell_type": "code",
   "execution_count": 3,
   "id": "6a6740ef",
   "metadata": {},
   "outputs": [
    {
     "data": {
      "text/plain": [
       "-9"
      ]
     },
     "execution_count": 3,
     "metadata": {},
     "output_type": "execute_result"
    }
   ],
   "source": [
    "10^(-3)"
   ]
  },
  {
   "cell_type": "code",
   "execution_count": null,
   "id": "0f4ff5de",
   "metadata": {},
   "outputs": [],
   "source": []
  }
 ],
 "metadata": {
  "kernelspec": {
   "display_name": "Python 3 (ipykernel)",
   "language": "python",
   "name": "python3"
  },
  "language_info": {
   "codemirror_mode": {
    "name": "ipython",
    "version": 3
   },
   "file_extension": ".py",
   "mimetype": "text/x-python",
   "name": "python",
   "nbconvert_exporter": "python",
   "pygments_lexer": "ipython3",
   "version": "3.9.5"
  }
 },
 "nbformat": 4,
 "nbformat_minor": 5
}
