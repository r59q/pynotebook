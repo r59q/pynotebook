{
 "cells": [
  {
   "cell_type": "markdown",
   "id": "af2f31c1",
   "metadata": {},
   "source": [
    "# Flydende komma tal (floating point numbers)\n",
    "\n",
    "Fastlagt af IEEE (Institute of Electrical and Electronics Engineers)\n",
    "\n",
    "     1,63901 * 10^2    i Python er = 1.63901e2\n",
    "    -2.70462 * 10^(-3) i Python er = -2.70462e-3\n",
    "    \n",
    "     x = +-m*10^k\n",
    "        k er exponenten\n",
    "        m er mantissen"
   ]
  },
  {
   "cell_type": "code",
   "execution_count": 15,
   "id": "d88ff9bb",
   "metadata": {},
   "outputs": [
    {
     "name": "stdout",
     "output_type": "stream",
     "text": [
      "163.901\n",
      "-0.00270462\n"
     ]
    }
   ],
   "source": [
    "print(1.63901e2)\n",
    "print(-2.70462e-3)"
   ]
  },
  {
   "cell_type": "code",
   "execution_count": 16,
   "id": "534053df",
   "metadata": {},
   "outputs": [
    {
     "name": "stdout",
     "output_type": "stream",
     "text": [
      "2520000.0\n",
      "2520000.0\n",
      "2520000.0\n"
     ]
    }
   ],
   "source": [
    "# are all equal\n",
    "\n",
    "print ( 1.2e5 + 2.4e6 )\n",
    "# can also be written as\n",
    "print ( 0.12e6 + 2.4e6 )\n",
    "# Adding the numbers can now be done by 0.12 + 2.4 = 2.52 and adding the exponent e6 to the end\n",
    "print ( 2.52e6 )"
   ]
  },
  {
   "cell_type": "markdown",
   "id": "47585dd6",
   "metadata": {},
   "source": [
    "##### note\n",
    "    Internt i Python bruger man 2 istedet for 10"
   ]
  },
  {
   "cell_type": "code",
   "execution_count": 17,
   "id": "0c34721c",
   "metadata": {},
   "outputs": [
    {
     "data": {
      "text/plain": [
       "64"
      ]
     },
     "execution_count": 17,
     "metadata": {},
     "output_type": "execute_result"
    }
   ],
   "source": [
    "import numpy as np\n",
    "np.finfo(float).bits"
   ]
  },
  {
   "cell_type": "markdown",
   "id": "23156cf4",
   "metadata": {},
   "source": [
    "#### Machine epsilon\n",
    "    ɛ_machine > 0 er nøjagtigheden af float\n",
    "    float_tiny er det mindste tal > 0"
   ]
  },
  {
   "cell_type": "code",
   "execution_count": 18,
   "id": "584c27ae",
   "metadata": {},
   "outputs": [
    {
     "data": {
      "text/plain": [
       "2.220446049250313e-16"
      ]
     },
     "execution_count": 18,
     "metadata": {},
     "output_type": "execute_result"
    }
   ],
   "source": [
    "np.finfo(float).eps #machine epsilon"
   ]
  },
  {
   "cell_type": "code",
   "execution_count": 19,
   "id": "b2adbc10",
   "metadata": {},
   "outputs": [
    {
     "data": {
      "text/plain": [
       "2.2250738585072014e-308"
      ]
     },
     "execution_count": 19,
     "metadata": {},
     "output_type": "execute_result"
    }
   ],
   "source": [
    "np.finfo(float).tiny # Smallest number greater than 0"
   ]
  },
  {
   "cell_type": "markdown",
   "id": "0952b77b",
   "metadata": {},
   "source": [
    "#### Sigmoid, overflow og underflow\n",
    "Det kan nogle gange være nødvendigt at omskrive tal, fordi nogle af repræsentationerne ikke kan forståes af Python. Enten fordi det er for stort(overflow) eller for lille(underflow).\n",
    "\n",
    "\n",
    "    Sigmoid = exp(x) / (1 + exp(x)) = 1 / (exp(-x) + 1)\n",
    "    Da 1 / exp(x) = exp(-x)\n",
    "    \n",
    "- Resultater af regneoperationer med tal af type float skal generelt afrundes for at give et svar der igen er af type float.\n",
    "- Resultater der er for store kan ikke repræsenteres som float; dette kaldes overflow.\n",
    "- Resultater der er for tæt på 0 riskærer at blive afrundet til 0.0; dette kaldes underflow\n"
   ]
  },
  {
   "cell_type": "markdown",
   "id": "156eecf0",
   "metadata": {},
   "source": [
    "#### Precision\n",
    "\n",
    "For en ideal implementering af float findes:\n",
    "\n",
    "    for x findes der float(x) af type float der repræsenterer x inden for fejl højst (ɛ_machine / 2)\n",
    "dvs\n",
    "\n",
    "    float(x) = x(1+δ_x)\n",
    "med fejl δ_x, hvor\n",
    "    \n",
    "    |δ_x| <= ɛ_machine / 2\n",
    "og dermed\n",
    "\n",
    "    |float(x) - x| <= |x|ɛ_machine / 2\n",
    "    \n",
    "Det samme skal gælde for operationerne +,-,/,*,√\n",
    "\n",
    "#### Note\n",
    "Hvis man trækker to tal der er tætte på hinanden er der stor chance for fejl (eksempel med rødder i andengradspolynomie)"
   ]
  },
  {
   "cell_type": "code",
   "execution_count": 20,
   "id": "31922dad",
   "metadata": {},
   "outputs": [
    {
     "data": {
      "text/plain": [
       "15"
      ]
     },
     "execution_count": 20,
     "metadata": {},
     "output_type": "execute_result"
    }
   ],
   "source": [
    "np.finfo(float).precision # The number of correct decimals"
   ]
  },
  {
   "attachments": {},
   "cell_type": "markdown",
   "id": "6d249663",
   "metadata": {},
   "source": [
    "# Vektorer & Plangeometri\n",
    "    Længde  : |O->P| = r = sqrt(x^2+y^2)\n",
    "    Vinklen : θ bestemmes af \n",
    "        c = cos(θ) = x/r\n",
    "        s = sin(θ) = y/r\n",
    "Vektoren v = (x,y) har norm\n",
    "\n",
    "    ||v||_2 = ||(x,y)||_2 = sqrt(x^2+y^2)\n",
    "    \n",
    "## Normalisering af vektorer\n",
    "\n",
    "    w = 1/(||v||_2) = (x / sqrt(x^2+y^2) , y / sqrt(x^2+y^2)) = (c, s)\n",
    "    Længden af denne vektor er 1\n",
    "    \n",
    "## Bestemmelse af vektoren\n",
    "    \n",
    "    v = ||v||_2 * w = r(c, s) = (r*c, r*s)\n",
    "    \n",
    "## Indre produkt\n",
    "    \n",
    "    u = (a,b) og v = (x,y) deres inder produkt er\n",
    "    <u,v> = < (a,b) , (x,y) > = ax + by\n",
    "    \n",
    "    Lad w = (cos(θ), sin(θ)) og\n",
    "        z = (cos(φ), sin(φ)) være enhedsvektorer\n",
    "    Da vil\n",
    "    <w, z>= <(cos(θ), sin(θ)) , (cos(φ), sin(φ))>\n",
    "          = cos(θ)cos(φ) + sin(θ)sin(φ)\n",
    "          = cos(φ - θ)\n",
    "          \n",
    "#### Generalt\n",
    "    \n",
    "    <u, v> = ||u||_2 ||v||_2 cos(a)\n",
    "    hvor a er vinklen mellem u og v\n",
    "    \n",
    "#### Bemærk\n",
    "    \n",
    "    <v, v> = < (x,y) , (x,y) > = x^2 + y^2 = ||v||^2_2\n",
    "    og dermed\n",
    "    ||v||_2 = sqrt( <v, v> )\n",
    "\n",
    "## Række-søjleprodukt\n",
    "    u^Tu = xx + yy = <u, u>\n",
    "    \n",
    "## Matrix-vektor produkt\n",
    "    A = (x,y)a = (ax, ay)\n",
    "## Rotation\n",
    "    R = [(c, -s), (s, c)\n",
    "## Mirroring\n",
    "    M = [(c, s), (s, -c)]"
   ]
  },
  {
   "cell_type": "code",
   "execution_count": null,
   "id": "76c6266f",
   "metadata": {},
   "outputs": [],
   "source": [
    "\n"
   ]
  }
 ],
 "metadata": {
  "kernelspec": {
   "display_name": "Python 3 (ipykernel)",
   "language": "python",
   "name": "python3"
  },
  "language_info": {
   "codemirror_mode": {
    "name": "ipython",
    "version": 3
   },
   "file_extension": ".py",
   "mimetype": "text/x-python",
   "name": "python",
   "nbconvert_exporter": "python",
   "pygments_lexer": "ipython3",
   "version": "3.9.5"
  }
 },
 "nbformat": 4,
 "nbformat_minor": 5
}
