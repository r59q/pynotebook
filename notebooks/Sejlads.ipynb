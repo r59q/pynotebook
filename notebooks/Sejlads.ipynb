{
 "cells": [
  {
   "cell_type": "code",
   "execution_count": 10,
   "id": "a5ffcd42",
   "metadata": {},
   "outputs": [
    {
     "name": "stdout",
     "output_type": "stream",
     "text": [
      "3.0 timer 27.0 minutter\n"
     ]
    }
   ],
   "source": [
    "import numpy as np\n",
    "def tid(dist):\n",
    "    result = (60*dist)/6.0\n",
    "    timer = np.floor(result / 60.0)\n",
    "    minutter = result % 60\n",
    "    print(timer , \"timer\" , minutter,  \"minutter\")\n",
    "\n",
    "tid(20.7)"
   ]
  },
  {
   "cell_type": "code",
   "execution_count": 11,
   "id": "f91297c3",
   "metadata": {},
   "outputs": [
    {
     "name": "stdout",
     "output_type": "stream",
     "text": [
      "2.0 timer 15.0 minutter\n"
     ]
    }
   ],
   "source": [
    "tid(13.5)"
   ]
  },
  {
   "cell_type": "code",
   "execution_count": 12,
   "id": "1a33c079",
   "metadata": {},
   "outputs": [
    {
     "name": "stdout",
     "output_type": "stream",
     "text": [
      "1.0 timer 41.0 minutter\n"
     ]
    }
   ],
   "source": [
    "tid(10.1)"
   ]
  },
  {
   "cell_type": "code",
   "execution_count": 13,
   "id": "87687c42",
   "metadata": {},
   "outputs": [
    {
     "name": "stdout",
     "output_type": "stream",
     "text": [
      "0.0 timer 54.0 minutter\n"
     ]
    }
   ],
   "source": [
    "tid(5.4)"
   ]
  },
  {
   "cell_type": "code",
   "execution_count": 14,
   "id": "cb9f1e56",
   "metadata": {},
   "outputs": [
    {
     "name": "stdout",
     "output_type": "stream",
     "text": [
      "0.0 timer 8.0 minutter\n"
     ]
    }
   ],
   "source": [
    "tid(0.8)"
   ]
  },
  {
   "cell_type": "code",
   "execution_count": 17,
   "id": "be840ef5",
   "metadata": {},
   "outputs": [
    {
     "name": "stdout",
     "output_type": "stream",
     "text": [
      "31.0 timer 30.0 minutter\n"
     ]
    }
   ],
   "source": [
    "tid(189)"
   ]
  },
  {
   "cell_type": "code",
   "execution_count": 18,
   "id": "99df5376",
   "metadata": {},
   "outputs": [
    {
     "data": {
      "text/plain": [
       "10.4"
      ]
     },
     "execution_count": 18,
     "metadata": {},
     "output_type": "execute_result"
    }
   ],
   "source": [
    "2.9 + 7.5"
   ]
  },
  {
   "cell_type": "code",
   "execution_count": 19,
   "id": "8a793624",
   "metadata": {},
   "outputs": [
    {
     "data": {
      "text/plain": [
       "10.299999999999999"
      ]
     },
     "execution_count": 19,
     "metadata": {},
     "output_type": "execute_result"
    }
   ],
   "source": [
    "20.7-10.4"
   ]
  },
  {
   "cell_type": "code",
   "execution_count": 20,
   "id": "ca848904",
   "metadata": {},
   "outputs": [
    {
     "name": "stdout",
     "output_type": "stream",
     "text": [
      "1.0 timer 43.0 minutter\n"
     ]
    }
   ],
   "source": [
    "tid(10.3)"
   ]
  },
  {
   "cell_type": "code",
   "execution_count": 21,
   "id": "c5a44988",
   "metadata": {},
   "outputs": [
    {
     "data": {
      "text/plain": [
       "8.6"
      ]
     },
     "execution_count": 21,
     "metadata": {},
     "output_type": "execute_result"
    }
   ],
   "source": [
    "2.9 + 5.7"
   ]
  },
  {
   "cell_type": "code",
   "execution_count": 22,
   "id": "67c03b3e",
   "metadata": {},
   "outputs": [
    {
     "data": {
      "text/plain": [
       "9.8"
      ]
     },
     "execution_count": 22,
     "metadata": {},
     "output_type": "execute_result"
    }
   ],
   "source": [
    "2.9 + 6.9"
   ]
  },
  {
   "cell_type": "code",
   "execution_count": 23,
   "id": "bbf4e6fe",
   "metadata": {},
   "outputs": [
    {
     "data": {
      "text/plain": [
       "3.6999999999999993"
      ]
     },
     "execution_count": 23,
     "metadata": {},
     "output_type": "execute_result"
    }
   ],
   "source": [
    "13.5-9.8"
   ]
  },
  {
   "cell_type": "code",
   "execution_count": 24,
   "id": "e59fdde0",
   "metadata": {},
   "outputs": [
    {
     "name": "stdout",
     "output_type": "stream",
     "text": [
      "0.0 timer 37.0 minutter\n"
     ]
    }
   ],
   "source": [
    "tid (3.7)"
   ]
  },
  {
   "cell_type": "code",
   "execution_count": 25,
   "id": "f0185138",
   "metadata": {},
   "outputs": [
    {
     "data": {
      "text/plain": [
       "9.3"
      ]
     },
     "execution_count": 25,
     "metadata": {},
     "output_type": "execute_result"
    }
   ],
   "source": [
    "2.9 + 6.4"
   ]
  },
  {
   "cell_type": "code",
   "execution_count": 26,
   "id": "379a22e8",
   "metadata": {},
   "outputs": [
    {
     "data": {
      "text/plain": [
       "6.199999999999999"
      ]
     },
     "execution_count": 26,
     "metadata": {},
     "output_type": "execute_result"
    }
   ],
   "source": [
    "(10.1+5.4) - 9.3"
   ]
  },
  {
   "cell_type": "code",
   "execution_count": 27,
   "id": "a93d3c1a",
   "metadata": {},
   "outputs": [
    {
     "data": {
      "text/plain": [
       "3.8999999999999995"
      ]
     },
     "execution_count": 27,
     "metadata": {},
     "output_type": "execute_result"
    }
   ],
   "source": [
    "10.1-6.2"
   ]
  },
  {
   "cell_type": "code",
   "execution_count": 28,
   "id": "af009f24",
   "metadata": {},
   "outputs": [
    {
     "name": "stdout",
     "output_type": "stream",
     "text": [
      "0.0 timer 39.0 minutter\n"
     ]
    }
   ],
   "source": [
    "tid (3.9)"
   ]
  },
  {
   "cell_type": "code",
   "execution_count": 29,
   "id": "86d8ecc9",
   "metadata": {},
   "outputs": [
    {
     "data": {
      "text/plain": [
       "21"
      ]
     },
     "execution_count": 29,
     "metadata": {},
     "output_type": "execute_result"
    }
   ],
   "source": [
    "(42 + 39)% 60"
   ]
  },
  {
   "cell_type": "code",
   "execution_count": null,
   "id": "b3445ab7",
   "metadata": {},
   "outputs": [],
   "source": []
  }
 ],
 "metadata": {
  "kernelspec": {
   "display_name": "Python 3 (ipykernel)",
   "language": "python",
   "name": "python3"
  },
  "language_info": {
   "codemirror_mode": {
    "name": "ipython",
    "version": 3
   },
   "file_extension": ".py",
   "mimetype": "text/x-python",
   "name": "python",
   "nbconvert_exporter": "python",
   "pygments_lexer": "ipython3",
   "version": "3.9.5"
  }
 },
 "nbformat": 4,
 "nbformat_minor": 5
}
