{
 "cells": [
  {
   "cell_type": "markdown",
   "id": "5115299e",
   "metadata": {},
   "source": [
    "# Handin 3\n",
    "   ### Andreas Malthe Henriksen ( 202004107 )"
   ]
  },
  {
   "cell_type": "markdown",
   "id": "9cd1a0e4",
   "metadata": {},
   "source": [
    "You've built a drone, but it has a problem overheating. Temperature measurements were taken.\n",
    "\n",
    "<table>\n",
    "    <tr>\n",
    "        <td>Time (minutes)</td>\n",
    "        <td>2</td>\n",
    "        <td>5</td>\n",
    "        <td>8</td>\n",
    "        <td>10</td>\n",
    "        <td>11</td>\n",
    "    </tr>\n",
    "    <tr>\n",
    "        <td>Temperature (celcius)</td>\n",
    "        <td>35</td>\n",
    "        <td>40</td>\n",
    "        <td>50</td>\n",
    "        <td>65</td>\n",
    "        <td>70</td>\n",
    "    </tr>\n",
    "</table>\n",
    "\n",
    "#### (a) Plot the observed data"
   ]
  },
  {
   "cell_type": "code",
   "execution_count": 1,
   "id": "3ef9f104",
   "metadata": {},
   "outputs": [],
   "source": [
    "import numpy as np\n",
    "import matplotlib.pyplot as plt"
   ]
  },
  {
   "cell_type": "code",
   "execution_count": 2,
   "id": "c7869be1",
   "metadata": {},
   "outputs": [],
   "source": [
    "time = np.array([2,5,8,10,11])\n",
    "temp = np.array([35,40,50,65,70])"
   ]
  },
  {
   "cell_type": "code",
   "execution_count": 3,
   "id": "a0bdde50",
   "metadata": {
    "scrolled": true
   },
   "outputs": [
    {
     "data": {
      "text/plain": [
       "[<matplotlib.lines.Line2D at 0x1875c7d5910>]"
      ]
     },
     "execution_count": 3,
     "metadata": {},
     "output_type": "execute_result"
    },
    {
     "data": {
      "image/png": "[encoded data removed]",
      "text/plain": [
       "<Figure size 432x288 with 1 Axes>"
      ]
     },
     "metadata": {
      "needs_background": "light"
     },
     "output_type": "display_data"
    }
   ],
   "source": [
    "fig, ax = plt.subplots()\n",
    "\n",
    "ax.plot(time,temp)"
   ]
  },
  {
   "cell_type": "markdown",
   "id": "8481dc03",
   "metadata": {},
   "source": [
    "We want a good estimate as to when the temperature exceeds 55 degrees. Consider the polynomial $p(x)=a+bx+cx²$. \n",
    "#### (b) Set up a linear system of equations, such that p intersects the points given in the table above."
   ]
  },
  {
   "cell_type": "markdown",
   "id": "ddf6126f",
   "metadata": {},
   "source": [
    "$$a+8b+64c=50$$\n",
    "$$a+10b+100c=65$$\n",
    "$$a+11b+121c=70$$\n",
    "\n",
    "Will be set up using the np.arrays, like so"
   ]
  },
  {
   "cell_type": "code",
   "execution_count": 4,
   "id": "b0e64820",
   "metadata": {},
   "outputs": [
    {
     "name": "stdout",
     "output_type": "stream",
     "text": [
      "[[  1.   8.  64.  50.]\n",
      " [  1.  10. 100.  65.]\n",
      " [  1.  11. 121.  70.]] \n",
      "\n",
      " r1 <= r1 - r0\n",
      "[[  1.   8.  64.  50.]\n",
      " [  0.   2.  36.  15.]\n",
      " [  1.  11. 121.  70.]] \n",
      "\n",
      " r2 <= r2 - r0\n",
      "[[ 1.  8. 64. 50.]\n",
      " [ 0.  2. 36. 15.]\n",
      " [ 0.  3. 57. 20.]] \n",
      "\n",
      " r1 <= r1 * 0.5\n",
      "[[ 1.   8.  64.  50. ]\n",
      " [ 0.   1.  18.   7.5]\n",
      " [ 0.   3.  57.  20. ]] \n",
      "\n",
      " r2 <= r2 - 3 * r1\n",
      "[[ 1.   8.  64.  50. ]\n",
      " [ 0.   1.  18.   7.5]\n",
      " [ 0.   0.   3.  -2.5]] \n",
      "\n",
      " r2 <= (1/3) * r2\n",
      "[[ 1.          8.         64.         50.        ]\n",
      " [ 0.          1.         18.          7.5       ]\n",
      " [ 0.          0.          1.         -0.83333333]] \n",
      "\n",
      " r1 <= r1 - 18 * r2\n",
      "[[ 1.          8.         64.         50.        ]\n",
      " [ 0.          1.          0.         22.5       ]\n",
      " [ 0.          0.          1.         -0.83333333]] \n",
      "\n",
      " r0 <= r0 - 64 * r2\n",
      "[[  1.           8.           0.         103.33333333]\n",
      " [  0.           1.           0.          22.5       ]\n",
      " [  0.           0.           1.          -0.83333333]] \n",
      "\n",
      " r0 <= r0 - 8 * r1\n",
      "[[  1.           0.           0.         -76.66666667]\n",
      " [  0.           1.           0.          22.5       ]\n",
      " [  0.           0.           1.          -0.83333333]] \n",
      "\n",
      "\n"
     ]
    }
   ],
   "source": [
    "m = np.array([\n",
    "    [1., 8.,  64.,  50.],\n",
    "    [1., 10., 100,  65.],\n",
    "    [1., 11., 121., 70.]\n",
    "])\n",
    "\n",
    "print(m, \"\\n\\n r1 <= r1 - r0\")\n",
    "m[1,:] -= m[0,:]\n",
    "print(m, \"\\n\\n r2 <= r2 - r0\")\n",
    "m[2,:] -= m[0,:]\n",
    "print(m, \"\\n\\n r1 <= r1 * 0.5\")\n",
    "m[1,:] = m[1,:] * 0.5 \n",
    "print(m, \"\\n\\n r2 <= r2 - 3 * r1\")\n",
    "m[2,:] -= 3* m[1,:] \n",
    "print(m, \"\\n\\n r2 <= (1/3) * r2\")\n",
    "m[2,:] = (1/3.) * m[2,:] \n",
    "print(m, \"\\n\\n r1 <= r1 - 18 * r2\")\n",
    "m[1,:] -= 18 * m[2,:]\n",
    "print(m, \"\\n\\n r0 <= r0 - 64 * r2\")\n",
    "m[0,:] -= 64 * m[2,:]\n",
    "print(m, \"\\n\\n r0 <= r0 - 8 * r1\")\n",
    "m[0,:] -= 8 * m[1,:] \n",
    "print(m, \"\\n\\n\")"
   ]
  },
  {
   "cell_type": "markdown",
   "id": "dcd67b2b",
   "metadata": {},
   "source": [
    "And we can read out the results\n",
    "$$a=-76.667$$\n",
    "$$b=22.5$$\n",
    "$$c=-0.833$$"
   ]
  },
  {
   "cell_type": "code",
   "execution_count": 5,
   "id": "30eecd63",
   "metadata": {},
   "outputs": [
    {
     "data": {
      "text/plain": [
       "[<matplotlib.lines.Line2D at 0x1875e8e5640>]"
      ]
     },
     "execution_count": 5,
     "metadata": {},
     "output_type": "execute_result"
    },
    {
     "data": {
      "image/png": "[encoded data removed]",
      "text/plain": [
       "<Figure size 432x288 with 1 Axes>"
      ]
     },
     "metadata": {
      "needs_background": "light"
     },
     "output_type": "display_data"
    }
   ],
   "source": [
    "fig, ax = plt.subplots()\n",
    "plt.xlim(2.,12.)\n",
    "plt.ylim(20.,80.)\n",
    "\n",
    "lin = np.linspace(0.,12.,24)\n",
    "def p0(x):\n",
    "    return -76.667 + 22.5 * x -0.833 * x**2\n",
    "\n",
    "ax.plot(time,temp)\n",
    "ax.plot(lin, p0(lin))"
   ]
  },
  {
   "cell_type": "markdown",
   "id": "465f3f9c",
   "metadata": {},
   "source": [
    "#### (c) Suppose we wanted a polynomium $p(x)$ that intersects all points, what is the minimal degree possible for $p(x)$? Plot the result.\n",
    "\n",
    "To solve this, I will use, as adviced, the linalg.solve function."
   ]
  },
  {
   "cell_type": "code",
   "execution_count": 6,
   "id": "c2e90008",
   "metadata": {},
   "outputs": [
    {
     "name": "stdout",
     "output_type": "stream",
     "text": [
      "[-1.97530864 32.85493827 -9.09722222  1.03395062 -0.03858025]\n"
     ]
    }
   ],
   "source": [
    "# a + bx + cx² + dx³ + ex⁴\n",
    "p1 = np.array([1.,2., 4.,8.,    16.])\n",
    "p2 = np.array([1.,5., 25., 125.,  625.])\n",
    "p3 = np.array([1.,8., 64., 512.,  4096.])\n",
    "p4 = np.array([1.,10.,100.,1000., 10000.])\n",
    "p5 = np.array([1.,11.,121.,1331., 14641.])\n",
    "\n",
    "ps = np.array([p1,p2,p3,p4,p5])\n",
    "r = np.array([35.,40.,50.,65.,70.]) # y-vals\n",
    "\n",
    "solve = np.linalg.solve(ps,r)\n",
    "\n",
    "print(solve)"
   ]
  },
  {
   "cell_type": "markdown",
   "id": "f73e48a7",
   "metadata": {},
   "source": [
    "The resulting polynomial will be \n",
    "$$p(x)=-1.97530864 + 32.85493827x - 9.09722222x^2 +  1.03395062x^3 - 0.03858025x^4$$"
   ]
  },
  {
   "cell_type": "markdown",
   "id": "e6db454a",
   "metadata": {},
   "source": [
    "Then the result is plotted."
   ]
  },
  {
   "cell_type": "code",
   "execution_count": 7,
   "id": "851e5e9d",
   "metadata": {
    "scrolled": true
   },
   "outputs": [
    {
     "data": {
      "text/plain": [
       "[<matplotlib.lines.Line2D at 0x1875e94d730>]"
      ]
     },
     "execution_count": 7,
     "metadata": {},
     "output_type": "execute_result"
    },
    {
     "data": {
      "image/png": "[encoded data removed]",
      "text/plain": [
       "<Figure size 432x288 with 1 Axes>"
      ]
     },
     "metadata": {
      "needs_background": "light"
     },
     "output_type": "display_data"
    }
   ],
   "source": [
    "fig, ax = plt.subplots()\n",
    "plt.xlim(2.,12.)\n",
    "plt.ylim(20.,80.)\n",
    "\n",
    "lin = np.linspace(0.,12.,24)\n",
    "def p(x):\n",
    "    return (-1.97530864 + \n",
    "            32.85493827 * x -\n",
    "            9.09722222  * x**2 +\n",
    "            1.03395062  * x**3 -\n",
    "            0.03858025  * x**4 )\n",
    "\n",
    "ax.plot(time,temp)\n",
    "ax.plot(lin, p(lin))"
   ]
  },
  {
   "cell_type": "markdown",
   "id": "005c338a",
   "metadata": {},
   "source": [
    "To argue that the 4-degree polynomial above is the lowest degree solution I will set up a system of equations and solve it to reveal a contradiction.\n",
    "\n",
    "I will do this in the following python snippet.\n"
   ]
  },
  {
   "cell_type": "code",
   "execution_count": 8,
   "id": "30fac43e",
   "metadata": {
    "scrolled": true
   },
   "outputs": [
    {
     "name": "stdout",
     "output_type": "stream",
     "text": [
      "[[   1.    2.    4.    8.   35.]\n",
      " [   1.    5.   25.  125.   40.]\n",
      " [   1.    8.   64.  512.   50.]\n",
      " [   1.   10.  100. 1000.   65.]\n",
      " [   1.   11.  121. 1331.   70.]] \n",
      "\n",
      "\n",
      "r1 <= r1 - r0\n",
      "[[   1.    2.    4.    8.   35.]\n",
      " [   0.    3.   21.  117.    5.]\n",
      " [   1.    8.   64.  512.   50.]\n",
      " [   1.   10.  100. 1000.   65.]\n",
      " [   1.   11.  121. 1331.   70.]] \n",
      "\n",
      "\n",
      "r2 <= r2 - r0\n",
      "[[   1.    2.    4.    8.   35.]\n",
      " [   0.    3.   21.  117.    5.]\n",
      " [   0.    6.   60.  504.   15.]\n",
      " [   1.   10.  100. 1000.   65.]\n",
      " [   1.   11.  121. 1331.   70.]] \n",
      "\n",
      "\n",
      "r3 <= r3 - r0\n",
      "[[   1.    2.    4.    8.   35.]\n",
      " [   0.    3.   21.  117.    5.]\n",
      " [   0.    6.   60.  504.   15.]\n",
      " [   0.    8.   96.  992.   30.]\n",
      " [   1.   11.  121. 1331.   70.]] \n",
      "\n",
      "\n",
      "r4 <= r4 - r0\n",
      "[[   1.    2.    4.    8.   35.]\n",
      " [   0.    3.   21.  117.    5.]\n",
      " [   0.    6.   60.  504.   15.]\n",
      " [   0.    8.   96.  992.   30.]\n",
      " [   0.    9.  117. 1323.   35.]] \n",
      "\n",
      "\n",
      "r1 <= 1/3 r1\n",
      "[[   1.      2.      4.      8.     35.  ]\n",
      " [   0.      1.      7.     39.      1.67]\n",
      " [   0.      6.     60.    504.     15.  ]\n",
      " [   0.      8.     96.    992.     30.  ]\n",
      " [   0.      9.    117.   1323.     35.  ]] \n",
      "\n",
      "\n",
      "r2 <= r2 - 6r1\n",
      "[[   1.      2.      4.      8.     35.  ]\n",
      " [   0.      1.      7.     39.      1.67]\n",
      " [   0.      0.     18.    270.      5.  ]\n",
      " [   0.      8.     96.    992.     30.  ]\n",
      " [   0.      9.    117.   1323.     35.  ]] \n",
      "\n",
      "\n",
      "r3 <= r3 - 8r1\n",
      "[[   1.      2.      4.      8.     35.  ]\n",
      " [   0.      1.      7.     39.      1.67]\n",
      " [   0.      0.     18.    270.      5.  ]\n",
      " [   0.      0.     40.    680.     16.67]\n",
      " [   0.      9.    117.   1323.     35.  ]] \n",
      "\n",
      "\n",
      "r4 <= r4 - 9r1\n",
      "[[  1.     2.     4.     8.    35.  ]\n",
      " [  0.     1.     7.    39.     1.67]\n",
      " [  0.     0.    18.   270.     5.  ]\n",
      " [  0.     0.    40.   680.    16.67]\n",
      " [  0.     0.    54.   972.    20.  ]] \n",
      "\n",
      "\n",
      "r2 <= 1/18 r2\n",
      "[[  1.     2.     4.     8.    35.  ]\n",
      " [  0.     1.     7.    39.     1.67]\n",
      " [  0.     0.     1.    15.     0.28]\n",
      " [  0.     0.    40.   680.    16.67]\n",
      " [  0.     0.    54.   972.    20.  ]] \n",
      "\n",
      "\n",
      "r3 <= r3 - 40r2\n",
      "[[  1.     2.     4.     8.    35.  ]\n",
      " [  0.     1.     7.    39.     1.67]\n",
      " [  0.     0.     1.    15.     0.28]\n",
      " [  0.     0.     0.    80.     5.56]\n",
      " [  0.     0.    54.   972.    20.  ]] \n",
      "\n",
      "\n",
      "r4 <= r4 - 54r2\n",
      "[[  1.     2.     4.     8.    35.  ]\n",
      " [  0.     1.     7.    39.     1.67]\n",
      " [  0.     0.     1.    15.     0.28]\n",
      " [  0.     0.     0.    80.     5.56]\n",
      " [  0.     0.     0.   162.     5.  ]] \n",
      "\n",
      "\n",
      "r3 <= 1/80 r3 \n",
      "[[  1.     2.     4.     8.    35.  ]\n",
      " [  0.     1.     7.    39.     1.67]\n",
      " [  0.     0.     1.    15.     0.28]\n",
      " [  0.     0.     0.     1.     0.07]\n",
      " [  0.     0.     0.   162.     5.  ]] \n",
      "\n",
      "\n",
      "r4 <= r4 - 162r3\n",
      "[[ 1.    2.    4.    8.   35.  ]\n",
      " [ 0.    1.    7.   39.    1.67]\n",
      " [ 0.    0.    1.   15.    0.28]\n",
      " [ 0.    0.    0.    1.    0.07]\n",
      " [ 0.    0.    0.    0.   -6.25]] \n",
      "\n",
      "\n"
     ]
    }
   ],
   "source": [
    "np.set_printoptions(suppress=True)\n",
    "# a + bx + cx² + dx³\n",
    "p1 = np.array([1.0,2.0, 4.0,8.0, 35.0])\n",
    "p2 = np.array([1.0,5.0, 25.0, 125.0, 40.0])\n",
    "p3 = np.array([1.0,8.0, 64.0, 512.0, 50.0])\n",
    "p4 = np.array([1.0,10.0,100.0,1000.0, 65.0])\n",
    "p5 = np.array([1.0,11.0,121.0,1331.0, 70.0])\n",
    "\n",
    "ps = np.array([p1,p2,p3,p4,p5])\n",
    "print(ps, \"\\n\\n\")\n",
    "\n",
    "ps[1,:] += -ps[0,:]\n",
    "print(\"r1 <= r1 - r0\");print(ps,\"\\n\\n\")\n",
    "\n",
    "ps[2,:] += -ps[0,:]\n",
    "print(\"r2 <= r2 - r0\");print(ps,\"\\n\\n\")\n",
    "\n",
    "ps[3,:] += -ps[0,:]\n",
    "print(\"r3 <= r3 - r0\");print(ps,\"\\n\\n\")\n",
    "\n",
    "ps[4,:] += -ps[0,:]\n",
    "print(\"r4 <= r4 - r0\");print(ps,\"\\n\\n\")\n",
    "\n",
    "ps[1,:] = 1/3 * ps[1,:]\n",
    "print(\"r1 <= 1/3 r1\");print(np.around(ps,2),\"\\n\\n\")\n",
    "\n",
    "ps[2,:] += -6*ps[1,:]\n",
    "print(\"r2 <= r2 - 6r1\");print(np.around(ps,2),\"\\n\\n\")\n",
    "\n",
    "ps[3,:] += -8*ps[1,:]\n",
    "print(\"r3 <= r3 - 8r1\");print(np.around(ps,2),\"\\n\\n\")\n",
    "\n",
    "ps[4,:] += -9*ps[1,:]\n",
    "print(\"r4 <= r4 - 9r1\");print(np.around(ps,2),\"\\n\\n\")\n",
    "\n",
    "ps[2,:] = 1/18 * ps[2,:]\n",
    "print(\"r2 <= 1/18 r2\");print(np.around(ps,2),\"\\n\\n\")\n",
    "\n",
    "ps[3,:] += -40*ps[2,:]\n",
    "print(\"r3 <= r3 - 40r2\");print(np.around(ps,2),\"\\n\\n\")\n",
    "\n",
    "ps[4,:] += -54*ps[2,:]\n",
    "print(\"r4 <= r4 - 54r2\");print(np.around(ps,2),\"\\n\\n\")\n",
    "\n",
    "ps[3,:] = 1/80*ps[3,:]\n",
    "print(\"r3 <= 1/80 r3 \");print(np.around(ps,2),\"\\n\\n\")\n",
    "\n",
    "ps[4,:] += -162*ps[3,:]\n",
    "print(\"r4 <= r4 - 162r3\");print(np.around(ps,2),\"\\n\\n\")"
   ]
  },
  {
   "cell_type": "markdown",
   "id": "81c7362b",
   "metadata": {},
   "source": [
    "At this point we stop, because the last line of the matrix, when unpacked says\n",
    "\n",
    "$$0=-6.25$$\n",
    "\n",
    "Which is a contradiction. Therefore no solution to a third degree polynomial can be found."
   ]
  },
  {
   "cell_type": "markdown",
   "id": "e01a2f88",
   "metadata": {},
   "source": [
    "Another approach is to make multiple polynomials to represent different intervals of the graph.\n",
    "\n",
    "#### (d) Set up a system of linear equations for the function $f$\n",
    "\n",
    "$$f(x) = \\begin{cases} p_1(x) & \\text{for } 5.0\\leq x \\leq 8.0 \\\\\n",
    "                      p_2(x)  & \\text{for } 8.0\\leq x \\leq 10.0\n",
    "        \\end{cases}$$\n",
    "Where $p_1(x)$ intersects the points at 5 and 8, and where $p_2(x)$ intersects the points at 8 and 10. At $x=8$, the functions $p_1(x)$ and $p_2(x)$ should have the same slope, i.e $p_1'(8)=p_2'(8)$\n",
    "\n",
    "First we find the functions $p_1(x)$ and $p_2(x)$"
   ]
  },
  {
   "cell_type": "markdown",
   "id": "3a4567ec",
   "metadata": {},
   "source": [
    "Let $$p_1(x)=a+bx+cx^2$$\n",
    "Let $$p_2(x)=m+nx+lx^2$$\n",
    "\n",
    "$$a+5b+25c=40$$\n",
    "$$a+8b+64c=50$$\n",
    "$$m+8n+64l=50$$\n",
    "$$m + 10n+ 100l= 65$$\n",
    "\n",
    "\n",
    "$$p_1'(8)=p_2'(8)$$\n",
    "$$\\implies$$\n",
    "$$16c+b =16l+n$$\n",
    "$$\\implies$$\n",
    "$$16c+b - (16l+n) = 0$$\n",
    "$$\\implies$$\n",
    "$$16c+b - 16l-n = 0$$\n",
    "\n",
    "$$\n",
    "\\begin{bmatrix}\n",
    "    1 & 5 & 25 & 0 & 0 & 0\\\\\n",
    "    1 & 8 & 64 & 0 & 0 & 0\\\\\n",
    "    0 & 0 & 0 & 1 & 8 & 64\\\\\n",
    "    0 & 0 & 0 & 1 & 10 & 100\\\\\n",
    "    0 & 1 & 16 & 0 & -1 & -16\\\\\n",
    "    0 & 0 & 0 & 0 & 0 & 0\n",
    "\\end{bmatrix}\n",
    "\\begin{bmatrix}\n",
    "    a\\\\b\\\\c\\\\m\\\\n\\\\l\n",
    "\\end{bmatrix}=\n",
    "\\begin{bmatrix}40\\\\50\\\\50\\\\60\\\\0\\\\0\\end{bmatrix}\n",
    "$$\n"
   ]
  },
  {
   "cell_type": "code",
   "execution_count": 9,
   "id": "7cc078ca",
   "metadata": {},
   "outputs": [
    {
     "name": "stdout",
     "output_type": "stream",
     "text": [
      "Represented in python\n",
      " [[  1.   5.  25.   0.   0.   0.  40.]\n",
      " [  1.   8.  64.   0.   0.   0.  50.]\n",
      " [  0.   0.   0.   1.   8.  64.  50.]\n",
      " [  0.   0.   0.   1.  10. 100.  60.]\n",
      " [  0.   1.  16.   0.  -1. -16.   0.]\n",
      " [  0.   0.   0.   0.   0.   0.   0.]]\n",
      "\n",
      "\n",
      " Swap r2 & r4\n",
      " [[  1.   5.  25.   0.   0.   0.  40.]\n",
      " [  1.   8.  64.   0.   0.   0.  50.]\n",
      " [  0.   1.  16.   0.  -1. -16.   0.]\n",
      " [  0.   0.   0.   1.  10. 100.  60.]\n",
      " [  0.   0.   0.   1.   8.  64.  50.]\n",
      " [  0.   0.   0.   0.   0.   0.   0.]]\n",
      "\n",
      "\n",
      " r1 <= r1 - r0 \n",
      " [[  1.   5.  25.   0.   0.   0.  40.]\n",
      " [  0.   3.  39.   0.   0.   0.  10.]\n",
      " [  0.   1.  16.   0.  -1. -16.   0.]\n",
      " [  0.   0.   0.   1.  10. 100.  60.]\n",
      " [  0.   0.   0.   1.   8.  64.  50.]\n",
      " [  0.   0.   0.   0.   0.   0.   0.]]\n",
      "\n",
      "\n",
      " r1 <= r1 * 1/3 \n",
      " [[  1.     5.    25.     0.     0.     0.    40.  ]\n",
      " [  0.     1.    13.     0.     0.     0.     3.33]\n",
      " [  0.     1.    16.     0.    -1.   -16.     0.  ]\n",
      " [  0.     0.     0.     1.    10.   100.    60.  ]\n",
      " [  0.     0.     0.     1.     8.    64.    50.  ]\n",
      " [  0.     0.     0.     0.     0.     0.     0.  ]]\n",
      "\n",
      "\n",
      " r2 <= r2 - r1 \n",
      " [[  1.     5.    25.     0.     0.     0.    40.  ]\n",
      " [  0.     1.    13.     0.     0.     0.     3.33]\n",
      " [  0.     0.     3.     0.    -1.   -16.    -3.33]\n",
      " [  0.     0.     0.     1.    10.   100.    60.  ]\n",
      " [  0.     0.     0.     1.     8.    64.    50.  ]\n",
      " [  0.     0.     0.     0.     0.     0.     0.  ]]\n",
      "\n",
      "\n",
      " r2 <= r2 *1/3 \n",
      " [[  1.     5.    25.     0.     0.     0.    40.  ]\n",
      " [  0.     1.    13.     0.     0.     0.     3.33]\n",
      " [  0.     0.     1.     0.    -0.33  -5.33  -1.11]\n",
      " [  0.     0.     0.     1.    10.   100.    60.  ]\n",
      " [  0.     0.     0.     1.     8.    64.    50.  ]\n",
      " [  0.     0.     0.     0.     0.     0.     0.  ]]\n",
      "\n",
      "\n",
      " r4 <= r4 - r3 \n",
      " [[  1.     5.    25.     0.     0.     0.    40.  ]\n",
      " [  0.     1.    13.     0.     0.     0.     3.33]\n",
      " [  0.     0.     1.     0.    -0.33  -5.33  -1.11]\n",
      " [  0.     0.     0.     1.    10.   100.    60.  ]\n",
      " [  0.     0.     0.     0.    -2.   -36.   -10.  ]\n",
      " [  0.     0.     0.     0.     0.     0.     0.  ]]\n",
      "\n",
      "\n",
      " r4 <= r4 * 1/2 \n",
      " [[  1.     5.    25.     0.     0.     0.    40.  ]\n",
      " [  0.     1.    13.     0.     0.     0.     3.33]\n",
      " [  0.     0.     1.     0.    -0.33  -5.33  -1.11]\n",
      " [  0.     0.     0.     1.    10.   100.    60.  ]\n",
      " [ -0.    -0.    -0.    -0.     1.    18.     5.  ]\n",
      " [  0.     0.     0.     0.     0.     0.     0.  ]]\n"
     ]
    }
   ],
   "source": [
    "p1 = np.array([1,5,25,0,0,0.,40])\n",
    "p2 = np.array([1,8,64,0,0,0.,50])\n",
    "p3 = np.array([0,0,0,1,8,64.,50])\n",
    "p4 = np.array([0,0,0,1,10,100.,60])\n",
    "p5 = np.array([0,1,16,0,-1,-16.,0])\n",
    "p6 = np.array([0,0,0,0,0,0.,0])\n",
    "\n",
    "ps = np.array([p1,p2,p3,p4,p5,p6])\n",
    "\n",
    "print(\"Represented in python\\n\", ps)\n",
    "\n",
    "temp = np.copy(ps[2,:])\n",
    "ps[2,:] = ps[2,:]=ps[4,:]\n",
    "ps[4,:] = temp\n",
    "print(\"\\n\\n Swap r2 & r4\\n\",ps)\n",
    "ps[1,:] -=ps[0,:]\n",
    "print(\"\\n\\n r1 <= r1 - r0 \\n\",ps)\n",
    "ps[1,:] = 1/3 * ps[1,:]\n",
    "print(\"\\n\\n r1 <= r1 * 1/3 \\n\",np.around(ps,2))\n",
    "ps[2,:] -= ps[1,:]\n",
    "print(\"\\n\\n r2 <= r2 - r1 \\n\",np.around(ps,2))\n",
    "ps[2,:] = 1/3*ps[2,:]\n",
    "print(\"\\n\\n r2 <= r2 *1/3 \\n\",np.around(ps,2))\n",
    "ps[4,:] -= ps[3,:]\n",
    "print(\"\\n\\n r4 <= r4 - r3 \\n\",np.around(ps,2))\n",
    "ps[4,:] = -1/2 * ps[4,:]\n",
    "print(\"\\n\\n r4 <= r4 * 1/2 \\n\",np.around(ps,2))"
   ]
  },
  {
   "cell_type": "markdown",
   "id": "196151ea",
   "metadata": {},
   "source": [
    "#### (e) Show that there are multiple solutions\n",
    "As can be observed, the pivot number of pivot elements are one less than the variables, as such there are multiple solutions. And no contradictory results occur, as in (c)\n",
    "\n",
    "#### (f) Adding a condition on $p_1'(5)$ can give a unique solution. Add a conditions, and find a unique solution, argue for your choice of constraint. Plot the result\n",
    "\n",
    "The condition that I add is $p_1'(5)=1.875$ because that is the slope at $x=5$ derived from the 3rd-degree polynomial $$f(x)\\approx28.89 +  4.31x - 0.76 x^2 + 0.069 x^3$$\n",
    "which is derived from solving the system of equations that includes the first 4 observations"
   ]
  },
  {
   "cell_type": "markdown",
   "id": "ca9b4b8e",
   "metadata": {},
   "source": [
    "$$a+5b+25c=40$$\n",
    "$$a+8b+64c=50$$\n",
    "$$m+8n+64l=50$$\n",
    "$$m + 10n+ 100l= 65$$\n",
    "$$16c+b - 16l-n = 0$$\n",
    "$$10c+b = 1.875$$\n",
    "$$\\begin{bmatrix}\n",
    "    1 & 5 & 25 & 0 & 0 & 0\\\\\n",
    "    1 & 8 & 64 & 0 & 0 & 0\\\\\n",
    "    0 & 0 & 0 & 1 & 8 & 64\\\\\n",
    "    0 & 0 & 0 & 1 & 10 & 100\\\\\n",
    "    0 & 1 & 16 & 0 & -1 & -16\\\\\n",
    "    0 & 1 & 10 & 0 & 0 & 0\n",
    "\\end{bmatrix}\n",
    "\\begin{bmatrix}\n",
    "    a\\\\b\\\\c\\\\m\\\\n\\\\l\n",
    "\\end{bmatrix}=\n",
    "\\begin{bmatrix}40\\\\50\\\\50\\\\65\\\\0\\\\1.875\\end{bmatrix}\n",
    "$$\n",
    "\n",
    "This system is solved using np.linalg.solve\n"
   ]
  },
  {
   "cell_type": "code",
   "execution_count": 10,
   "id": "a7463374",
   "metadata": {},
   "outputs": [
    {
     "name": "stdout",
     "output_type": "stream",
     "text": [
      "[ 42.77777778  -2.98611111   0.48611111  98.33333333 -16.875\n",
      "   1.35416667]\n"
     ]
    }
   ],
   "source": [
    "p1 = np.array([1,5,25,0,0,0.])\n",
    "p2 = np.array([1,8,64,0,0,0.])\n",
    "p3 = np.array([0,0,0,1,8,64.])\n",
    "p4 = np.array([0,0,0,1,10,100.])\n",
    "p5 = np.array([0,1,16,0,-1,-16.])\n",
    "p6 = np.array([0,1,10,0,0,0.])\n",
    "\n",
    "ps = np.array([p1,p2,p3,p4,p5,p6])\n",
    "\n",
    "res = np.array([40,50,50,65,0,1.875])\n",
    "\n",
    "solved = np.linalg.solve(ps,res)\n",
    "print(solved)"
   ]
  },
  {
   "cell_type": "markdown",
   "id": "b68cb56f",
   "metadata": {},
   "source": [
    "Resulting in \n",
    "\n",
    "$$a=42.778$$\n",
    "$$b=-2.986$$\n",
    "$$c=0.486$$\n",
    "$$m=98.333$$\n",
    "$$n=-16.875$$\n",
    "$$l=1.354$$\n",
    "\n",
    "Now we define the functions as"
   ]
  },
  {
   "cell_type": "code",
   "execution_count": 11,
   "id": "9ccf671d",
   "metadata": {},
   "outputs": [],
   "source": [
    "def p1(x):\n",
    "    return solved[0] + solved[1] * x + solved[2] * x**2 \n",
    "\n",
    "def p2(x):\n",
    "    return solved[3] + solved[4] * x + solved[5] * x**2\n",
    "\n",
    "def f(x):\n",
    "    if (x <= 8):\n",
    "        return p1(x)\n",
    "    else:\n",
    "        return p2(x)"
   ]
  },
  {
   "cell_type": "markdown",
   "id": "afb7aac0",
   "metadata": {},
   "source": [
    "And then we will plot the result"
   ]
  },
  {
   "cell_type": "code",
   "execution_count": 12,
   "id": "26793efe",
   "metadata": {},
   "outputs": [
    {
     "data": {
      "text/plain": [
       "[<matplotlib.lines.Line2D at 0x1875e9c5280>]"
      ]
     },
     "execution_count": 12,
     "metadata": {},
     "output_type": "execute_result"
    },
    {
     "data": {
      "image/png": "[encoded data removed]",
      "text/plain": [
       "<Figure size 432x288 with 1 Axes>"
      ]
     },
     "metadata": {
      "needs_background": "light"
     },
     "output_type": "display_data"
    }
   ],
   "source": [
    "fig, ax = plt.subplots()\n",
    "plt.xlim(2.,12.)\n",
    "plt.ylim(20.,80.)\n",
    "\n",
    "# Our observations\n",
    "time = np.array([2,5,8,10,11])\n",
    "temp = np.array([35,40,50,65,70])\n",
    "\n",
    "# Our prediction\n",
    "lin = np.linspace(2.,11.,24)\n",
    "i = 0\n",
    "pred = np.array(lin)\n",
    "for x in lin:\n",
    "    pred[i] = f(x) # Overwrite the entry with a function value.\n",
    "    i+=1\n",
    "\n",
    "# Plot the result\n",
    "ax.plot(time, temp)\n",
    "ax.plot(lin, pred)"
   ]
  },
  {
   "cell_type": "markdown",
   "id": "0b729deb",
   "metadata": {},
   "source": [
    "#### (g) Which prediction would you rather use for estimating when the temperature exceeds 55 degrees?\n",
    "\n",
    "I plot the estimators on a graph along with the data points"
   ]
  },
  {
   "cell_type": "code",
   "execution_count": 13,
   "id": "e4fddcf6",
   "metadata": {},
   "outputs": [
    {
     "data": {
      "text/plain": [
       "[<matplotlib.lines.Line2D at 0x1875ea21880>]"
      ]
     },
     "execution_count": 13,
     "metadata": {},
     "output_type": "execute_result"
    },
    {
     "data": {
      "image/png": "[encoded data removed]",
      "text/plain": [
       "<Figure size 1200x800 with 1 Axes>"
      ]
     },
     "metadata": {
      "needs_background": "light"
     },
     "output_type": "display_data"
    }
   ],
   "source": [
    "fig, ax = plt.subplots(dpi=200)\n",
    "plt.xlim(2.,12.)\n",
    "plt.ylim(20.,80.)\n",
    "\n",
    "# Plot the result\n",
    "ax.plot(time, temp)\n",
    "ax.plot(lin, pred)\n",
    "ax.plot(lin, p(lin))\n",
    "ax.plot(lin, p0(lin))"
   ]
  },
  {
   "cell_type": "markdown",
   "id": "08cd7d03",
   "metadata": {},
   "source": [
    "If we look at the space between $x=8$ and $x=10$ one can see that the quadratic polynomial follows the linear line most closely and also keeps to the trend in the end\n",
    "\n",
    "I would use this for estimating when the temperature exceeds 55 degrees."
   ]
  }
 ],
 "metadata": {
  "kernelspec": {
   "display_name": "Python 3 (ipykernel)",
   "language": "python",
   "name": "python3"
  },
  "language_info": {
   "codemirror_mode": {
    "name": "ipython",
    "version": 3
   },
   "file_extension": ".py",
   "mimetype": "text/x-python",
   "name": "python",
   "nbconvert_exporter": "python",
   "pygments_lexer": "ipython3",
   "version": "3.10.2"
  }
 },
 "nbformat": 4,
 "nbformat_minor": 5
}
